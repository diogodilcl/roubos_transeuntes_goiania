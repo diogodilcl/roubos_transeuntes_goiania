{
 "cells": [
  {
   "cell_type": "code",
   "execution_count": 1,
   "metadata": {
    "collapsed": false
   },
   "outputs": [
    {
     "name": "stderr",
     "output_type": "stream",
     "text": [
      "/Users/diogodil/anaconda/lib/python3.6/site-packages/statsmodels/compat/pandas.py:56: FutureWarning: The pandas.core.datetools module is deprecated and will be removed in a future version. Please use the pandas.tseries module instead.\n",
      "  from pandas.core import datetools\n"
     ]
    },
    {
     "data": {
      "text/plain": [
       "<Figure size 1008x864 with 0 Axes>"
      ]
     },
     "execution_count": 1,
     "metadata": {},
     "output_type": "execute_result"
    },
    {
     "data": {
      "text/plain": [
       "<Figure size 1008x864 with 0 Axes>"
      ]
     },
     "metadata": {},
     "output_type": "display_data"
    }
   ],
   "source": [
    "import numpy as np\n",
    "import pandas as pd\n",
    "import matplotlib.pyplot as plt\n",
    "import seaborn as sb\n",
    "import requests \n",
    "import time\n",
    "import datetime as dt\n",
    "from numpy import log\n",
    "import statsmodels.api as sm\n",
    "import statsmodels.tsa as tsa\n",
    "from statsmodels.tsa.stattools import adfuller\n",
    "from sklearn.metrics import mean_squared_error\n",
    "from math import sqrt\n",
    "from sklearn.metrics import r2_score\n",
    "from sklearn import neighbors\n",
    "from sklearn import linear_model\n",
    "from sklearn.tree import DecisionTreeRegressor\n",
    "from sklearn import ensemble\n",
    "\n",
    "from pandas.tools.plotting import autocorrelation_plot\n",
    "\n",
    "# statistical modeling libraries\n",
    "from statsmodels.tsa.seasonal import seasonal_decompose\n",
    "from statsmodels.tsa.stattools import adfuller\n",
    "import statsmodels.formula.api as smf\n",
    "import statsmodels.tsa.api as smt\n",
    "import statsmodels.api as sm\n",
    "import scipy.stats as scs\n",
    "from scipy.stats import boxcox\n",
    "#from arch import arch_model\n",
    "\n",
    "\n",
    "# remove warnings\n",
    "import warnings\n",
    "warnings.filterwarnings('ignore')\n",
    "\n",
    "from sklearn.metrics import accuracy_score\n",
    "%matplotlib inline\n",
    "plt.figure(figsize=(14, 12))"
   ]
  },
  {
   "cell_type": "code",
   "execution_count": 50,
   "metadata": {
    "collapsed": false
   },
   "outputs": [],
   "source": [
    "df = pd.read_csv('goiania_out_shift_2.csv',index_col=0,parse_dates=True).sort_index()"
   ]
  },
  {
   "cell_type": "code",
   "execution_count": 51,
   "metadata": {
    "collapsed": false
   },
   "outputs": [
    {
     "data": {
      "text/html": [
       "<div>\n",
       "<style scoped>\n",
       "    .dataframe tbody tr th:only-of-type {\n",
       "        vertical-align: middle;\n",
       "    }\n",
       "\n",
       "    .dataframe tbody tr th {\n",
       "        vertical-align: top;\n",
       "    }\n",
       "\n",
       "    .dataframe thead th {\n",
       "        text-align: right;\n",
       "    }\n",
       "</style>\n",
       "<table border=\"1\" class=\"dataframe\">\n",
       "  <thead>\n",
       "    <tr style=\"text-align: right;\">\n",
       "      <th></th>\n",
       "      <th>qtd</th>\n",
       "    </tr>\n",
       "  </thead>\n",
       "  <tbody>\n",
       "    <tr>\n",
       "      <th>2012-01-01</th>\n",
       "      <td>779</td>\n",
       "    </tr>\n",
       "    <tr>\n",
       "      <th>2012-02-01</th>\n",
       "      <td>791</td>\n",
       "    </tr>\n",
       "    <tr>\n",
       "      <th>2012-03-01</th>\n",
       "      <td>974</td>\n",
       "    </tr>\n",
       "    <tr>\n",
       "      <th>2012-04-01</th>\n",
       "      <td>979</td>\n",
       "    </tr>\n",
       "    <tr>\n",
       "      <th>2012-05-01</th>\n",
       "      <td>897</td>\n",
       "    </tr>\n",
       "  </tbody>\n",
       "</table>\n",
       "</div>"
      ],
      "text/plain": [
       "            qtd\n",
       "2012-01-01  779\n",
       "2012-02-01  791\n",
       "2012-03-01  974\n",
       "2012-04-01  979\n",
       "2012-05-01  897"
      ]
     },
     "execution_count": 51,
     "metadata": {},
     "output_type": "execute_result"
    }
   ],
   "source": [
    "df.head()"
   ]
  },
  {
   "cell_type": "code",
   "execution_count": 65,
   "metadata": {
    "collapsed": false
   },
   "outputs": [
    {
     "name": "stdout",
     "output_type": "stream",
     "text": [
      "                t-12      t-11      t-10       t-9       t-8       t-7  \\\n",
      "2012-02-01       NaN       NaN       NaN       NaN       NaN       NaN   \n",
      "2012-03-01       NaN       NaN       NaN       NaN       NaN       NaN   \n",
      "2012-04-01       NaN       NaN       NaN       NaN       NaN       NaN   \n",
      "2012-05-01       NaN       NaN       NaN       NaN       NaN       NaN   \n",
      "2012-06-01       NaN       NaN       NaN       NaN       NaN       NaN   \n",
      "2012-07-01       NaN       NaN       NaN       NaN       NaN       NaN   \n",
      "2012-08-01       NaN       NaN       NaN       NaN       NaN       NaN   \n",
      "2012-09-01       NaN       NaN       NaN       NaN       NaN  0.015287   \n",
      "2012-10-01       NaN       NaN       NaN       NaN  0.015287  0.208113   \n",
      "2012-11-01       NaN       NaN       NaN  0.015287  0.208113  0.005120   \n",
      "2012-12-01       NaN       NaN  0.015287  0.208113  0.005120 -0.087476   \n",
      "2013-01-01       NaN  0.015287  0.208113  0.005120 -0.087476 -0.029414   \n",
      "2013-02-01  0.015287  0.208113  0.005120 -0.087476 -0.029414 -0.425762   \n",
      "\n",
      "                 t-6       t-5       t-4       t-3       t-2       t-1  \\\n",
      "2012-02-01       NaN       NaN       NaN       NaN       NaN       NaN   \n",
      "2012-03-01       NaN       NaN       NaN       NaN       NaN  0.015287   \n",
      "2012-04-01       NaN       NaN       NaN       NaN  0.015287  0.208113   \n",
      "2012-05-01       NaN       NaN       NaN  0.015287  0.208113  0.005120   \n",
      "2012-06-01       NaN       NaN  0.015287  0.208113  0.005120 -0.087476   \n",
      "2012-07-01       NaN  0.015287  0.208113  0.005120 -0.087476 -0.029414   \n",
      "2012-08-01  0.015287  0.208113  0.005120 -0.087476 -0.029414 -0.425762   \n",
      "2012-09-01  0.208113  0.005120 -0.087476 -0.029414 -0.425762  0.198592   \n",
      "2012-10-01  0.005120 -0.087476 -0.029414 -0.425762  0.198592  0.237450   \n",
      "2012-11-01 -0.087476 -0.029414 -0.425762  0.198592  0.237450  0.011300   \n",
      "2012-12-01 -0.029414 -0.425762  0.198592  0.237450  0.011300  0.014501   \n",
      "2013-01-01 -0.425762  0.198592  0.237450  0.011300  0.014501  0.218926   \n",
      "2013-02-01  0.198592  0.237450  0.011300  0.014501  0.218926  0.015011   \n",
      "\n",
      "                   t  \n",
      "2012-02-01  0.015287  \n",
      "2012-03-01  0.208113  \n",
      "2012-04-01  0.005120  \n",
      "2012-05-01 -0.087476  \n",
      "2012-06-01 -0.029414  \n",
      "2012-07-01 -0.425762  \n",
      "2012-08-01  0.198592  \n",
      "2012-09-01  0.237450  \n",
      "2012-10-01  0.011300  \n",
      "2012-11-01  0.014501  \n",
      "2012-12-01  0.218926  \n",
      "2013-01-01  0.015011  \n",
      "2013-02-01 -0.016792  \n"
     ]
    }
   ],
   "source": [
    "from pandas import DataFrame\n",
    "from pandas import Series\n",
    "\n",
    "# load dataset\n",
    "series = Series.from_csv('goiania_out_shift_2.csv', header=0)\n",
    "series = np.log(series).diff().dropna()\n",
    "series\n",
    "# reframe as supervised learning\n",
    "dataframe = DataFrame()\n",
    "for i in range(12,0,-1):\n",
    "    dataframe['t-'+str(i)] = series.shift(i)\n",
    "dataframe['t'] = series.values\n",
    "print(dataframe.head(13))\n",
    "dataframe = dataframe[13:]\n",
    "\n",
    "for i in range(12,0,-1):\n",
    "    dataframe['t-'+str(i)] = np.float32(dataframe['t-'+str(i)])\n",
    "dataframe.head(30)\n",
    "dataframe['t'] = np.float32(dataframe['t'])"
   ]
  },
  {
   "cell_type": "code",
   "execution_count": null,
   "metadata": {
    "collapsed": true
   },
   "outputs": [],
   "source": []
  },
  {
   "cell_type": "code",
   "execution_count": 80,
   "metadata": {
    "collapsed": false
   },
   "outputs": [
    {
     "name": "stdout",
     "output_type": "stream",
     "text": [
      "Selected Features:\n",
      "t-12\n",
      "t-9\n",
      "t-6\n",
      "t-5\n"
     ]
    },
    {
     "data": {
      "image/png": "[encoded data removed]",
      "text/plain": [
       "<Figure size 432x288 with 1 Axes>"
      ]
     },
     "metadata": {},
     "output_type": "display_data"
    }
   ],
   "source": [
    "from pandas import read_csv\n",
    "from sklearn.feature_selection import RFE\n",
    "from sklearn.ensemble import RandomForestRegressor\n",
    "from matplotlib import pyplot\n",
    "# load dataset\n",
    "# separate into input and output variables\n",
    "array = dataframe.values\n",
    "X = array[:,0:-1]\n",
    "y = array[:,-1]\n",
    "# perform feature selection\n",
    "rfe = RFE(RandomForestRegressor(n_estimators=500, random_state=1), 4)\n",
    "fit = rfe.fit(X, y)\n",
    "# report selected features\n",
    "print('Selected Features:')\n",
    "names = dataframe.columns.values[0:-1]\n",
    "for i in range(len(fit.support_)):\n",
    "\tif fit.support_[i]:\n",
    "\t\tprint(names[i])\n",
    "# plot feature rank\n",
    "names = dataframe.columns.values[0:-1]\n",
    "ticks = [i for i in range(len(names))]\n",
    "pyplot.bar(ticks, fit.ranking_)\n",
    "pyplot.xticks(ticks, names)\n",
    "pyplot.show()"
   ]
  },
  {
   "cell_type": "code",
   "execution_count": 81,
   "metadata": {
    "collapsed": false
   },
   "outputs": [],
   "source": [
    "X = dataframe.dropna()\n",
    "train, test = X['2012-01-01':'2016-12-02'], X['2017-01-01':'2017-12-01']\n",
    "history = [x for x in train.astype(float)]\n",
    "df.dropna(inplace=True)"
   ]
  },
  {
   "cell_type": "code",
   "execution_count": 82,
   "metadata": {
    "collapsed": false
   },
   "outputs": [],
   "source": [
    "# features = X[['t-12','t-11','t-10','t-9','t-8','t-7','t-6','t-5','t-4','t-3','t-2','t-1']].values\n",
    "# target = X[['qtd']].values[:,np.newaxis,0]"
   ]
  },
  {
   "cell_type": "code",
   "execution_count": 83,
   "metadata": {
    "collapsed": false
   },
   "outputs": [
    {
     "data": {
      "text/plain": [
       "array([[ 0.07715908],\n",
       "       [ 0.04280023],\n",
       "       [ 0.08410862],\n",
       "       [ 0.04268073],\n",
       "       [-0.2521106 ],\n",
       "       [ 0.03001108],\n",
       "       [-0.00174064],\n",
       "       [-0.07786737],\n",
       "       [ 0.04240267],\n",
       "       [ 0.11898568],\n",
       "       [ 0.16643752],\n",
       "       [-0.0990485 ],\n",
       "       [ 0.07014078],\n",
       "       [ 0.11467455],\n",
       "       [ 0.03847803],\n",
       "       [-0.17933023],\n",
       "       [-0.02394021],\n",
       "       [-0.01107431],\n",
       "       [ 0.04712724],\n",
       "       [ 0.00846267],\n",
       "       [-0.13674682],\n",
       "       [ 0.00642057],\n",
       "       [ 0.06353802],\n",
       "       [ 0.0029985 ],\n",
       "       [ 0.17216536],\n",
       "       [ 0.0328508 ],\n",
       "       [ 0.14820972],\n",
       "       [-0.07418886],\n",
       "       [ 0.01684487],\n",
       "       [ 0.02962367],\n",
       "       [ 0.07043327],\n",
       "       [ 0.03319601],\n",
       "       [-0.11668715],\n",
       "       [ 0.06313419],\n",
       "       [ 0.03436417],\n",
       "       [ 0.00495541],\n",
       "       [-0.01694956],\n",
       "       [-0.06437095],\n",
       "       [-0.05908426],\n",
       "       [ 0.1413929 ],\n",
       "       [-0.06740683],\n",
       "       [ 0.08696736],\n",
       "       [-0.10401625],\n",
       "       [ 0.06702066],\n",
       "       [-0.12966236],\n",
       "       [-0.10994768]], dtype=float32)"
      ]
     },
     "execution_count": 83,
     "metadata": {},
     "output_type": "execute_result"
    }
   ],
   "source": [
    "# from sklearn.model_selection import train_test_split\n",
    "# X_train, X_test, y_train, y_test = train_test_split(features, target, test_size=0.33, random_state=42)\n",
    "fields_selected = ['t-12', 't-9','t-6','t-5',]\n",
    "X_train = train[fields_selected].values\n",
    "y_train = train[['t']].values\n",
    "X_test = test[fields_selected].values\n",
    "y_test = test[['t']].values\n",
    "y_train"
   ]
  },
  {
   "cell_type": "code",
   "execution_count": 84,
   "metadata": {
    "collapsed": false
   },
   "outputs": [
    {
     "data": {
      "image/png": "[encoded data removed]",
      "text/plain": [
       "<Figure size 432x288 with 1 Axes>"
      ]
     },
     "metadata": {},
     "output_type": "display_data"
    },
    {
     "name": "stdout",
     "output_type": "stream",
     "text": [
      "Test R2: -0.655\n",
      "Test MSE: 0.013\n",
      "Test RMSE: 0.116\n"
     ]
    }
   ],
   "source": [
    "knn = neighbors.KNeighborsRegressor(n_neighbors=3, weights='uniform')\n",
    "# fitting the model\n",
    "knn.fit(X_train, y_train.ravel())\n",
    "\n",
    "# predict the response\n",
    "pred = knn.predict(X_test)\n",
    "plt.plot(y_test)\n",
    "plt.plot(pred, color='red')\n",
    "plt.show()\n",
    "\n",
    "error = mean_squared_error(y_test, pred)\n",
    "rms = sqrt(mean_squared_error(y_test, pred))\n",
    "coefficient_of_dermination = r2_score(y_test, pred)\n",
    "print('Test R2: %.3f' % coefficient_of_dermination)\n",
    "print('Test MSE: %.3f' % error)\n",
    "print('Test RMSE: %.3f' % rms)"
   ]
  },
  {
   "cell_type": "code",
   "execution_count": 85,
   "metadata": {
    "collapsed": false
   },
   "outputs": [
    {
     "data": {
      "image/png": "[encoded data removed]",
      "text/plain": [
       "<Figure size 432x288 with 1 Axes>"
      ]
     },
     "metadata": {},
     "output_type": "display_data"
    },
    {
     "name": "stdout",
     "output_type": "stream",
     "text": [
      "Test R2: -0.259\n",
      "Test MSE: 0.010\n",
      "Test RMSE: 0.101\n"
     ]
    }
   ],
   "source": [
    "rdf = ensemble.RandomForestRegressor(n_estimators=500)\n",
    "# fitting the model\n",
    "rdf.fit(X_train, y_train.ravel())\n",
    "\n",
    "# predict the response\n",
    "pred = rdf.predict(X_test)\n",
    "plt.plot(y_test)\n",
    "plt.plot(pred, color='red')\n",
    "plt.show()\n",
    "\n",
    "error = mean_squared_error(y_test, pred)\n",
    "rms = sqrt(mean_squared_error(y_test, pred))\n",
    "coefficient_of_dermination = r2_score(y_test, pred)\n",
    "print('Test R2: %.3f' % coefficient_of_dermination)\n",
    "print('Test MSE: %.3f' % error)\n",
    "print('Test RMSE: %.3f' % rms)"
   ]
  },
  {
   "cell_type": "code",
   "execution_count": 86,
   "metadata": {
    "collapsed": false
   },
   "outputs": [
    {
     "data": {
      "image/png": "[encoded data removed]",
      "text/plain": [
       "<Figure size 432x288 with 1 Axes>"
      ]
     },
     "metadata": {},
     "output_type": "display_data"
    },
    {
     "name": "stdout",
     "output_type": "stream",
     "text": [
      "Test R2: -0.643\n",
      "Test MSE: 0.013\n",
      "Test RMSE: 0.115\n"
     ]
    }
   ],
   "source": [
    "tree = DecisionTreeRegressor(random_state=0)\n",
    "\n",
    "# fitting the model\n",
    "tree.fit(X_train, y_train.ravel())\n",
    "\n",
    "# predict the response\n",
    "pred = tree.predict(X_test)\n",
    "plt.plot(y_test)\n",
    "plt.plot(pred, color='red')\n",
    "plt.show()\n",
    "\n",
    "error = mean_squared_error(y_test, pred)\n",
    "rms = sqrt(mean_squared_error(y_test, pred))\n",
    "coefficient_of_dermination = r2_score(y_test, pred)\n",
    "print('Test R2: %.3f' % coefficient_of_dermination)\n",
    "print('Test MSE: %.3f' % error)\n",
    "print('Test RMSE: %.3f' % rms)"
   ]
  },
  {
   "cell_type": "code",
   "execution_count": 87,
   "metadata": {
    "collapsed": false
   },
   "outputs": [
    {
     "data": {
      "image/png": "[encoded data removed]",
      "text/plain": [
       "<Figure size 432x288 with 1 Axes>"
      ]
     },
     "metadata": {},
     "output_type": "display_data"
    },
    {
     "name": "stdout",
     "output_type": "stream",
     "text": [
      "Test R2: -0.643\n",
      "Test MSE: 0.013\n",
      "Test RMSE: 0.115\n"
     ]
    }
   ],
   "source": [
    "regr = linear_model.LinearRegression()\n",
    "\n",
    "\n",
    "# fitting the model\n",
    "regr.fit(X_train, y_train.ravel())\n",
    "\n",
    "# predict the response\n",
    "pred = tree.predict(X_test)\n",
    "plt.plot(y_test)\n",
    "plt.plot(pred, color='red')\n",
    "plt.show()\n",
    "\n",
    "error = mean_squared_error(y_test, pred)\n",
    "rms = sqrt(mean_squared_error(y_test, pred))\n",
    "coefficient_of_dermination = r2_score(y_test, pred)\n",
    "print('Test R2: %.3f' % coefficient_of_dermination)\n",
    "print('Test MSE: %.3f' % error)\n",
    "print('Test RMSE: %.3f' % rms)"
   ]
  },
  {
   "cell_type": "code",
   "execution_count": 39,
   "metadata": {
    "collapsed": true
   },
   "outputs": [],
   "source": [
    "from pandas import DataFrame\n",
    "from pandas import concat\n",
    " \n",
    "def series_to_supervised(data, n_in=1, n_out=1, dropnan=False):\n",
    "\t\"\"\"\n",
    "\tFrame a time series as a supervised learning dataset.\n",
    "\tArguments:\n",
    "\t\tdata: Sequence of observations as a list or NumPy array.\n",
    "\t\tn_in: Number of lag observations as input (X).\n",
    "\t\tn_out: Number of observations as output (y).\n",
    "\t\tdropnan: Boolean whether or not to drop rows with NaN values.\n",
    "\tReturns:\n",
    "\t\tPandas DataFrame of series framed for supervised learning.\n",
    "\t\"\"\"\n",
    "\tn_vars = 1 if type(data) is list else data.shape[1]\n",
    "\tdf = DataFrame(data)\n",
    "\tcols, names = list(), list()\n",
    "\t# input sequence (t-n, ... t-1)\n",
    "\tfor i in range(n_in, 0, -1):\n",
    "\t\tcols.append(df.shift(i))\n",
    "\t\tnames += [('var%d(t-%d)' % (j+1, i)) for j in range(n_vars)]\n",
    "\t# forecast sequence (t, t+1, ... t+n)\n",
    "\tfor i in range(0, n_out):\n",
    "\t\tcols.append(df.shift(-i))\n",
    "\t\tif i == 0:\n",
    "\t\t\tnames += [('var%d(t)' % (j+1)) for j in range(n_vars)]\n",
    "\t\telse:\n",
    "\t\t\tnames += [('var%d(t+%d)' % (j+1, i)) for j in range(n_vars)]\n",
    "\t# put it all together\n",
    "\tagg = concat(cols, axis=1)\n",
    "\tagg.columns = names\n",
    "\t# drop rows with NaN values\n",
    "\tif dropnan:\n",
    "\t\tagg.dropna(inplace=True)\n",
    "\treturn agg\n"
   ]
  },
  {
   "cell_type": "code",
   "execution_count": 85,
   "metadata": {
    "collapsed": true
   },
   "outputs": [],
   "source": [
    "df2 = pd.read_csv('goiania_out.csv',index_col=0,parse_dates=True).sort_index()"
   ]
  },
  {
   "cell_type": "code",
   "execution_count": 86,
   "metadata": {
    "collapsed": false
   },
   "outputs": [
    {
     "name": "stdout",
     "output_type": "stream",
     "text": [
      "    var1(t-3)  var1(t-2)  var1(t-1)  var1(t)  var1(t+1)  var1(t+2)\n",
      "0         NaN        NaN        NaN     1141     1122.0     1212.0\n",
      "1         NaN        NaN     1141.0     1122     1212.0     1265.0\n",
      "2         NaN     1141.0     1122.0     1212     1265.0     1376.0\n",
      "3      1141.0     1122.0     1212.0     1265     1376.0     1436.0\n",
      "4      1122.0     1212.0     1265.0     1376     1436.0     1116.0\n",
      "5      1212.0     1265.0     1376.0     1436     1116.0     1150.0\n",
      "6      1265.0     1376.0     1436.0     1116     1150.0     1148.0\n",
      "7      1376.0     1436.0     1116.0     1150     1148.0     1062.0\n",
      "8      1436.0     1116.0     1150.0     1148     1062.0     1108.0\n",
      "9      1116.0     1150.0     1148.0     1062     1108.0     1248.0\n",
      "10     1150.0     1148.0     1062.0     1108     1248.0     1474.0\n",
      "11     1148.0     1062.0     1108.0     1248     1474.0     1335.0\n",
      "12     1062.0     1108.0     1248.0     1474     1335.0     1432.0\n",
      "13     1108.0     1248.0     1474.0     1335     1432.0     1606.0\n",
      "14     1248.0     1474.0     1335.0     1432     1606.0     1669.0\n",
      "15     1474.0     1335.0     1432.0     1606     1669.0     1395.0\n",
      "16     1335.0     1432.0     1606.0     1669     1395.0     1362.0\n",
      "17     1432.0     1606.0     1669.0     1395     1362.0     1347.0\n",
      "18     1606.0     1669.0     1395.0     1362     1347.0     1412.0\n",
      "19     1669.0     1395.0     1362.0     1347     1412.0     1424.0\n",
      "20     1395.0     1362.0     1347.0     1412     1424.0     1242.0\n",
      "21     1362.0     1347.0     1412.0     1424     1242.0     1250.0\n",
      "22     1347.0     1412.0     1424.0     1242     1250.0     1332.0\n",
      "23     1412.0     1424.0     1242.0     1250     1332.0     1336.0\n",
      "24     1424.0     1242.0     1250.0     1332     1336.0     1587.0\n",
      "25     1242.0     1250.0     1332.0     1336     1587.0     1640.0\n",
      "26     1250.0     1332.0     1336.0     1587     1640.0     1902.0\n",
      "27     1332.0     1336.0     1587.0     1640     1902.0     1766.0\n",
      "28     1336.0     1587.0     1640.0     1902     1766.0     1796.0\n",
      "29     1587.0     1640.0     1902.0     1766     1796.0     1850.0\n",
      "30     1640.0     1902.0     1766.0     1796     1850.0     1985.0\n",
      "31     1902.0     1766.0     1796.0     1850     1985.0     2052.0\n",
      "32     1766.0     1796.0     1850.0     1985     2052.0     1826.0\n",
      "33     1796.0     1850.0     1985.0     2052     1826.0     1945.0\n",
      "34     1850.0     1985.0     2052.0     1826     1945.0     2013.0\n",
      "35     1985.0     2052.0     1826.0     1945     2013.0     2023.0\n",
      "36     2052.0     1826.0     1945.0     2013     2023.0     1989.0\n",
      "37     1826.0     1945.0     2013.0     2023     1989.0     1865.0\n",
      "38     1945.0     2013.0     2023.0     1989     1865.0     1758.0\n",
      "39     2013.0     2023.0     1989.0     1865     1758.0     2025.0\n",
      "40     2023.0     1989.0     1865.0     1758     2025.0     1893.0\n",
      "41     1989.0     1865.0     1758.0     2025     1893.0     2065.0\n",
      "42     1865.0     1758.0     2025.0     1893     2065.0     1861.0\n",
      "43     1758.0     2025.0     1893.0     2065     1861.0     1990.0\n",
      "44     2025.0     1893.0     2065.0     1861     1990.0     1748.0\n",
      "45     1893.0     2065.0     1861.0     1990     1748.0     1566.0\n",
      "46     2065.0     1861.0     1990.0     1748     1566.0     1623.0\n",
      "47     1861.0     1990.0     1748.0     1566     1623.0     1426.0\n",
      "48     1990.0     1748.0     1566.0     1623     1426.0     1569.0\n",
      "49     1748.0     1566.0     1623.0     1426     1569.0     1513.0\n",
      "50     1566.0     1623.0     1426.0     1569     1513.0     1692.0\n",
      "51     1623.0     1426.0     1569.0     1513     1692.0     1411.0\n",
      "52     1426.0     1569.0     1513.0     1692     1411.0     1424.0\n",
      "53     1569.0     1513.0     1692.0     1411     1424.0     1386.0\n",
      "54     1513.0     1692.0     1411.0     1424     1386.0     1254.0\n",
      "55     1692.0     1411.0     1424.0     1386     1254.0     1202.0\n",
      "56     1411.0     1424.0     1386.0     1254     1202.0     1205.0\n",
      "57     1424.0     1386.0     1254.0     1202     1205.0     1029.0\n",
      "58     1386.0     1254.0     1202.0     1205     1029.0        NaN\n",
      "59     1254.0     1202.0     1205.0     1029        NaN        NaN\n"
     ]
    }
   ],
   "source": [
    "values = df2.values\n",
    "data = series_to_supervised(values, 3, 3)\n",
    "print(data)"
   ]
  },
  {
   "cell_type": "code",
   "execution_count": null,
   "metadata": {
    "collapsed": true
   },
   "outputs": [],
   "source": []
  }
 ],
 "metadata": {
  "kernelspec": {
   "display_name": "Python 3",
   "language": "python",
   "name": "python3"
  },
  "language_info": {
   "codemirror_mode": {
    "name": "ipython",
    "version": 3
   },
   "file_extension": ".py",
   "mimetype": "text/x-python",
   "name": "python",
   "nbconvert_exporter": "python",
   "pygments_lexer": "ipython3",
   "version": "3.6.0"
  }
 },
 "nbformat": 4,
 "nbformat_minor": 2
}
