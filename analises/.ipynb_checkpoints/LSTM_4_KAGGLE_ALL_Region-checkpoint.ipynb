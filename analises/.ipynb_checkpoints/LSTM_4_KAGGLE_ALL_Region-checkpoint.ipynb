{
 "cells": [
  {
   "cell_type": "code",
   "execution_count": 701,
   "metadata": {
    "_cell_guid": "b1076dfc-b9ad-4769-8c92-a6c4dae69d19",
    "_uuid": "8f2839f25d086af736a60e9eeb907d3b93b6e0e5",
    "collapsed": false
   },
   "outputs": [],
   "source": [
    "# This Python 3 environment comes with many helpful analytics libraries installed\n",
    "# It is defined by the kaggle/python docker image: https://github.com/kaggle/docker-python\n",
    "# For example, here's several helpful packages to load in \n",
    "\n",
    "import numpy as np # linear algebra\n",
    "import pandas as pd # data processing, CSV file I/O (e.g. pd.read_csv)\n",
    "\n",
    "# Input data files are available in the \"../input/\" directory.\n",
    "# For example, running this (by clicking run or pressing Shift+Enter) will list the files in the input directory\n",
    "\n",
    "import os\n",
    "import gc\n",
    "\n",
    "# Any results you write to the current directory are saved as output."
   ]
  },
  {
   "cell_type": "code",
   "execution_count": 702,
   "metadata": {
    "_cell_guid": "79c7e3d0-c299-4dcb-8224-4455121ee9b0",
    "_uuid": "d629ff2d2480ee46fbb7e2d37f6b5fab8052498a",
    "collapsed": false
   },
   "outputs": [
    {
     "data": {
      "image/png": "[encoded data removed]",
      "text/plain": [
       "<Figure size 432x288 with 1 Axes>"
      ]
     },
     "metadata": {},
     "output_type": "display_data"
    }
   ],
   "source": [
    "import pandas\n",
    "import matplotlib.pyplot as plt\n",
    "dataset = pandas.read_csv('goiania_out_shift_2.csv', usecols=[1], engine='python', skipfooter=3)\n",
    "plt.plot(dataset)\n",
    "plt.show()"
   ]
  },
  {
   "cell_type": "code",
   "execution_count": 703,
   "metadata": {
    "_uuid": "12b0e1de8bdb4ff0ea90f512f530735d56972c83",
    "collapsed": false
   },
   "outputs": [],
   "source": [
    "import numpy\n",
    "import matplotlib.pyplot as plt\n",
    "import pandas\n",
    "import math\n",
    "from keras.models import Sequential\n",
    "from keras.layers import Dense, Activation\n",
    "from keras.layers import LSTM\n",
    "from sklearn.preprocessing import MinMaxScaler\n",
    "from sklearn.metrics import mean_squared_error\n",
    "from sklearn.metrics import r2_score\n",
    "from keras.layers import Dropout\n",
    "from pandas import Series"
   ]
  },
  {
   "cell_type": "code",
   "execution_count": 704,
   "metadata": {
    "collapsed": true
   },
   "outputs": [],
   "source": [
    "def difference(dataset, interval=1):\n",
    "\tdiff = list()\n",
    "\tfor i in range(interval, len(dataset)):\n",
    "\t\tvalue = dataset[i] - dataset[i - interval]\n",
    "\t\tdiff.append(value)\n",
    "\treturn diff"
   ]
  },
  {
   "cell_type": "code",
   "execution_count": 705,
   "metadata": {
    "_uuid": "f4aaa7a2a018c5e900b42abe242e44a14adf5c09",
    "collapsed": true
   },
   "outputs": [],
   "source": [
    "# fix random seed for reproducibility\n",
    "numpy.random.seed(7)"
   ]
  },
  {
   "cell_type": "code",
   "execution_count": 706,
   "metadata": {
    "_uuid": "cca4e13dc953075a0e79cdd7d06d19bf47110a07",
    "collapsed": false
   },
   "outputs": [],
   "source": [
    "# load the dataset\n",
    "dataframe = pandas.read_csv('goiania_out_shift_2.csv', index_col=0)\n",
    "dataset = dataframe['201-01-01':]\n",
    "dataset = dataset.values\n",
    "dataset = dataset.astype('float32')"
   ]
  },
  {
   "cell_type": "code",
   "execution_count": 707,
   "metadata": {
    "_uuid": "679555290bec65b86f56beec4d5f57b6b902c2d8",
    "collapsed": false
   },
   "outputs": [
    {
     "data": {
      "text/plain": [
       "array([[779.],\n",
       "       [791.],\n",
       "       [974.],\n",
       "       [979.],\n",
       "       [897.]], dtype=float32)"
      ]
     },
     "execution_count": 707,
     "metadata": {},
     "output_type": "execute_result"
    }
   ],
   "source": [
    "dataset[0:5]"
   ]
  },
  {
   "cell_type": "code",
   "execution_count": 708,
   "metadata": {
    "_uuid": "4b770f9e058d3a35ef954aab175b59066fa35e7f",
    "collapsed": false
   },
   "outputs": [],
   "source": [
    "# normalize the dataset\n",
    "scaler = MinMaxScaler(feature_range=(0, 1))\n",
    "dataset = scaler.fit_transform(dataset)"
   ]
  },
  {
   "cell_type": "code",
   "execution_count": 709,
   "metadata": {
    "_uuid": "fd5b7974b9a2f3969d6ed1e9e6800aded9d457cb",
    "collapsed": false
   },
   "outputs": [
    {
     "data": {
      "text/plain": [
       "array([[0.1403743 ],\n",
       "       [0.14839572],\n",
       "       [0.2707219 ],\n",
       "       [0.27406418],\n",
       "       [0.21925133]], dtype=float32)"
      ]
     },
     "execution_count": 709,
     "metadata": {},
     "output_type": "execute_result"
    }
   ],
   "source": [
    "dataset[0:5]"
   ]
  },
  {
   "cell_type": "code",
   "execution_count": 710,
   "metadata": {
    "collapsed": true
   },
   "outputs": [],
   "source": [
    "def timeseries_to_supervised(data, lag=1):\n",
    "    df = pd.DataFrame(data)\n",
    "    columns = [df.shift(i) for i in range(1, lag+1)]\n",
    "    columns.append(df)\n",
    "    df = pd.concat(columns, axis=1)\n",
    "    df.fillna(0, inplace=True)\n",
    "    return df"
   ]
  },
  {
   "cell_type": "code",
   "execution_count": 711,
   "metadata": {
    "collapsed": false
   },
   "outputs": [
    {
     "name": "stdout",
     "output_type": "stream",
     "text": [
      "60 12\n",
      "[[0.         0.         0.1403743 ]\n",
      " [0.1403743  0.         0.14839572]\n",
      " [0.14839572 0.1403743  0.2707219 ]\n",
      " [0.2707219  0.14839572 0.27406418]\n",
      " [0.27406418 0.2707219  0.21925133]\n",
      " [0.21925133 0.27406418 0.20187163]\n",
      " [0.20187163 0.21925133 0.        ]\n",
      " [0.         0.20187163 0.08355615]\n",
      " [0.08355615 0.         0.20788771]\n",
      " [0.20788771 0.08355615 0.21457219]\n",
      " [0.21457219 0.20788771 0.22326201]\n",
      " [0.22326201 0.21457219 0.37098932]\n",
      " [0.37098932 0.22326201 0.38235295]\n",
      " [0.38235295 0.37098932 0.3696524 ]\n",
      " [0.3696524  0.38235295 0.42981285]\n",
      " [0.42981285 0.3696524  0.46524066]\n",
      " [0.46524066 0.42981285 0.5394385 ]\n",
      " [0.5394385  0.46524066 0.57954544]\n",
      " [0.57954544 0.5394385  0.3656417 ]\n",
      " [0.3656417  0.57954544 0.38836896]\n",
      " [0.38836896 0.3656417  0.3870321 ]\n",
      " [0.3870321  0.38836896 0.32954544]\n",
      " [0.32954544 0.3870321  0.3602941 ]\n",
      " [0.3602941  0.32954544 0.45387703]\n",
      " [0.45387703 0.3602941  0.60494655]\n",
      " [0.60494655 0.45387703 0.5120321 ]\n",
      " [0.5120321  0.60494655 0.57687163]\n",
      " [0.57687163 0.5120321  0.6931819 ]\n",
      " [0.6931819  0.57687163 0.7352941 ]\n",
      " [0.7352941  0.6931819  0.55213904]\n",
      " [0.55213904 0.7352941  0.5300802 ]\n",
      " [0.5300802  0.55213904 0.5200535 ]\n",
      " [0.5200535  0.5300802  0.56350267]\n",
      " [0.56350267 0.5200535  0.5715241 ]\n",
      " [0.5715241  0.56350267 0.4498663 ]\n",
      " [0.4498663  0.5715241  0.4552139 ]\n",
      " [0.4552139  0.4498663  0.51002675]\n",
      " [0.51002675 0.4552139  0.51270056]\n",
      " [0.51270056 0.51002675 0.6804813 ]\n",
      " [0.6804813  0.51270056 0.7159091 ]\n",
      " [0.7159091  0.6804813  0.8910428 ]\n",
      " [0.8910428  0.7159091  0.8001337 ]\n",
      " [0.8001337  0.8910428  0.8201872 ]\n",
      " [0.8201872  0.8001337  0.8562834 ]\n",
      " [0.8562834  0.8201872  0.946524  ]\n",
      " [0.946524   0.8562834  0.9913101 ]\n",
      " [0.9913101  0.946524   0.8402406 ]\n",
      " [0.8402406  0.9913101  0.9197861 ]\n",
      " [0.9197861  0.8402406  0.9652406 ]\n",
      " [0.9652406  0.9197861  0.97192514]\n",
      " [0.97192514 0.9652406  0.9491979 ]\n",
      " [0.9491979  0.97192514 0.8663101 ]\n",
      " [0.8663101  0.9491979  0.7947861 ]\n",
      " [0.7947861  0.8663101  0.9732621 ]\n",
      " [0.9732621  0.7947861  0.8850267 ]\n",
      " [0.8850267  0.9732621  1.        ]\n",
      " [1.         0.8850267  0.8636364 ]\n",
      " [0.8636364  1.         0.9498663 ]\n",
      " [0.9498663  0.8636364  0.78810155]\n",
      " [0.78810155 0.9498663  0.6664438 ]\n",
      " [0.6664438  0.78810155 0.7045455 ]\n",
      " [0.7045455  0.6664438  0.57286096]\n",
      " [0.57286096 0.7045455  0.66844916]\n",
      " [0.66844916 0.57286096 0.631016  ]\n",
      " [0.631016   0.66844916 0.7506684 ]\n",
      " [0.7506684  0.631016   0.5628342 ]\n",
      " [0.5628342  0.7506684  0.5715241 ]\n",
      " [0.5715241  0.5628342  0.54612297]\n",
      " [0.54612297 0.5715241  0.4578877 ]\n",
      " [0.4578877  0.54612297 0.42312837]\n",
      " [0.42312837 0.4578877  0.4251337 ]\n",
      " [0.4251337  0.42312837 0.30748665]]\n"
     ]
    }
   ],
   "source": [
    "look_back = 2\n",
    "supervised = timeseries_to_supervised(dataset, look_back)\n",
    "supervised_values = supervised.values\n",
    "\n",
    "train_size = int(len(supervised_values) * 0.84)\n",
    "train, test = supervised_values[0:train_size], supervised_values[train_size:len(supervised_values)]\n",
    "print(len(train), len(test))\n",
    "print(supervised_values)"
   ]
  },
  {
   "cell_type": "code",
   "execution_count": 712,
   "metadata": {
    "_uuid": "518f503c0ee584f9769df61971984e2c233ab09a",
    "collapsed": false
   },
   "outputs": [],
   "source": [
    "trainX, trainY = train[:, 0:-1], train[:, -1]\n",
    "testX, testY = test[:, 0:-1], test[:, -1]"
   ]
  },
  {
   "cell_type": "code",
   "execution_count": 713,
   "metadata": {
    "collapsed": true
   },
   "outputs": [],
   "source": [
    "trainX, trainY = numpy.array(trainX), numpy.array(trainY)\n",
    "testX, testY = numpy.array(testX), numpy.array(testY)"
   ]
  },
  {
   "cell_type": "code",
   "execution_count": 714,
   "metadata": {
    "_uuid": "fa88e5e7cafa406a83b6b96f1df9165dec229716",
    "collapsed": false
   },
   "outputs": [
    {
     "data": {
      "text/plain": [
       "15524"
      ]
     },
     "execution_count": 714,
     "metadata": {},
     "output_type": "execute_result"
    }
   ],
   "source": [
    "# reshape input to be [samples, time steps, features]\n",
    "trainX = numpy.reshape(trainX, (trainX.shape[0], 1, trainX.shape[1]))\n",
    "testX = numpy.reshape(testX, (testX.shape[0], 1, testX.shape[1]))\n",
    "gc.collect()"
   ]
  },
  {
   "cell_type": "code",
   "execution_count": 716,
   "metadata": {
    "_uuid": "290989326be83ea0307367ebb60f0e54b27a24dd",
    "collapsed": false,
    "scrolled": false
   },
   "outputs": [
    {
     "name": "stdout",
     "output_type": "stream",
     "text": [
      "Epoch 1/10\n",
      " - 21s - loss: 0.3314\n",
      "Epoch 2/10\n",
      " - 1s - loss: 0.1358\n",
      "Epoch 3/10\n",
      " - 1s - loss: 0.0739\n",
      "Epoch 4/10\n",
      " - 1s - loss: 0.0712\n",
      "Epoch 5/10\n",
      " - 1s - loss: 0.0623\n",
      "Epoch 6/10\n",
      " - 1s - loss: 0.0506\n",
      "Epoch 7/10\n",
      " - 1s - loss: 0.0319\n",
      "Epoch 8/10\n",
      " - 1s - loss: 0.0172\n",
      "Epoch 9/10\n",
      " - 1s - loss: 0.0128\n",
      "Epoch 10/10\n",
      " - 1s - loss: 0.0116\n"
     ]
    },
    {
     "data": {
      "text/plain": [
       "<keras.callbacks.History at 0x2005d32e48>"
      ]
     },
     "execution_count": 716,
     "metadata": {},
     "output_type": "execute_result"
    }
   ],
   "source": [
    "# create and fit the LSTM network\n",
    "model = Sequential()\n",
    "model.add(LSTM(16, input_shape=(1, look_back), return_sequences=True))\n",
    "model.add(LSTM(16, return_sequences=True))\n",
    "model.add(LSTM(16, return_sequences=True))\n",
    "model.add(LSTM(16, return_sequences=True))\n",
    "model.add(LSTM(16, return_sequences=True))\n",
    "model.add(LSTM(16, return_sequences=True))\n",
    "model.add(LSTM(16, return_sequences=True))\n",
    "model.add(LSTM(16, return_sequences=True))\n",
    "model.add(LSTM(8))\n",
    "model.add(Dense(1))\n",
    "# model.add(Activation('sigmoid'))\n",
    "model.compile(loss='mean_squared_error', optimizer='adam')\n",
    "# for i in range(30):\n",
    "#     model.fit(trainX, trainY, epochs=1, batch_size=1, verbose=0)\n",
    "#     model.reset_states()\n",
    "model.fit(trainX, trainY, epochs=10, batch_size=1, verbose=2)"
   ]
  },
  {
   "cell_type": "code",
   "execution_count": 717,
   "metadata": {
    "_uuid": "2d42eb6f7083b8dbddeef367f9edbffca379f2d7",
    "collapsed": false
   },
   "outputs": [
    {
     "name": "stdout",
     "output_type": "stream",
     "text": [
      "Test Score: 100.98 RMSE\n",
      "0.7042343642600467\n"
     ]
    }
   ],
   "source": [
    "# make predictions\n",
    "# trainPredict = model.predict(trainX)\n",
    "testPredict = model.predict(testX)\n",
    "# invert predictions\n",
    "last = trainY\n",
    "last2 = testX\n",
    "# trainPredict2 = scaler.inverse_transform(trainPredict)\n",
    "trainY2 = scaler.inverse_transform([trainY])\n",
    "testPredict2 = scaler.inverse_transform(testPredict)\n",
    "testY2 = scaler.inverse_transform([testY])\n",
    "# calculate root mean squared error\n",
    "# trainScore = math.sqrt(mean_squared_error(trainY[0], trainPredict[:,0]))\n",
    "# print('Train Score: %.2f RMSE' % (trainScore))\n",
    "testScore = math.sqrt(mean_squared_error(testY2[0], testPredict2[:,0]))\n",
    "print('Test Score: %.2f RMSE' % (testScore))\n",
    "print(r2_score(testY2[0],testPredict2[:,0]))"
   ]
  },
  {
   "cell_type": "code",
   "execution_count": 721,
   "metadata": {
    "_uuid": "060b0eedbc021e7b094b8f5e10e4941ec703633f",
    "collapsed": false
   },
   "outputs": [
    {
     "data": {
      "image/png": "[encoded data removed]",
      "text/plain": [
       "<Figure size 432x288 with 1 Axes>"
      ]
     },
     "metadata": {},
     "output_type": "display_data"
    }
   ],
   "source": [
    "plt.plot(testY2[0])\n",
    "plt.plot(testPredict2[:,0])\n",
    "plt.show()"
   ]
  },
  {
   "cell_type": "code",
   "execution_count": 722,
   "metadata": {
    "collapsed": false
   },
   "outputs": [
    {
     "name": "stdout",
     "output_type": "stream",
     "text": [
      "0.7042343642600467\n"
     ]
    }
   ],
   "source": [
    "print(r2_score(testY2[0],testPredict2))"
   ]
  },
  {
   "cell_type": "code",
   "execution_count": 724,
   "metadata": {
    "collapsed": false
   },
   "outputs": [
    {
     "name": "stdout",
     "output_type": "stream",
     "text": [
      "100.97963897058116\n"
     ]
    }
   ],
   "source": [
    "print(math.sqrt(mean_squared_error(testY2[0], testPredict2)))"
   ]
  },
  {
   "cell_type": "code",
   "execution_count": 725,
   "metadata": {
    "collapsed": true
   },
   "outputs": [],
   "source": [
    "# # create and fit the LSTM network\n",
    "# model = Sequential()\n",
    "# model.add(LSTM(16, input_shape=(1, look_back), return_sequences=True))\n",
    "# model.add(LSTM(16, return_sequences=True))\n",
    "# model.add(LSTM(16, return_sequences=True))\n",
    "# model.add(LSTM(16, return_sequences=True))\n",
    "# model.add(LSTM(8))\n",
    "# model.add(Dense(1))\n",
    "# model.compile(loss='mean_squared_error', optimizer='adam')\n",
    "# model.fit(trainX, trainY, epochs=10, batch_size=1, verbose=2)"
   ]
  },
  {
   "cell_type": "code",
   "execution_count": 726,
   "metadata": {
    "collapsed": true
   },
   "outputs": [],
   "source": [
    "# model.add(LSTM(16, input_shape=(1, look_back), return_sequences=True))\n",
    "# model.add(LSTM(12, return_sequences=True))\n",
    "# model.add(LSTM(12, return_sequences=True))\n",
    "# model.add(LSTM(12, return_sequences=True))\n",
    "# model.add(LSTM(4))"
   ]
  },
  {
   "cell_type": "code",
   "execution_count": 727,
   "metadata": {
    "collapsed": true
   },
   "outputs": [],
   "source": [
    "# model.add(LSTM(16, input_shape=(1, look_back), return_sequences=True))\n",
    "# model.add(LSTM(16, return_sequences=True))\n",
    "# model.add(LSTM(16, return_sequences=True))\n",
    "# model.add(LSTM(16, return_sequences=True))\n",
    "# model.add(LSTM(16, return_sequences=True))\n",
    "# model.add(LSTM(16, return_sequences=True))\n",
    "# model.add(LSTM(16, return_sequences=True))\n",
    "# model.add(LSTM(16, return_sequences=True))\n",
    "# model.add(LSTM(8))\n",
    "# model.add(Dense(1))"
   ]
  },
  {
   "cell_type": "code",
   "execution_count": 728,
   "metadata": {
    "collapsed": false
   },
   "outputs": [],
   "source": [
    "# print(testX[-1:])\n",
    "# # print(last2)\n",
    "# model.predict(testX[-1:])\n",
    "\n",
    "testX[-1][0][1] = testX[-1][0][0]\n",
    "testX[-1][0][0] = 0.30748665"
   ]
  },
  {
   "cell_type": "code",
   "execution_count": 729,
   "metadata": {
    "collapsed": false
   },
   "outputs": [],
   "source": [
    "predictions = list()\n",
    "for i in range(6):\n",
    "    predict = model.predict(testX[-1:])\n",
    "    testX[-1][0][1] = testX[-1][0][0]\n",
    "    testX[-1][0][0] = predict\n",
    "    predictions.append(predict)"
   ]
  },
  {
   "cell_type": "code",
   "execution_count": 730,
   "metadata": {
    "collapsed": false
   },
   "outputs": [
    {
     "data": {
      "text/plain": [
       "array([[1092.0090736 ],\n",
       "       [1062.49918886],\n",
       "       [1070.60443143],\n",
       "       [1065.31802955],\n",
       "       [1065.98202313],\n",
       "       [1064.85546771]])"
      ]
     },
     "execution_count": 730,
     "metadata": {},
     "output_type": "execute_result"
    }
   ],
   "source": [
    "# print(predictions)\n",
    "predictions2 = [x[0] for x in predictions]\n",
    "scaler.inverse_transform(predictions2)"
   ]
  },
  {
   "cell_type": "code",
   "execution_count": null,
   "metadata": {
    "collapsed": false
   },
   "outputs": [],
   "source": [
    "testX[-1][0][1] = testX[-1][0][0]\n",
    "testX[-1][0][0] = 0.30748665\n",
    "model.predict(testX[-1:])"
   ]
  },
  {
   "cell_type": "code",
   "execution_count": null,
   "metadata": {
    "collapsed": false
   },
   "outputs": [],
   "source": [
    "testX[-1][0][1] = testX[-1][0][0]\n",
    "testX[-1][0][0] = 0.40585274\n",
    "model.predict(testX[-1:])"
   ]
  },
  {
   "cell_type": "code",
   "execution_count": null,
   "metadata": {
    "collapsed": false
   },
   "outputs": [],
   "source": [
    "scaler.inverse_transform(0.43825415)"
   ]
  },
  {
   "cell_type": "code",
   "execution_count": null,
   "metadata": {
    "collapsed": false
   },
   "outputs": [],
   "source": [
    "scaler.inverse_transform(0.40585274)"
   ]
  },
  {
   "cell_type": "code",
   "execution_count": null,
   "metadata": {
    "collapsed": false
   },
   "outputs": [],
   "source": [
    "scaler.inverse_transform(0.39879677)"
   ]
  },
  {
   "cell_type": "code",
   "execution_count": null,
   "metadata": {
    "collapsed": true
   },
   "outputs": [],
   "source": [
    "neurons = 512                 \n",
    "activation_function = 'tanh'  \n",
    "loss = 'mse'                  \n",
    "optimizer=\"adam\"              \n",
    "dropout = 0.25                 \n",
    "batch_size = 12               \n",
    "epochs = 53                   \n",
    "window_len = 7               \n",
    "training_size = 0.8\n",
    "merge_date = '2016-01-01'"
   ]
  },
  {
   "cell_type": "code",
   "execution_count": null,
   "metadata": {
    "collapsed": false
   },
   "outputs": [],
   "source": [
    "\n",
    "def build_model(inputs, output_size, neurons, activ_func=activation_function, dropout=dropout, loss=loss, optimizer=optimizer):\n",
    "    \"\"\"\n",
    "    inputs: input data as numpy array\n",
    "    output_size: number of predictions per input sample\n",
    "    neurons: number of neurons/ units in the LSTM layer\n",
    "    active_func: Activation function to be used in LSTM layers and Dense layer\n",
    "    dropout: dropout ration, default is 0.25\n",
    "    loss: loss function for calculating the gradient\n",
    "    optimizer: type of optimizer to backpropagate the gradient\n",
    "    This function will build 3 layered RNN model with LSTM cells with dripouts after each LSTM layer \n",
    "    and finally a dense layer to produce the output using keras' sequential model.\n",
    "    Return: Keras sequential model and model summary\n",
    "    \"\"\"\n",
    "    model = Sequential()\n",
    "    model.add(LSTM(neurons, return_sequences=True, input_shape=(inputs.shape[1], inputs.shape[2]), activation=activ_func))\n",
    "    model.add(Dropout(dropout))\n",
    "    model.add(LSTM(neurons, return_sequences=True, activation=activ_func))\n",
    "    model.add(Dropout(dropout))\n",
    "    model.add(LSTM(neurons, activation=activ_func))\n",
    "    model.add(Dropout(dropout))\n",
    "    model.add(Dense(units=output_size))\n",
    "    model.add(Activation(activ_func))\n",
    "    model.compile(loss=loss, optimizer=optimizer, metrics=['mae'])\n",
    "    model.summary()\n",
    "    return model\n",
    "btc_model = build_model(X_train, output_size=1, neurons=neurons)"
   ]
  },
  {
   "cell_type": "code",
   "execution_count": null,
   "metadata": {
    "collapsed": true
   },
   "outputs": [],
   "source": []
  }
 ],
 "metadata": {
  "kernelspec": {
   "display_name": "Python 3",
   "language": "python",
   "name": "python3"
  },
  "language_info": {
   "codemirror_mode": {
    "name": "ipython",
    "version": 3
   },
   "file_extension": ".py",
   "mimetype": "text/x-python",
   "name": "python",
   "nbconvert_exporter": "python",
   "pygments_lexer": "ipython3",
   "version": "3.6.0"
  }
 },
 "nbformat": 4,
 "nbformat_minor": 1
}
