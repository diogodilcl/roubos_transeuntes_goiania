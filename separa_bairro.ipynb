{
 "cells": [
  {
   "cell_type": "code",
   "execution_count": 188,
   "metadata": {
    "collapsed": true
   },
   "outputs": [],
   "source": [
    "import numpy as np\n",
    "import pandas as pd\n",
    "import matplotlib.pyplot as plt\n",
    "import seaborn as sb\n",
    "\n",
    "%matplotlib inline"
   ]
  },
  {
   "cell_type": "code",
   "execution_count": 189,
   "metadata": {
    "collapsed": true
   },
   "outputs": [],
   "source": [
    "df = pd.read_excel('AtlasBrasil_Consulta.xls')"
   ]
  },
  {
   "cell_type": "code",
   "execution_count": 190,
   "metadata": {},
   "outputs": [
    {
     "data": {
      "text/html": [
       "<div>\n",
       "<style>\n",
       "    .dataframe thead tr:only-child th {\n",
       "        text-align: right;\n",
       "    }\n",
       "\n",
       "    .dataframe thead th {\n",
       "        text-align: left;\n",
       "    }\n",
       "\n",
       "    .dataframe tbody tr th {\n",
       "        vertical-align: top;\n",
       "    }\n",
       "</style>\n",
       "<table border=\"1\" class=\"dataframe\">\n",
       "  <thead>\n",
       "    <tr style=\"text-align: right;\">\n",
       "      <th></th>\n",
       "      <th>Lugar</th>\n",
       "      <th>Espacialidade</th>\n",
       "      <th>COD IBGE</th>\n",
       "      <th>IDHM Renda (2010)</th>\n",
       "      <th>IDHM Longevidade (2010)</th>\n",
       "      <th>IDHM Educação (2010)</th>\n",
       "      <th>Taxa de analfabetismo - 11 a 14 anos (2010)</th>\n",
       "      <th>Taxa de analfabetismo - 15 a 17 anos (2010)</th>\n",
       "      <th>Taxa de analfabetismo - 18 a 24 anos (2010)</th>\n",
       "      <th>Taxa de analfabetismo - 25 a 29 anos (2010)</th>\n",
       "      <th>Taxa de analfabetismo - 25 anos ou mais (2010)</th>\n",
       "      <th>Taxa de analfabetismo - 15 anos ou mais (2010)</th>\n",
       "      <th>Taxa de analfabetismo - 18 anos ou mais (2010)</th>\n",
       "      <th>Renda per capita (2010)</th>\n",
       "    </tr>\n",
       "  </thead>\n",
       "  <tbody>\n",
       "    <tr>\n",
       "      <th>0</th>\n",
       "      <td>Brasil</td>\n",
       "      <td>País</td>\n",
       "      <td>--</td>\n",
       "      <td>0.739</td>\n",
       "      <td>0.816</td>\n",
       "      <td>0.637</td>\n",
       "      <td>3.24</td>\n",
       "      <td>2.20</td>\n",
       "      <td>2.61</td>\n",
       "      <td>3.96</td>\n",
       "      <td>11.82</td>\n",
       "      <td>9.61</td>\n",
       "      <td>10.19</td>\n",
       "      <td>793.87</td>\n",
       "    </tr>\n",
       "    <tr>\n",
       "      <th>1</th>\n",
       "      <td>Aeroviários / Esplanada Anicuns / São José / A...</td>\n",
       "      <td>UDH</td>\n",
       "      <td>--</td>\n",
       "      <td>0.766</td>\n",
       "      <td>0.878</td>\n",
       "      <td>0.736</td>\n",
       "      <td>0.74</td>\n",
       "      <td>0.25</td>\n",
       "      <td>0.28</td>\n",
       "      <td>0.42</td>\n",
       "      <td>3.10</td>\n",
       "      <td>2.44</td>\n",
       "      <td>2.56</td>\n",
       "      <td>942.98</td>\n",
       "    </tr>\n",
       "    <tr>\n",
       "      <th>2</th>\n",
       "      <td>Água Branca / Riviera / Sonho Verde / Califórn...</td>\n",
       "      <td>UDH</td>\n",
       "      <td>--</td>\n",
       "      <td>0.786</td>\n",
       "      <td>0.908</td>\n",
       "      <td>0.775</td>\n",
       "      <td>0.78</td>\n",
       "      <td>0.64</td>\n",
       "      <td>0.60</td>\n",
       "      <td>0.59</td>\n",
       "      <td>3.46</td>\n",
       "      <td>2.81</td>\n",
       "      <td>2.95</td>\n",
       "      <td>1063.54</td>\n",
       "    </tr>\n",
       "    <tr>\n",
       "      <th>3</th>\n",
       "      <td>Aldeia do Vale / Monte Verde (Goiânia , RM Goi...</td>\n",
       "      <td>UDH</td>\n",
       "      <td>--</td>\n",
       "      <td>1.000</td>\n",
       "      <td>0.940</td>\n",
       "      <td>0.920</td>\n",
       "      <td>0.00</td>\n",
       "      <td>0.00</td>\n",
       "      <td>0.88</td>\n",
       "      <td>0.00</td>\n",
       "      <td>0.33</td>\n",
       "      <td>0.38</td>\n",
       "      <td>0.40</td>\n",
       "      <td>6361.16</td>\n",
       "    </tr>\n",
       "    <tr>\n",
       "      <th>4</th>\n",
       "      <td>Alphaville Flamboyant / Jardins Munique / Port...</td>\n",
       "      <td>UDH</td>\n",
       "      <td>--</td>\n",
       "      <td>1.000</td>\n",
       "      <td>0.940</td>\n",
       "      <td>0.920</td>\n",
       "      <td>0.27</td>\n",
       "      <td>0.70</td>\n",
       "      <td>0.32</td>\n",
       "      <td>0.26</td>\n",
       "      <td>0.45</td>\n",
       "      <td>0.44</td>\n",
       "      <td>0.43</td>\n",
       "      <td>6361.16</td>\n",
       "    </tr>\n",
       "  </tbody>\n",
       "</table>\n",
       "</div>"
      ],
      "text/plain": [
       "                                               Lugar Espacialidade COD IBGE  \\\n",
       "0                                             Brasil          País       --   \n",
       "1  Aeroviários / Esplanada Anicuns / São José / A...           UDH       --   \n",
       "2  Água Branca / Riviera / Sonho Verde / Califórn...           UDH       --   \n",
       "3  Aldeia do Vale / Monte Verde (Goiânia , RM Goi...           UDH       --   \n",
       "4  Alphaville Flamboyant / Jardins Munique / Port...           UDH       --   \n",
       "\n",
       "   IDHM Renda (2010)  IDHM Longevidade (2010)  IDHM Educação (2010)  \\\n",
       "0              0.739                    0.816                 0.637   \n",
       "1              0.766                    0.878                 0.736   \n",
       "2              0.786                    0.908                 0.775   \n",
       "3              1.000                    0.940                 0.920   \n",
       "4              1.000                    0.940                 0.920   \n",
       "\n",
       "   Taxa de analfabetismo - 11 a 14 anos (2010)  \\\n",
       "0                                         3.24   \n",
       "1                                         0.74   \n",
       "2                                         0.78   \n",
       "3                                         0.00   \n",
       "4                                         0.27   \n",
       "\n",
       "   Taxa de analfabetismo - 15 a 17 anos (2010)  \\\n",
       "0                                         2.20   \n",
       "1                                         0.25   \n",
       "2                                         0.64   \n",
       "3                                         0.00   \n",
       "4                                         0.70   \n",
       "\n",
       "   Taxa de analfabetismo - 18 a 24 anos (2010)  \\\n",
       "0                                         2.61   \n",
       "1                                         0.28   \n",
       "2                                         0.60   \n",
       "3                                         0.88   \n",
       "4                                         0.32   \n",
       "\n",
       "   Taxa de analfabetismo - 25 a 29 anos (2010)  \\\n",
       "0                                         3.96   \n",
       "1                                         0.42   \n",
       "2                                         0.59   \n",
       "3                                         0.00   \n",
       "4                                         0.26   \n",
       "\n",
       "   Taxa de analfabetismo - 25 anos ou mais (2010)  \\\n",
       "0                                           11.82   \n",
       "1                                            3.10   \n",
       "2                                            3.46   \n",
       "3                                            0.33   \n",
       "4                                            0.45   \n",
       "\n",
       "   Taxa de analfabetismo - 15 anos ou mais (2010)  \\\n",
       "0                                            9.61   \n",
       "1                                            2.44   \n",
       "2                                            2.81   \n",
       "3                                            0.38   \n",
       "4                                            0.44   \n",
       "\n",
       "   Taxa de analfabetismo - 18 anos ou mais (2010)  Renda per capita (2010)  \n",
       "0                                           10.19                   793.87  \n",
       "1                                            2.56                   942.98  \n",
       "2                                            2.95                  1063.54  \n",
       "3                                            0.40                  6361.16  \n",
       "4                                            0.43                  6361.16  "
      ]
     },
     "execution_count": 190,
     "metadata": {},
     "output_type": "execute_result"
    }
   ],
   "source": [
    "df.head()"
   ]
  },
  {
   "cell_type": "code",
   "execution_count": 191,
   "metadata": {},
   "outputs": [
    {
     "data": {
      "text/plain": [
       "Index(['Lugar', 'Espacialidade', 'COD IBGE', 'IDHM Renda (2010)',\n",
       "       'IDHM Longevidade (2010)', 'IDHM Educação (2010)',\n",
       "       'Taxa de analfabetismo - 11 a 14 anos (2010)',\n",
       "       'Taxa de analfabetismo - 15 a 17 anos (2010)',\n",
       "       'Taxa de analfabetismo - 18 a 24 anos (2010)',\n",
       "       'Taxa de analfabetismo - 25 a 29 anos (2010)',\n",
       "       'Taxa de analfabetismo - 25 anos ou mais (2010)',\n",
       "       'Taxa de analfabetismo - 15 anos ou mais (2010)',\n",
       "       'Taxa de analfabetismo - 18 anos ou mais (2010)',\n",
       "       'Renda per capita (2010)'],\n",
       "      dtype='object')"
      ]
     },
     "execution_count": 191,
     "metadata": {},
     "output_type": "execute_result"
    }
   ],
   "source": [
    "df.columns\n",
    "\n"
   ]
  },
  {
   "cell_type": "code",
   "execution_count": 192,
   "metadata": {
    "collapsed": true
   },
   "outputs": [],
   "source": [
    "\n",
    "#df.loc[df['Lugar'].str.contains('(Goiânia , RM Goiânia)'),'REGIAO_METROPOLITANA'] = True\n",
    "#df.loc[~df['Lugar'].str.contains('(Goiânia , RM Goiânia)'),'REGIAO_METROPOLITANA'] = False"
   ]
  },
  {
   "cell_type": "code",
   "execution_count": null,
   "metadata": {
    "collapsed": true
   },
   "outputs": [],
   "source": [
    "\n"
   ]
  },
  {
   "cell_type": "code",
   "execution_count": null,
   "metadata": {
    "collapsed": true
   },
   "outputs": [],
   "source": []
  },
  {
   "cell_type": "code",
   "execution_count": null,
   "metadata": {},
   "outputs": [],
   "source": []
  },
  {
   "cell_type": "code",
   "execution_count": 193,
   "metadata": {},
   "outputs": [
    {
     "data": {
      "text/html": [
       "<div>\n",
       "<style>\n",
       "    .dataframe thead tr:only-child th {\n",
       "        text-align: right;\n",
       "    }\n",
       "\n",
       "    .dataframe thead th {\n",
       "        text-align: left;\n",
       "    }\n",
       "\n",
       "    .dataframe tbody tr th {\n",
       "        vertical-align: top;\n",
       "    }\n",
       "</style>\n",
       "<table border=\"1\" class=\"dataframe\">\n",
       "  <thead>\n",
       "    <tr style=\"text-align: right;\">\n",
       "      <th></th>\n",
       "      <th>Lugar</th>\n",
       "      <th>Espacialidade</th>\n",
       "      <th>COD IBGE</th>\n",
       "      <th>IDHM Renda (2010)</th>\n",
       "      <th>IDHM Longevidade (2010)</th>\n",
       "      <th>IDHM Educação (2010)</th>\n",
       "      <th>Taxa de analfabetismo - 11 a 14 anos (2010)</th>\n",
       "      <th>Taxa de analfabetismo - 15 a 17 anos (2010)</th>\n",
       "      <th>Taxa de analfabetismo - 18 a 24 anos (2010)</th>\n",
       "      <th>Taxa de analfabetismo - 25 a 29 anos (2010)</th>\n",
       "      <th>Taxa de analfabetismo - 25 anos ou mais (2010)</th>\n",
       "      <th>Taxa de analfabetismo - 15 anos ou mais (2010)</th>\n",
       "      <th>Taxa de analfabetismo - 18 anos ou mais (2010)</th>\n",
       "      <th>Renda per capita (2010)</th>\n",
       "    </tr>\n",
       "  </thead>\n",
       "  <tbody>\n",
       "  </tbody>\n",
       "</table>\n",
       "</div>"
      ],
      "text/plain": [
       "Empty DataFrame\n",
       "Columns: [Lugar, Espacialidade, COD IBGE, IDHM Renda (2010), IDHM Longevidade (2010), IDHM Educação (2010), Taxa de analfabetismo - 11 a 14 anos (2010), Taxa de analfabetismo - 15 a 17 anos (2010), Taxa de analfabetismo - 18 a 24 anos (2010), Taxa de analfabetismo - 25 a 29 anos (2010), Taxa de analfabetismo - 25 anos ou mais (2010), Taxa de analfabetismo - 15 anos ou mais (2010), Taxa de analfabetismo - 18 anos ou mais (2010), Renda per capita (2010)]\n",
       "Index: []"
      ]
     },
     "execution_count": 193,
     "metadata": {},
     "output_type": "execute_result"
    }
   ],
   "source": [
    "dfFinal = pd.DataFrame(columns=df.columns)\n",
    "dfFinal"
   ]
  },
  {
   "cell_type": "code",
   "execution_count": 194,
   "metadata": {
    "scrolled": false
   },
   "outputs": [],
   "source": [
    "# este codigo serve para pegar mais de um bairro que tem mais de um complemento na mesma linha     \n",
    "dfFinal = pd.DataFrame(columns=df.columns)\n",
    "dfFinal['Complemento'] = np.NaN\n",
    "dfFinal['Id_linha_original'] = 0\n",
    "for i, row in df.iterrows():\n",
    "     row['Id_linha_original'] = i+2 # criei este numero para ter um controle de qual linha originou os novos registros\n",
    "                                    # esse + 2 é por conta da linha de cabeçalho no .xls e a contagem iniciar do 0\n",
    "    # retirando (Goiania, RM Goiania) \n",
    "     ii = row['Lugar'].find('(Goiânia , RM Goiânia)')\n",
    "     lugar  = row['Lugar']\n",
    "     if ii != -1:\n",
    "         lugar = lugar[0:ii]\n",
    "            \n",
    "     # existem vários padroes no arquivo, mas em grande parte está separado por barras /\n",
    "     # alguns possuem um ou mais dois pontos':'\n",
    "     # então a estratégia é pegar o que vem antes do ':' e assumir como bairro, e o seguinte como complemento\n",
    "     # para os complementos que possuem /, serão divididos em novas linhas, uma linha pra cada, invés de deixar agrupado\n",
    "     # quando houver mais que um ':' , pegar o texto entre a barra anterior e os dois pontos como bairro, criando nova linha\n",
    "    \n",
    "    \n",
    "     #criando o array de bairros \n",
    "     bairros= []\n",
    "     if lugar.count(\":\")>1 :\n",
    "         import re\n",
    "         \n",
    "         indexponto = [m.start() for m in re.finditer(':', lugar)] # esta linha pega o index de todas as ocorrencias de ':'\n",
    "        \n",
    "         \n",
    "        \n",
    "         i = 0 #era pra ser um for, mas o python n faz o for classico\n",
    "         while i < len(indexponto):\n",
    "            bairros =[]\n",
    "            #pega o nome do bairro\n",
    "            nomeBairro = lugar[0:indexponto[i]] # por padrao pega do inicio ao ':'\n",
    "            if i !=0 and nomeBairro.rfind(\"/\")>0:  # se não for a primeira iteracao e houver barra\n",
    "                nomeBairro = lugar[nomeBairro.rfind(\"/\")+1:indexponto[i]] # o nome do bairro sera da barra até os pontos\n",
    "           \n",
    "            #pega o complemento\n",
    "            complementoBruto = lugar[indexponto[i]+1:len(lugar)]# este +1 é pra pular os dois pontos\n",
    "            if i+1<len(indexponto)  : \n",
    "                complementoBruto = lugar[indexponto[i]+1:indexponto[i+1]]\n",
    "                complementoBruto = complementoBruto[0:complementoBruto.rfind(\"/\")]\n",
    "                \n",
    "            \n",
    "            for comp in complementoBruto.split(\"/\") : \n",
    "                bairros.append(nomeBairro +\" ( \" + comp +\" )\") # formata para o a forma padrao de processamento\n",
    "                \n",
    "            i = i+1    \n",
    "                \n",
    "     elif lugar.count(\":\")==1 : # processo similar ao anterior\n",
    "         complemento = lugar[lugar.find(\":\")+1:len(lugar)]\n",
    "         lugar  = lugar[0:lugar.find(\":\")]\n",
    "         for comp in complemento.split(\"/\") :\n",
    "             bairros.append(lugar +\" (\"+ comp+\")\")   \n",
    "         \n",
    "     else:\n",
    "         bairros = lugar.split(\"/\") # processo padrão, na maioria das aglomerações, os bairros sao separadas por barras\n",
    "         \n",
    "        #reescrive tudo em um novo DataFrame, processando todos da mesma forma\n",
    "     for bairro in bairros:        \n",
    "           complemento = np.NaN\n",
    "           ii = bairro.find('(')\n",
    "           if ii != -1 :\n",
    "                bairro = bairro[:-2]\n",
    "                    \n",
    "           if ii != -1 :\n",
    "                complemento = bairro[ii+1:len(bairro)].strip()\n",
    "                bairro = bairro[0:ii]\n",
    "                \n",
    "           \n",
    "           rowTeste = row        \n",
    "           rowTeste['Complemento'] = complemento\n",
    "           rowTeste['Lugar'] = bairro.strip()\n",
    "           dfFinal.loc[dfFinal.size] = rowTeste"
   ]
  },
  {
   "cell_type": "code",
   "execution_count": 195,
   "metadata": {},
   "outputs": [],
   "source": [
    "for i, row in dfFinal.iterrows():\n",
    "     if row['Lugar'].find('Unidade Territorial de Planejamento')==0 :\n",
    "        dfFinal.set_value(index=i,col='Lugar',value=row['Lugar'][36:])\n",
    "       "
   ]
  },
  {
   "cell_type": "code",
   "execution_count": null,
   "metadata": {
    "collapsed": true
   },
   "outputs": [],
   "source": []
  },
  {
   "cell_type": "code",
   "execution_count": 196,
   "metadata": {},
   "outputs": [],
   "source": [
    "dfFinal.to_excel('AtlasBairrosTratadosSemCocheia.xls')"
   ]
  },
  {
   "cell_type": "code",
   "execution_count": null,
   "metadata": {
    "collapsed": true
   },
   "outputs": [],
   "source": [
    "\n"
   ]
  },
  {
   "cell_type": "code",
   "execution_count": null,
   "metadata": {
    "collapsed": true
   },
   "outputs": [],
   "source": []
  }
 ],
 "metadata": {
  "kernelspec": {
   "display_name": "Python 3",
   "language": "python",
   "name": "python3"
  },
  "language_info": {
   "codemirror_mode": {
    "name": "ipython",
    "version": 3
   },
   "file_extension": ".py",
   "mimetype": "text/x-python",
   "name": "python",
   "nbconvert_exporter": "python",
   "pygments_lexer": "ipython3",
   "version": "3.6.1"
  }
 },
 "nbformat": 4,
 "nbformat_minor": 2
}
