{
 "cells": [
  {
   "cell_type": "code",
   "execution_count": 194,
   "metadata": {
    "collapsed": true
   },
   "outputs": [],
   "source": [
    "import numpy as np\n",
    "import pandas as pd\n",
    "import matplotlib.pyplot as plt\n",
    "import seaborn as sb\n",
    "\n",
    "%matplotlib inline"
   ]
  },
  {
   "cell_type": "code",
   "execution_count": 195,
   "metadata": {
    "collapsed": true
   },
   "outputs": [],
   "source": [
    "df = pd.read_excel('crimes.xls')\n",
    "sheets = pd.ExcelFile('crimes.xls').sheet_names\n",
    "df = df[0:0]\n",
    "for sheet in sheets:\n",
    "        df = df.append(pd.read_excel('crimes.xls', sheet))"
   ]
  },
  {
   "cell_type": "code",
   "execution_count": 196,
   "metadata": {
    "collapsed": false
   },
   "outputs": [],
   "source": [
    "df.TIPO_CRIME.unique()\n",
    "\n",
    "df.loc[df['TIPO_CRIME'].str.contains(\"CPB ART. 155\"), 'TIPO_DE_CRIME'] = 1 #Furto\n",
    "df.loc[df['TIPO_CRIME'].str.contains(\"CPB ART. 156\"), 'TIPO_DE_CRIME'] = 1 #Furto\n",
    "df.loc[df['TIPO_CRIME'].str.contains(\"CPB ART. 157\"), 'TIPO_DE_CRIME'] = 2 #Roubo"
   ]
  },
  {
   "cell_type": "code",
   "execution_count": 197,
   "metadata": {
    "collapsed": false
   },
   "outputs": [
    {
     "data": {
      "text/plain": [
       "1.0    51907\n",
       "2.0    41290\n",
       "Name: TIPO_DE_CRIME, dtype: int64"
      ]
     },
     "execution_count": 197,
     "metadata": {},
     "output_type": "execute_result"
    }
   ],
   "source": [
    "df.TIPO_DE_CRIME.value_counts(dropna=False)"
   ]
  },
  {
   "cell_type": "code",
   "execution_count": 198,
   "metadata": {
    "collapsed": false
   },
   "outputs": [
    {
     "data": {
      "text/plain": [
       "array([None, 'FURTO EM VEÍCULO', 'FURTO A TRANSEUNTE', 'OUTROS FURTOS',\n",
       "       'ROUBO DE VEÍCULO',\n",
       "       'ROUBO EM ESTABELECIMENTO COMERCIAL OU DE SERVIÇOS',\n",
       "       'ROUBO A TRANSEUNTE', 'ROUBO DE CELULAR', 'FURTO DE DOCUMENTOS',\n",
       "       'ROUBO EM TRANSPORTE COLETIVO',\n",
       "       'FURTO A USUÁRIOS DE TRANSPORTE COLETIVO', 'FURTO DE BICICLETA',\n",
       "       'FURTO DE CELULAR', 'OUTROS ROUBOS', 'FURTO EM RESIDÊNCIA',\n",
       "       'ROUBO EM RESIDÊNCIA',\n",
       "       'FURTO EM ESTABELECIMENTO COMERCIAL OU DE SERVIÇOS',\n",
       "       'FURTO DE HIDRÔMETRO (MEDIDOR DE ÁGUA)',\n",
       "       'FURTO DE FIOS DE COBRE/ALUMÍNIO', 'FURTO EM REPARTIÇÃO PÚBLICA',\n",
       "       'FURTO DE VEICULO', 'FURTO DE PADRÃO', 'ROUBO EM FARMÁCIA',\n",
       "       'ROUBO SAIDINHA DE BANCO', 'FURTO DE ARMAS', 'ROUBO DE DOCUMENTOS',\n",
       "       'ROUBO DE JÓIAS', 'ROUBO A POSTO DE COMBUSTÍVEL',\n",
       "       'FURTO DE BOTIJÃO DE GÁS', 'FURTO DE CARGA', 'FURTO DE SEMOVENTES',\n",
       "       'ROUBO A CASA LOTÉRICA', 'ROUBO EM ZONA RURAL',\n",
       "       'FURTO DE COMPUTADORES/PERIFÉRICOS',\n",
       "       'ROUBO A ESTABELECIMENTO HOSPITALAR', 'ROUBO DE CARGA',\n",
       "       'ROUBO A ESTABELECIMENTO DE ENSINO', 'ROUBO DE BICICLETA',\n",
       "       'FURTO EM ZONA RURAL',\n",
       "       'FURTO DE HODÔMETRO (MEDIDOR DE DISTANCIA PERCORRIDA)',\n",
       "       'ROUBO A CAIXA ELETRÔNICO', 'ROUBO A INSTITUIÇÃO FINANCEIRA',\n",
       "       'ROUBO COM RESTRIÇÃO DE LIBERDADE DA VÍTIMA',\n",
       "       'FURTO DE APARELHO DE SOM DE AUTOMÓVEL', 'ROUBO DE SEMOVENTES',\n",
       "       'ROUBO A EXCURSÃO',\n",
       "       'ROUBO A OU DE VEICULO DE TRANSPORTE DE VALORES',\n",
       "       'FURTO PRATICADO POR EMPREGADA DOMÉSTICA',\n",
       "       'FURTO DE MÁQUINAS AGRÍCOLAS E ACESSÓRIOS',\n",
       "       'ROUBO DE MÁQUINAS AGRÍCOLAS E ACESSÓRIOS'], dtype=object)"
      ]
     },
     "execution_count": 198,
     "metadata": {},
     "output_type": "execute_result"
    }
   ],
   "source": [
    "df['ITEM_ROUBADO'] = df['TIPO_CRIME'].str.split('->',expand=True)[2].str.strip()\n",
    "df.ITEM_ROUBADO.unique()"
   ]
  },
  {
   "cell_type": "code",
   "execution_count": 199,
   "metadata": {
    "collapsed": false
   },
   "outputs": [
    {
     "data": {
      "text/plain": [
       "ROUBO A TRANSEUNTE                                      17450\n",
       "NaN                                                     14514\n",
       "FURTO DE DOCUMENTOS                                     10545\n",
       "OUTROS FURTOS                                            8976\n",
       "ROUBO DE VEÍCULO                                         5736\n",
       "FURTO EM RESIDÊNCIA                                      4923\n",
       "FURTO A USUÁRIOS DE TRANSPORTE COLETIVO                  4488\n",
       "FURTO DE CELULAR                                         4122\n",
       "FURTO EM VEÍCULO                                         3531\n",
       "ROUBO DE CELULAR                                         3174\n",
       "ROUBO EM ESTABELECIMENTO COMERCIAL OU DE SERVIÇOS        2732\n",
       "FURTO DE VEICULO                                         2494\n",
       "FURTO EM ESTABELECIMENTO COMERCIAL OU DE SERVIÇOS        2301\n",
       "FURTO A TRANSEUNTE                                       2297\n",
       "OUTROS ROUBOS                                            1714\n",
       "ROUBO EM RESIDÊNCIA                                      1680\n",
       "ROUBO EM TRANSPORTE COLETIVO                              628\n",
       "ROUBO DE DOCUMENTOS                                       300\n",
       "FURTO DE HIDRÔMETRO (MEDIDOR DE ÁGUA)                     247\n",
       "FURTO EM REPARTIÇÃO PÚBLICA                               235\n",
       "ROUBO EM FARMÁCIA                                         183\n",
       "ROUBO A POSTO DE COMBUSTÍVEL                              183\n",
       "FURTO DE PADRÃO                                           168\n",
       "FURTO DE BICICLETA                                        157\n",
       "FURTO DE ARMAS                                             54\n",
       "FURTO DE FIOS DE COBRE/ALUMÍNIO                            53\n",
       "ROUBO DE CARGA                                             50\n",
       "FURTO DE CARGA                                             38\n",
       "FURTO DE COMPUTADORES/PERIFÉRICOS                          32\n",
       "FURTO DE SEMOVENTES                                        30\n",
       "ROUBO SAIDINHA DE BANCO                                    28\n",
       "FURTO EM ZONA RURAL                                        20\n",
       "ROUBO DE BICICLETA                                         16\n",
       "FURTO DE BOTIJÃO DE GÁS                                    12\n",
       "ROUBO EM ZONA RURAL                                        12\n",
       "ROUBO COM RESTRIÇÃO DE LIBERDADE DA VÍTIMA                 11\n",
       "ROUBO A ESTABELECIMENTO DE ENSINO                          10\n",
       "ROUBO A INSTITUIÇÃO FINANCEIRA                             10\n",
       "FURTO DE HODÔMETRO (MEDIDOR DE DISTANCIA PERCORRIDA)        8\n",
       "FURTO DE APARELHO DE SOM DE AUTOMÓVEL                       7\n",
       "ROUBO A CASA LOTÉRICA                                       5\n",
       "ROUBO A ESTABELECIMENTO HOSPITALAR                          5\n",
       "ROUBO DE JÓIAS                                              4\n",
       "ROUBO DE SEMOVENTES                                         3\n",
       "FURTO PRATICADO POR EMPREGADA DOMÉSTICA                     3\n",
       "ROUBO DE MÁQUINAS AGRÍCOLAS E ACESSÓRIOS                    3\n",
       "ROUBO A CAIXA ELETRÔNICO                                    2\n",
       "ROUBO A EXCURSÃO                                            1\n",
       "FURTO DE MÁQUINAS AGRÍCOLAS E ACESSÓRIOS                    1\n",
       "ROUBO A OU DE VEICULO DE TRANSPORTE DE VALORES              1\n",
       "Name: ITEM_ROUBADO, dtype: int64"
      ]
     },
     "execution_count": 199,
     "metadata": {},
     "output_type": "execute_result"
    }
   ],
   "source": [
    "\n",
    "df.ITEM_ROUBADO.value_counts(dropna=False)"
   ]
  },
  {
   "cell_type": "code",
   "execution_count": 200,
   "metadata": {
    "collapsed": false
   },
   "outputs": [
    {
     "data": {
      "text/html": [
       "<div>\n",
       "<table border=\"1\" class=\"dataframe\">\n",
       "  <thead>\n",
       "    <tr style=\"text-align: right;\">\n",
       "      <th></th>\n",
       "      <th>TIPO_CRIME</th>\n",
       "      <th>DATA_OCORRENCIA</th>\n",
       "      <th>HORARIO</th>\n",
       "      <th>CIDADE</th>\n",
       "      <th>BAIRRO</th>\n",
       "      <th>RUA</th>\n",
       "      <th>GENERO_VITIMA</th>\n",
       "      <th>DN</th>\n",
       "      <th>TIPO_DE_CRIME</th>\n",
       "      <th>ITEM_ROUBADO</th>\n",
       "    </tr>\n",
       "  </thead>\n",
       "  <tbody>\n",
       "    <tr>\n",
       "      <th>0</th>\n",
       "      <td>CPB ART. 155 § 4º: FURTO QUALIFICADO</td>\n",
       "      <td>2014-12-15</td>\n",
       "      <td>02:00</td>\n",
       "      <td>GOIÂNIA</td>\n",
       "      <td>JARDIM GUANABARA II</td>\n",
       "      <td>AVENIDA GB-05, AREA ESPECIAL</td>\n",
       "      <td>NaN</td>\n",
       "      <td>NaN</td>\n",
       "      <td>1.0</td>\n",
       "      <td>None</td>\n",
       "    </tr>\n",
       "    <tr>\n",
       "      <th>1</th>\n",
       "      <td>CPB ART. 155 § 4º: FURTO QUALIFICADO</td>\n",
       "      <td>2014-11-08</td>\n",
       "      <td>10:00</td>\n",
       "      <td>GOIÂNIA</td>\n",
       "      <td>AEROVIÁRIO</td>\n",
       "      <td>RUA 612</td>\n",
       "      <td>NaN</td>\n",
       "      <td>NaN</td>\n",
       "      <td>1.0</td>\n",
       "      <td>None</td>\n",
       "    </tr>\n",
       "    <tr>\n",
       "      <th>2</th>\n",
       "      <td>CPB ART. 156: FURTO DE COISA COMUM</td>\n",
       "      <td>2014-12-18</td>\n",
       "      <td>09:00</td>\n",
       "      <td>GOIÂNIA</td>\n",
       "      <td>SETOR SUL</td>\n",
       "      <td>RUA 83</td>\n",
       "      <td>MASCULINO</td>\n",
       "      <td>1979-08-10 00:00:00</td>\n",
       "      <td>1.0</td>\n",
       "      <td>None</td>\n",
       "    </tr>\n",
       "    <tr>\n",
       "      <th>3</th>\n",
       "      <td>CPB ART. 155 § 4º: FURTO QUALIFICADO</td>\n",
       "      <td>2015-09-23</td>\n",
       "      <td>08:55</td>\n",
       "      <td>GOIÂNIA</td>\n",
       "      <td>SETOR SUDOESTE</td>\n",
       "      <td>RUA C 56</td>\n",
       "      <td>MASCULINO</td>\n",
       "      <td>1987-03-05 00:00:00</td>\n",
       "      <td>1.0</td>\n",
       "      <td>None</td>\n",
       "    </tr>\n",
       "    <tr>\n",
       "      <th>4</th>\n",
       "      <td>CPB ART. 155 § 4º: FURTO QUALIFICADO</td>\n",
       "      <td>2015-07-07</td>\n",
       "      <td>11:30</td>\n",
       "      <td>GOIÂNIA</td>\n",
       "      <td>JARDIM GOIÁS</td>\n",
       "      <td>AV. JAMEL CECÍLIO</td>\n",
       "      <td>FEMININO</td>\n",
       "      <td>1974-05-07 00:00:00</td>\n",
       "      <td>1.0</td>\n",
       "      <td>None</td>\n",
       "    </tr>\n",
       "  </tbody>\n",
       "</table>\n",
       "</div>"
      ],
      "text/plain": [
       "                             TIPO_CRIME DATA_OCORRENCIA HORARIO   CIDADE  \\\n",
       "0  CPB ART. 155 § 4º: FURTO QUALIFICADO      2014-12-15   02:00  GOIÂNIA   \n",
       "1  CPB ART. 155 § 4º: FURTO QUALIFICADO      2014-11-08   10:00  GOIÂNIA   \n",
       "2    CPB ART. 156: FURTO DE COISA COMUM      2014-12-18   09:00  GOIÂNIA   \n",
       "3  CPB ART. 155 § 4º: FURTO QUALIFICADO      2015-09-23   08:55  GOIÂNIA   \n",
       "4  CPB ART. 155 § 4º: FURTO QUALIFICADO      2015-07-07   11:30  GOIÂNIA   \n",
       "\n",
       "                BAIRRO                           RUA GENERO_VITIMA  \\\n",
       "0  JARDIM GUANABARA II  AVENIDA GB-05, AREA ESPECIAL           NaN   \n",
       "1           AEROVIÁRIO                       RUA 612           NaN   \n",
       "2            SETOR SUL                        RUA 83     MASCULINO   \n",
       "3       SETOR SUDOESTE                      RUA C 56     MASCULINO   \n",
       "4         JARDIM GOIÁS             AV. JAMEL CECÍLIO      FEMININO   \n",
       "\n",
       "                    DN  TIPO_DE_CRIME ITEM_ROUBADO  \n",
       "0                  NaN            1.0         None  \n",
       "1                  NaN            1.0         None  \n",
       "2  1979-08-10 00:00:00            1.0         None  \n",
       "3  1987-03-05 00:00:00            1.0         None  \n",
       "4  1974-05-07 00:00:00            1.0         None  "
      ]
     },
     "execution_count": 200,
     "metadata": {},
     "output_type": "execute_result"
    }
   ],
   "source": [
    "df['DIA_SEMANA'] = df['DATA_OCORRENCIA'].dt.dayofweek\n",
    "df.head()"
   ]
  },
  {
   "cell_type": "code",
   "execution_count": 201,
   "metadata": {
    "collapsed": false
   },
   "outputs": [
    {
     "data": {
      "text/plain": [
       "2    27120\n",
       "4    26825\n",
       "3    26705\n",
       "1    10407\n",
       "dtype: int64"
      ]
     },
     "execution_count": 201,
     "metadata": {},
     "output_type": "execute_result"
    }
   ],
   "source": [
    "df['HORA'] = pd.to_datetime(df['HORARIO'], format='%H:%M').dt.hour\n",
    "df['PERIODO_HORA'] = pd.cut(df.HORA,[0,6,12,18,24],labels=[1,2,3,4]) # 1 - MADRUGADA, 2 - MANHÃ, 3 - TARDE, 4 - NOITE\n",
    "count_status_periodo = pd.value_counts(df['PERIODO_HORA'].values, sort=True)\n",
    "count_status_periodo"
   ]
  },
  {
   "cell_type": "code",
   "execution_count": 206,
   "metadata": {
    "collapsed": false
   },
   "outputs": [
    {
     "data": {
      "text/plain": [
       "21    2350\n",
       "20    2271\n",
       "23    2204\n",
       "22    2196\n",
       "25    2173\n",
       "26    2123\n",
       "19    2118\n",
       "24    2109\n",
       "28    2101\n",
       "27    2076\n",
       "29    2014\n",
       "34    1955\n",
       "30    1931\n",
       "32    1927\n",
       "33    1895\n",
       "31    1885\n",
       "18    1771\n",
       "35    1763\n",
       "36    1759\n",
       "37    1692\n",
       "38    1581\n",
       "39    1533\n",
       "40    1514\n",
       "41    1365\n",
       "42    1256\n",
       "44    1204\n",
       "43    1194\n",
       "47    1138\n",
       "45    1107\n",
       "46    1099\n",
       "      ... \n",
       "70     322\n",
       "14     276\n",
       "71     276\n",
       "72     259\n",
       "73     234\n",
       "74     219\n",
       "76     176\n",
       "75     164\n",
       "77     143\n",
       "13     136\n",
       "78     128\n",
       "79      89\n",
       "80      86\n",
       "12      68\n",
       "81      65\n",
       "82      53\n",
       "84      46\n",
       "83      41\n",
       "86      25\n",
       "85      24\n",
       "87      18\n",
       "11      17\n",
       "88      16\n",
       "89      10\n",
       "90       8\n",
       "91       5\n",
       "10       4\n",
       "92       2\n",
       "93       2\n",
       "95       2\n",
       "Name: IDADE, dtype: int64"
      ]
     },
     "execution_count": 206,
     "metadata": {},
     "output_type": "execute_result"
    }
   ],
   "source": [
    "df1 = df['DN'].fillna('1800-01-01 00:00:00')\n",
    "df['DN'] = df1\n",
    "df2 = df.loc[df['DN'].str.contains('-')==False]\n",
    "df = df.drop(df2.DN.index)\n",
    "df['DATA_OCORRENCIA'] = pd.to_datetime(df['DATA_OCORRENCIA'])\n",
    "df['DN'] = pd.to_datetime(df['DN'])\n",
    "df['IDADE'] = ((df['DATA_OCORRENCIA'] -df['DN'])/365).dt.days\n",
    "df.drop(df[df['IDADE'] > 95].index, inplace=True)\n",
    "df.drop(df[df['IDADE'] < 10].index, inplace=True)\n",
    "df.IDADE.value_counts()"
   ]
  },
  {
   "cell_type": "code",
   "execution_count": 207,
   "metadata": {
    "collapsed": false
   },
   "outputs": [],
   "source": [
    "result = df.groupby([\"BAIRRO\", \"DATA_OCORRENCIA\"]).size().reset_index(name=\"COUNT\")\n",
    "\n",
    "for index, row in result.iterrows():\n",
    "    df.loc[(df[\"BAIRRO\"] == row.BAIRRO) & (df[\"DATA_OCORRENCIA\"] == row.DATA_OCORRENCIA), \"QUANTIDADE_ROUBOS\"] = row.COUNT"
   ]
  },
  {
   "cell_type": "code",
   "execution_count": null,
   "metadata": {
    "collapsed": false
   },
   "outputs": [],
   "source": []
  },
  {
   "cell_type": "code",
   "execution_count": null,
   "metadata": {
    "collapsed": false
   },
   "outputs": [],
   "source": [
    "\n",
    "# def quantidade_crimes(x):\n",
    "#     val = result.loc[(result[\"BAIRRO\"] == x.BAIRRO) & (result[\"DATA_OCORRENCIA\"] == x.DATA_OCORRENCIA), \"COUNT\"]\n",
    "#     print(val.value)\n",
    "    \n",
    "# #df.ANO_CONCLUSAO_2_GRAU = df_predict.apply(ano_de_conclusao, axis = 1)\n",
    "# df.apply(quantidade_crimes, axis = 1)"
   ]
  },
  {
   "cell_type": "code",
   "execution_count": null,
   "metadata": {
    "collapsed": false
   },
   "outputs": [],
   "source": [
    "#df.drop(df[df['DN'].str.contains(\"25/04/1885\",na=False)].index, inplace=True)\n",
    "# 25/04/1885 \n",
    "#  df['IDADE'] = pd.to_datetime(df.DATA_OCORRENCIA) - pd.to_datetime(df.DN)\n",
    "# df.DN.value_counts()"
   ]
  },
  {
   "cell_type": "code",
   "execution_count": 208,
   "metadata": {
    "collapsed": true
   },
   "outputs": [],
   "source": [
    "df.drop('TIPO_CRIME', axis=1, inplace=True)\n",
    "df.drop('CIDADE', axis=1, inplace=True)\n",
    "df.drop('RUA', axis=1, inplace=True)\n",
    "df.drop('HORARIO', axis=1, inplace=True)"
   ]
  },
  {
   "cell_type": "code",
   "execution_count": 209,
   "metadata": {
    "collapsed": false
   },
   "outputs": [
    {
     "data": {
      "text/html": [
       "<div>\n",
       "<table border=\"1\" class=\"dataframe\">\n",
       "  <thead>\n",
       "    <tr style=\"text-align: right;\">\n",
       "      <th></th>\n",
       "      <th>DATA_OCORRENCIA</th>\n",
       "      <th>BAIRRO</th>\n",
       "      <th>GENERO_VITIMA</th>\n",
       "      <th>DN</th>\n",
       "      <th>TIPO_DE_CRIME</th>\n",
       "      <th>ITEM_ROUBADO</th>\n",
       "      <th>HORA</th>\n",
       "      <th>PERIODO_HORA</th>\n",
       "      <th>IDADE</th>\n",
       "      <th>QUANTIDADE_ROUBOS</th>\n",
       "    </tr>\n",
       "  </thead>\n",
       "  <tbody>\n",
       "    <tr>\n",
       "      <th>4</th>\n",
       "      <td>2015-07-07</td>\n",
       "      <td>JARDIM GOIÁS</td>\n",
       "      <td>FEMININO</td>\n",
       "      <td>1974-05-07</td>\n",
       "      <td>1.0</td>\n",
       "      <td>None</td>\n",
       "      <td>11</td>\n",
       "      <td>2</td>\n",
       "      <td>41</td>\n",
       "      <td>1.0</td>\n",
       "    </tr>\n",
       "    <tr>\n",
       "      <th>7</th>\n",
       "      <td>2015-08-28</td>\n",
       "      <td>SETOR BUENO</td>\n",
       "      <td>FEMININO</td>\n",
       "      <td>1992-09-24</td>\n",
       "      <td>2.0</td>\n",
       "      <td>None</td>\n",
       "      <td>20</td>\n",
       "      <td>4</td>\n",
       "      <td>22</td>\n",
       "      <td>2.0</td>\n",
       "    </tr>\n",
       "    <tr>\n",
       "      <th>10</th>\n",
       "      <td>2015-06-18</td>\n",
       "      <td>JARDIM GOIÁS</td>\n",
       "      <td>FEMININO</td>\n",
       "      <td>1970-08-25</td>\n",
       "      <td>1.0</td>\n",
       "      <td>None</td>\n",
       "      <td>16</td>\n",
       "      <td>3</td>\n",
       "      <td>44</td>\n",
       "      <td>1.0</td>\n",
       "    </tr>\n",
       "    <tr>\n",
       "      <th>11</th>\n",
       "      <td>2015-01-13</td>\n",
       "      <td>SETOR MORADA DO SOL</td>\n",
       "      <td>FEMININO</td>\n",
       "      <td>1961-08-17</td>\n",
       "      <td>1.0</td>\n",
       "      <td>None</td>\n",
       "      <td>2</td>\n",
       "      <td>1</td>\n",
       "      <td>53</td>\n",
       "      <td>1.0</td>\n",
       "    </tr>\n",
       "    <tr>\n",
       "      <th>13</th>\n",
       "      <td>2015-10-20</td>\n",
       "      <td>NOVA SUÍÇA</td>\n",
       "      <td>MASCULINO</td>\n",
       "      <td>1983-05-21</td>\n",
       "      <td>2.0</td>\n",
       "      <td>None</td>\n",
       "      <td>11</td>\n",
       "      <td>2</td>\n",
       "      <td>32</td>\n",
       "      <td>1.0</td>\n",
       "    </tr>\n",
       "  </tbody>\n",
       "</table>\n",
       "</div>"
      ],
      "text/plain": [
       "   DATA_OCORRENCIA               BAIRRO GENERO_VITIMA         DN  \\\n",
       "4       2015-07-07         JARDIM GOIÁS      FEMININO 1974-05-07   \n",
       "7       2015-08-28          SETOR BUENO      FEMININO 1992-09-24   \n",
       "10      2015-06-18         JARDIM GOIÁS      FEMININO 1970-08-25   \n",
       "11      2015-01-13  SETOR MORADA DO SOL      FEMININO 1961-08-17   \n",
       "13      2015-10-20           NOVA SUÍÇA     MASCULINO 1983-05-21   \n",
       "\n",
       "    TIPO_DE_CRIME ITEM_ROUBADO  HORA PERIODO_HORA  IDADE  QUANTIDADE_ROUBOS  \n",
       "4             1.0         None    11            2     41                1.0  \n",
       "7             2.0         None    20            4     22                2.0  \n",
       "10            1.0         None    16            3     44                1.0  \n",
       "11            1.0         None     2            1     53                1.0  \n",
       "13            2.0         None    11            2     32                1.0  "
      ]
     },
     "execution_count": 209,
     "metadata": {},
     "output_type": "execute_result"
    }
   ],
   "source": [
    "df.head()"
   ]
  },
  {
   "cell_type": "code",
   "execution_count": 210,
   "metadata": {
    "collapsed": false
   },
   "outputs": [
    {
     "data": {
      "text/html": [
       "<div>\n",
       "<table border=\"1\" class=\"dataframe\">\n",
       "  <thead>\n",
       "    <tr style=\"text-align: right;\">\n",
       "      <th></th>\n",
       "      <th>DATA_OCORRENCIA</th>\n",
       "      <th>BAIRRO</th>\n",
       "      <th>GENERO_VITIMA</th>\n",
       "      <th>DN</th>\n",
       "      <th>TIPO_DE_CRIME</th>\n",
       "      <th>ITEM_ROUBADO</th>\n",
       "      <th>HORA</th>\n",
       "      <th>PERIODO_HORA</th>\n",
       "      <th>IDADE</th>\n",
       "      <th>QUANTIDADE_ROUBOS</th>\n",
       "    </tr>\n",
       "  </thead>\n",
       "  <tbody>\n",
       "    <tr>\n",
       "      <th>4</th>\n",
       "      <td>2015-07-07</td>\n",
       "      <td>JARDIM GOIÁS</td>\n",
       "      <td>2</td>\n",
       "      <td>1974-05-07</td>\n",
       "      <td>1.0</td>\n",
       "      <td>None</td>\n",
       "      <td>11</td>\n",
       "      <td>2</td>\n",
       "      <td>41</td>\n",
       "      <td>1.0</td>\n",
       "    </tr>\n",
       "    <tr>\n",
       "      <th>7</th>\n",
       "      <td>2015-08-28</td>\n",
       "      <td>SETOR BUENO</td>\n",
       "      <td>2</td>\n",
       "      <td>1992-09-24</td>\n",
       "      <td>2.0</td>\n",
       "      <td>None</td>\n",
       "      <td>20</td>\n",
       "      <td>4</td>\n",
       "      <td>22</td>\n",
       "      <td>2.0</td>\n",
       "    </tr>\n",
       "    <tr>\n",
       "      <th>10</th>\n",
       "      <td>2015-06-18</td>\n",
       "      <td>JARDIM GOIÁS</td>\n",
       "      <td>2</td>\n",
       "      <td>1970-08-25</td>\n",
       "      <td>1.0</td>\n",
       "      <td>None</td>\n",
       "      <td>16</td>\n",
       "      <td>3</td>\n",
       "      <td>44</td>\n",
       "      <td>1.0</td>\n",
       "    </tr>\n",
       "    <tr>\n",
       "      <th>11</th>\n",
       "      <td>2015-01-13</td>\n",
       "      <td>SETOR MORADA DO SOL</td>\n",
       "      <td>2</td>\n",
       "      <td>1961-08-17</td>\n",
       "      <td>1.0</td>\n",
       "      <td>None</td>\n",
       "      <td>2</td>\n",
       "      <td>1</td>\n",
       "      <td>53</td>\n",
       "      <td>1.0</td>\n",
       "    </tr>\n",
       "    <tr>\n",
       "      <th>13</th>\n",
       "      <td>2015-10-20</td>\n",
       "      <td>NOVA SUÍÇA</td>\n",
       "      <td>1</td>\n",
       "      <td>1983-05-21</td>\n",
       "      <td>2.0</td>\n",
       "      <td>None</td>\n",
       "      <td>11</td>\n",
       "      <td>2</td>\n",
       "      <td>32</td>\n",
       "      <td>1.0</td>\n",
       "    </tr>\n",
       "  </tbody>\n",
       "</table>\n",
       "</div>"
      ],
      "text/plain": [
       "   DATA_OCORRENCIA               BAIRRO GENERO_VITIMA         DN  \\\n",
       "4       2015-07-07         JARDIM GOIÁS             2 1974-05-07   \n",
       "7       2015-08-28          SETOR BUENO             2 1992-09-24   \n",
       "10      2015-06-18         JARDIM GOIÁS             2 1970-08-25   \n",
       "11      2015-01-13  SETOR MORADA DO SOL             2 1961-08-17   \n",
       "13      2015-10-20           NOVA SUÍÇA             1 1983-05-21   \n",
       "\n",
       "    TIPO_DE_CRIME ITEM_ROUBADO  HORA PERIODO_HORA  IDADE  QUANTIDADE_ROUBOS  \n",
       "4             1.0         None    11            2     41                1.0  \n",
       "7             2.0         None    20            4     22                2.0  \n",
       "10            1.0         None    16            3     44                1.0  \n",
       "11            1.0         None     2            1     53                1.0  \n",
       "13            2.0         None    11            2     32                1.0  "
      ]
     },
     "execution_count": 210,
     "metadata": {},
     "output_type": "execute_result"
    }
   ],
   "source": [
    "df.loc[df.GENERO_VITIMA == 'MASCULINO','GENERO_VITIMA'] = 1 #MASCULINO\n",
    "df.loc[df.GENERO_VITIMA == 'FEMININO','GENERO_VITIMA'] = 2 #FEMININO\n",
    "df.loc[df.GENERO_VITIMA == 'NÃO-INFORMADO','GENERO_VITIMA'] = 3 #'NÃO-INFORMADO'\n",
    "df.loc[df.GENERO_VITIMA.isnull(),'GENERO_VITIMA'] = 3 #'NÃO-INFORMADO'\n",
    "df.head()"
   ]
  },
  {
   "cell_type": "code",
   "execution_count": 211,
   "metadata": {
    "collapsed": false
   },
   "outputs": [
    {
     "data": {
      "text/html": [
       "<div>\n",
       "<table border=\"1\" class=\"dataframe\">\n",
       "  <thead>\n",
       "    <tr style=\"text-align: right;\">\n",
       "      <th></th>\n",
       "      <th>TIPO_DE_CRIME</th>\n",
       "      <th>HORA</th>\n",
       "      <th>IDADE</th>\n",
       "      <th>QUANTIDADE_ROUBOS</th>\n",
       "    </tr>\n",
       "  </thead>\n",
       "  <tbody>\n",
       "    <tr>\n",
       "      <th>TIPO_DE_CRIME</th>\n",
       "      <td>1.000000</td>\n",
       "      <td>0.135736</td>\n",
       "      <td>-0.200906</td>\n",
       "      <td>-0.108436</td>\n",
       "    </tr>\n",
       "    <tr>\n",
       "      <th>HORA</th>\n",
       "      <td>0.135736</td>\n",
       "      <td>1.000000</td>\n",
       "      <td>-0.111357</td>\n",
       "      <td>0.010464</td>\n",
       "    </tr>\n",
       "    <tr>\n",
       "      <th>IDADE</th>\n",
       "      <td>-0.200906</td>\n",
       "      <td>-0.111357</td>\n",
       "      <td>1.000000</td>\n",
       "      <td>0.029783</td>\n",
       "    </tr>\n",
       "    <tr>\n",
       "      <th>QUANTIDADE_ROUBOS</th>\n",
       "      <td>-0.108436</td>\n",
       "      <td>0.010464</td>\n",
       "      <td>0.029783</td>\n",
       "      <td>1.000000</td>\n",
       "    </tr>\n",
       "  </tbody>\n",
       "</table>\n",
       "</div>"
      ],
      "text/plain": [
       "                   TIPO_DE_CRIME      HORA     IDADE  QUANTIDADE_ROUBOS\n",
       "TIPO_DE_CRIME           1.000000  0.135736 -0.200906          -0.108436\n",
       "HORA                    0.135736  1.000000 -0.111357           0.010464\n",
       "IDADE                  -0.200906 -0.111357  1.000000           0.029783\n",
       "QUANTIDADE_ROUBOS      -0.108436  0.010464  0.029783           1.000000"
      ]
     },
     "execution_count": 211,
     "metadata": {},
     "output_type": "execute_result"
    }
   ],
   "source": [
    "df.corr(method='spearman')"
   ]
  },
  {
   "cell_type": "code",
   "execution_count": 212,
   "metadata": {
    "collapsed": false
   },
   "outputs": [],
   "source": [
    "df['DIA_SEMANA'] = df['DATA_OCORRENCIA'].dt.dayofweek"
   ]
  },
  {
   "cell_type": "code",
   "execution_count": 214,
   "metadata": {
    "collapsed": false
   },
   "outputs": [
    {
     "data": {
      "text/plain": [
       "array([1, 4, 3, 6, 5, 2, 0])"
      ]
     },
     "execution_count": 214,
     "metadata": {},
     "output_type": "execute_result"
    }
   ],
   "source": [
    "df.DIA_SEMANA.unique()"
   ]
  },
  {
   "cell_type": "code",
   "execution_count": 243,
   "metadata": {
    "collapsed": false
   },
   "outputs": [],
   "source": [
    "import datetime as dt\n",
    "df['DATA'] = pd.to_datetime(df['DATA_OCORRENCIA'])\n",
    "df['DATA']=df['DATA'].map(dt.datetime.toordinal)"
   ]
  },
  {
   "cell_type": "code",
   "execution_count": null,
   "metadata": {
    "collapsed": false
   },
   "outputs": [],
   "source": []
  },
  {
   "cell_type": "code",
   "execution_count": 244,
   "metadata": {
    "collapsed": false
   },
   "outputs": [
    {
     "ename": "ValueError",
     "evalue": "labels ['DN'] not contained in axis",
     "output_type": "error",
     "traceback": [
      "\u001b[0;31m---------------------------------------------------------------------------\u001b[0m",
      "\u001b[0;31mValueError\u001b[0m                                Traceback (most recent call last)",
      "\u001b[0;32m<ipython-input-244-e6512bc288c2>\u001b[0m in \u001b[0;36m<module>\u001b[0;34m()\u001b[0m\n\u001b[0;32m----> 1\u001b[0;31m \u001b[0mdf\u001b[0m\u001b[0;34m.\u001b[0m\u001b[0mdrop\u001b[0m\u001b[0;34m(\u001b[0m\u001b[0;34m'DN'\u001b[0m\u001b[0;34m,\u001b[0m \u001b[0maxis\u001b[0m\u001b[0;34m=\u001b[0m\u001b[0;36m1\u001b[0m\u001b[0;34m,\u001b[0m \u001b[0minplace\u001b[0m\u001b[0;34m=\u001b[0m\u001b[0;32mTrue\u001b[0m\u001b[0;34m)\u001b[0m\u001b[0;34m\u001b[0m\u001b[0m\n\u001b[0m\u001b[1;32m      2\u001b[0m \u001b[0mdf\u001b[0m\u001b[0;34m.\u001b[0m\u001b[0mdrop\u001b[0m\u001b[0;34m(\u001b[0m\u001b[0;34m'ITEM_ROUBADO'\u001b[0m\u001b[0;34m,\u001b[0m \u001b[0maxis\u001b[0m\u001b[0;34m=\u001b[0m\u001b[0;36m1\u001b[0m\u001b[0;34m,\u001b[0m \u001b[0minplace\u001b[0m\u001b[0;34m=\u001b[0m\u001b[0;32mTrue\u001b[0m\u001b[0;34m)\u001b[0m\u001b[0;34m\u001b[0m\u001b[0m\n",
      "\u001b[0;32m/Users/diogodil/anaconda/lib/python3.6/site-packages/pandas/core/generic.py\u001b[0m in \u001b[0;36mdrop\u001b[0;34m(self, labels, axis, level, inplace, errors)\u001b[0m\n\u001b[1;32m   1905\u001b[0m                 \u001b[0mnew_axis\u001b[0m \u001b[0;34m=\u001b[0m \u001b[0maxis\u001b[0m\u001b[0;34m.\u001b[0m\u001b[0mdrop\u001b[0m\u001b[0;34m(\u001b[0m\u001b[0mlabels\u001b[0m\u001b[0;34m,\u001b[0m \u001b[0mlevel\u001b[0m\u001b[0;34m=\u001b[0m\u001b[0mlevel\u001b[0m\u001b[0;34m,\u001b[0m \u001b[0merrors\u001b[0m\u001b[0;34m=\u001b[0m\u001b[0merrors\u001b[0m\u001b[0;34m)\u001b[0m\u001b[0;34m\u001b[0m\u001b[0m\n\u001b[1;32m   1906\u001b[0m             \u001b[0;32melse\u001b[0m\u001b[0;34m:\u001b[0m\u001b[0;34m\u001b[0m\u001b[0m\n\u001b[0;32m-> 1907\u001b[0;31m                 \u001b[0mnew_axis\u001b[0m \u001b[0;34m=\u001b[0m \u001b[0maxis\u001b[0m\u001b[0;34m.\u001b[0m\u001b[0mdrop\u001b[0m\u001b[0;34m(\u001b[0m\u001b[0mlabels\u001b[0m\u001b[0;34m,\u001b[0m \u001b[0merrors\u001b[0m\u001b[0;34m=\u001b[0m\u001b[0merrors\u001b[0m\u001b[0;34m)\u001b[0m\u001b[0;34m\u001b[0m\u001b[0m\n\u001b[0m\u001b[1;32m   1908\u001b[0m             \u001b[0mdropped\u001b[0m \u001b[0;34m=\u001b[0m \u001b[0mself\u001b[0m\u001b[0;34m.\u001b[0m\u001b[0mreindex\u001b[0m\u001b[0;34m(\u001b[0m\u001b[0;34m**\u001b[0m\u001b[0;34m{\u001b[0m\u001b[0maxis_name\u001b[0m\u001b[0;34m:\u001b[0m \u001b[0mnew_axis\u001b[0m\u001b[0;34m}\u001b[0m\u001b[0;34m)\u001b[0m\u001b[0;34m\u001b[0m\u001b[0m\n\u001b[1;32m   1909\u001b[0m             \u001b[0;32mtry\u001b[0m\u001b[0;34m:\u001b[0m\u001b[0;34m\u001b[0m\u001b[0m\n",
      "\u001b[0;32m/Users/diogodil/anaconda/lib/python3.6/site-packages/pandas/indexes/base.py\u001b[0m in \u001b[0;36mdrop\u001b[0;34m(self, labels, errors)\u001b[0m\n\u001b[1;32m   3260\u001b[0m             \u001b[0;32mif\u001b[0m \u001b[0merrors\u001b[0m \u001b[0;34m!=\u001b[0m \u001b[0;34m'ignore'\u001b[0m\u001b[0;34m:\u001b[0m\u001b[0;34m\u001b[0m\u001b[0m\n\u001b[1;32m   3261\u001b[0m                 raise ValueError('labels %s not contained in axis' %\n\u001b[0;32m-> 3262\u001b[0;31m                                  labels[mask])\n\u001b[0m\u001b[1;32m   3263\u001b[0m             \u001b[0mindexer\u001b[0m \u001b[0;34m=\u001b[0m \u001b[0mindexer\u001b[0m\u001b[0;34m[\u001b[0m\u001b[0;34m~\u001b[0m\u001b[0mmask\u001b[0m\u001b[0;34m]\u001b[0m\u001b[0;34m\u001b[0m\u001b[0m\n\u001b[1;32m   3264\u001b[0m         \u001b[0;32mreturn\u001b[0m \u001b[0mself\u001b[0m\u001b[0;34m.\u001b[0m\u001b[0mdelete\u001b[0m\u001b[0;34m(\u001b[0m\u001b[0mindexer\u001b[0m\u001b[0;34m)\u001b[0m\u001b[0;34m\u001b[0m\u001b[0m\n",
      "\u001b[0;31mValueError\u001b[0m: labels ['DN'] not contained in axis"
     ]
    }
   ],
   "source": [
    "df.drop('DN', axis=1, inplace=True)\n",
    "df.drop('ITEM_ROUBADO', axis=1, inplace=True)"
   ]
  },
  {
   "cell_type": "code",
   "execution_count": 245,
   "metadata": {
    "collapsed": false
   },
   "outputs": [],
   "source": [
    "df.dropna(inplace=True)"
   ]
  },
  {
   "cell_type": "code",
   "execution_count": null,
   "metadata": {
    "collapsed": false
   },
   "outputs": [],
   "source": [
    "# df.DATA_OCORRENCIA = df.DATA_OCORRENCIA.values.astype(np.int64)"
   ]
  },
  {
   "cell_type": "code",
   "execution_count": 246,
   "metadata": {
    "collapsed": false
   },
   "outputs": [
    {
     "data": {
      "text/plain": [
       "array([[735786, 1, 'JARDIM GOIÁS', ..., 11, 2, 41],\n",
       "       [735838, 4, 'SETOR BUENO', ..., 20, 4, 22],\n",
       "       [735767, 3, 'JARDIM GOIÁS', ..., 16, 3, 44],\n",
       "       ..., \n",
       "       [736168, 5, 'SETOR CENTRAL', ..., 14, 3, 40],\n",
       "       [736258, 4, 'SETOR AEROPORTO', ..., 17, 3, 31],\n",
       "       [736259, 5, 'VILA JARAGUÁ', ..., 19, 4, 31]], dtype=object)"
      ]
     },
     "execution_count": 246,
     "metadata": {},
     "output_type": "execute_result"
    }
   ],
   "source": [
    "features_values = df[['DATA','DIA_SEMANA','BAIRRO', 'GENERO_VITIMA','TIPO_DE_CRIME','HORA', 'PERIODO_HORA','IDADE']].values\n",
    "features_values"
   ]
  },
  {
   "cell_type": "code",
   "execution_count": 247,
   "metadata": {
    "collapsed": false
   },
   "outputs": [
    {
     "data": {
      "text/plain": [
       "array([[  1.],\n",
       "       [  2.],\n",
       "       [  1.],\n",
       "       ..., \n",
       "       [ 18.],\n",
       "       [  4.],\n",
       "       [  1.]])"
      ]
     },
     "execution_count": 247,
     "metadata": {},
     "output_type": "execute_result"
    }
   ],
   "source": [
    "targuet_values = df[['QUANTIDADE_ROUBOS']].values\n",
    "targuet_values = targuet_values[:,np.newaxis,0]\n",
    "targuet_values"
   ]
  },
  {
   "cell_type": "code",
   "execution_count": 220,
   "metadata": {
    "collapsed": false
   },
   "outputs": [
    {
     "data": {
      "text/html": [
       "<div>\n",
       "<table border=\"1\" class=\"dataframe\">\n",
       "  <thead>\n",
       "    <tr style=\"text-align: right;\">\n",
       "      <th></th>\n",
       "      <th>BAIRRO</th>\n",
       "      <th>COUNT</th>\n",
       "    </tr>\n",
       "  </thead>\n",
       "  <tbody>\n",
       "    <tr>\n",
       "      <th>0</th>\n",
       "      <td>AEROCLUBE (PARQUE AERONÁUTICO ANTÔNIO SEBBA FI...</td>\n",
       "      <td>7</td>\n",
       "    </tr>\n",
       "    <tr>\n",
       "      <th>1</th>\n",
       "      <td>AEROVIÁRIO</td>\n",
       "      <td>524</td>\n",
       "    </tr>\n",
       "    <tr>\n",
       "      <th>2</th>\n",
       "      <td>ALPHAVILLE FLAMBOYANT RESIDENCIAL ARAGUAIA</td>\n",
       "      <td>8</td>\n",
       "    </tr>\n",
       "    <tr>\n",
       "      <th>3</th>\n",
       "      <td>ALTO DA GLÓRIA</td>\n",
       "      <td>444</td>\n",
       "    </tr>\n",
       "    <tr>\n",
       "      <th>4</th>\n",
       "      <td>ALTO DA GLÓRIA II</td>\n",
       "      <td>18</td>\n",
       "    </tr>\n",
       "    <tr>\n",
       "      <th>5</th>\n",
       "      <td>ALTO DA GLÓRIA III</td>\n",
       "      <td>2</td>\n",
       "    </tr>\n",
       "    <tr>\n",
       "      <th>6</th>\n",
       "      <td>ANDREIA CRISTINA</td>\n",
       "      <td>51</td>\n",
       "    </tr>\n",
       "    <tr>\n",
       "      <th>7</th>\n",
       "      <td>ANHANGUERA</td>\n",
       "      <td>188</td>\n",
       "    </tr>\n",
       "    <tr>\n",
       "      <th>8</th>\n",
       "      <td>ARAGUAIA PARK</td>\n",
       "      <td>22</td>\n",
       "    </tr>\n",
       "    <tr>\n",
       "      <th>9</th>\n",
       "      <td>ARUANÃ PARK</td>\n",
       "      <td>1</td>\n",
       "    </tr>\n",
       "    <tr>\n",
       "      <th>10</th>\n",
       "      <td>BAIRRO NAO IDENTIFICADO</td>\n",
       "      <td>610</td>\n",
       "    </tr>\n",
       "    <tr>\n",
       "      <th>11</th>\n",
       "      <td>BOA VISTA</td>\n",
       "      <td>84</td>\n",
       "    </tr>\n",
       "    <tr>\n",
       "      <th>12</th>\n",
       "      <td>BR-153</td>\n",
       "      <td>1</td>\n",
       "    </tr>\n",
       "    <tr>\n",
       "      <th>13</th>\n",
       "      <td>CAMPUS II DA PUC/GO</td>\n",
       "      <td>10</td>\n",
       "    </tr>\n",
       "    <tr>\n",
       "      <th>14</th>\n",
       "      <td>CAMPUS UNIVERSITÁRIO DA UFG (CAMPUS SAMAMBAIA)</td>\n",
       "      <td>78</td>\n",
       "    </tr>\n",
       "    <tr>\n",
       "      <th>15</th>\n",
       "      <td>CAPUAVA</td>\n",
       "      <td>721</td>\n",
       "    </tr>\n",
       "    <tr>\n",
       "      <th>16</th>\n",
       "      <td>CAPUAVA RESIDENCIAL PRIVÊ</td>\n",
       "      <td>2</td>\n",
       "    </tr>\n",
       "    <tr>\n",
       "      <th>17</th>\n",
       "      <td>CAROLINA PARQUE</td>\n",
       "      <td>110</td>\n",
       "    </tr>\n",
       "    <tr>\n",
       "      <th>18</th>\n",
       "      <td>CAROLINA PARQUE COMPLEMENTO</td>\n",
       "      <td>4</td>\n",
       "    </tr>\n",
       "    <tr>\n",
       "      <th>19</th>\n",
       "      <td>CAROLINA PARQUE EXTENSÃO</td>\n",
       "      <td>5</td>\n",
       "    </tr>\n",
       "    <tr>\n",
       "      <th>20</th>\n",
       "      <td>CENTRO EMPRESARIAL BERNARDO SAYÃO</td>\n",
       "      <td>28</td>\n",
       "    </tr>\n",
       "    <tr>\n",
       "      <th>21</th>\n",
       "      <td>CHÁCARA BELA VISTA</td>\n",
       "      <td>5</td>\n",
       "    </tr>\n",
       "    <tr>\n",
       "      <th>22</th>\n",
       "      <td>CHÁCARA BOTAFOGO</td>\n",
       "      <td>1</td>\n",
       "    </tr>\n",
       "    <tr>\n",
       "      <th>23</th>\n",
       "      <td>CHÁCARA BURITIS</td>\n",
       "      <td>6</td>\n",
       "    </tr>\n",
       "    <tr>\n",
       "      <th>24</th>\n",
       "      <td>CHÁCARA COIMBRA</td>\n",
       "      <td>4</td>\n",
       "    </tr>\n",
       "    <tr>\n",
       "      <th>25</th>\n",
       "      <td>CHÁCARA DO GOVERNADOR</td>\n",
       "      <td>68</td>\n",
       "    </tr>\n",
       "    <tr>\n",
       "      <th>26</th>\n",
       "      <td>CHÁCARA ELÍSIO CAMPOS</td>\n",
       "      <td>7</td>\n",
       "    </tr>\n",
       "    <tr>\n",
       "      <th>27</th>\n",
       "      <td>CHÁCARA IPANEMA</td>\n",
       "      <td>1</td>\n",
       "    </tr>\n",
       "    <tr>\n",
       "      <th>28</th>\n",
       "      <td>CHÁCARA MARIA DILCE</td>\n",
       "      <td>7</td>\n",
       "    </tr>\n",
       "    <tr>\n",
       "      <th>29</th>\n",
       "      <td>CHÁCARA RIO BRANCO</td>\n",
       "      <td>1</td>\n",
       "    </tr>\n",
       "    <tr>\n",
       "      <th>...</th>\n",
       "      <td>...</td>\n",
       "      <td>...</td>\n",
       "    </tr>\n",
       "    <tr>\n",
       "      <th>698</th>\n",
       "      <td>VILA SANTA ISABEL</td>\n",
       "      <td>37</td>\n",
       "    </tr>\n",
       "    <tr>\n",
       "      <th>699</th>\n",
       "      <td>VILA SANTA RITA</td>\n",
       "      <td>63</td>\n",
       "    </tr>\n",
       "    <tr>\n",
       "      <th>700</th>\n",
       "      <td>VILA SANTA RITA 5ª ETAPA</td>\n",
       "      <td>2</td>\n",
       "    </tr>\n",
       "    <tr>\n",
       "      <th>701</th>\n",
       "      <td>VILA SANTA TEREZA</td>\n",
       "      <td>9</td>\n",
       "    </tr>\n",
       "    <tr>\n",
       "      <th>702</th>\n",
       "      <td>VILA SANTANA</td>\n",
       "      <td>14</td>\n",
       "    </tr>\n",
       "    <tr>\n",
       "      <th>703</th>\n",
       "      <td>VILA SANTO AFONSO</td>\n",
       "      <td>1</td>\n",
       "    </tr>\n",
       "    <tr>\n",
       "      <th>704</th>\n",
       "      <td>VILA SÃO FRANCISCO</td>\n",
       "      <td>33</td>\n",
       "    </tr>\n",
       "    <tr>\n",
       "      <th>705</th>\n",
       "      <td>VILA SÃO JOSÉ</td>\n",
       "      <td>71</td>\n",
       "    </tr>\n",
       "    <tr>\n",
       "      <th>706</th>\n",
       "      <td>VILA SÃO JOÃO</td>\n",
       "      <td>73</td>\n",
       "    </tr>\n",
       "    <tr>\n",
       "      <th>707</th>\n",
       "      <td>VILA SÃO LUÍZ</td>\n",
       "      <td>39</td>\n",
       "    </tr>\n",
       "    <tr>\n",
       "      <th>708</th>\n",
       "      <td>VILA SÃO PAULO</td>\n",
       "      <td>1</td>\n",
       "    </tr>\n",
       "    <tr>\n",
       "      <th>709</th>\n",
       "      <td>VILA SÃO TOMÁZ</td>\n",
       "      <td>19</td>\n",
       "    </tr>\n",
       "    <tr>\n",
       "      <th>710</th>\n",
       "      <td>VILA TEÓFILO NETO</td>\n",
       "      <td>3</td>\n",
       "    </tr>\n",
       "    <tr>\n",
       "      <th>711</th>\n",
       "      <td>VILA VERA CRUZ</td>\n",
       "      <td>17</td>\n",
       "    </tr>\n",
       "    <tr>\n",
       "      <th>712</th>\n",
       "      <td>VILA VIANA</td>\n",
       "      <td>22</td>\n",
       "    </tr>\n",
       "    <tr>\n",
       "      <th>713</th>\n",
       "      <td>VILA XAVIER</td>\n",
       "      <td>15</td>\n",
       "    </tr>\n",
       "    <tr>\n",
       "      <th>714</th>\n",
       "      <td>VILA YATE</td>\n",
       "      <td>1</td>\n",
       "    </tr>\n",
       "    <tr>\n",
       "      <th>715</th>\n",
       "      <td>VILA ÁGUA BRANCA</td>\n",
       "      <td>2</td>\n",
       "    </tr>\n",
       "    <tr>\n",
       "      <th>716</th>\n",
       "      <td>VILLAGE ATALAIA</td>\n",
       "      <td>29</td>\n",
       "    </tr>\n",
       "    <tr>\n",
       "      <th>717</th>\n",
       "      <td>VILLAGE CASA GRANDE</td>\n",
       "      <td>7</td>\n",
       "    </tr>\n",
       "    <tr>\n",
       "      <th>718</th>\n",
       "      <td>VILLAGE MARINGÁ</td>\n",
       "      <td>18</td>\n",
       "    </tr>\n",
       "    <tr>\n",
       "      <th>719</th>\n",
       "      <td>VILLAGE SANTA RITA</td>\n",
       "      <td>30</td>\n",
       "    </tr>\n",
       "    <tr>\n",
       "      <th>720</th>\n",
       "      <td>VILLAGE VENEZA</td>\n",
       "      <td>16</td>\n",
       "    </tr>\n",
       "    <tr>\n",
       "      <th>721</th>\n",
       "      <td>VITÓRIA I</td>\n",
       "      <td>1</td>\n",
       "    </tr>\n",
       "    <tr>\n",
       "      <th>722</th>\n",
       "      <td>VITÓRIA II</td>\n",
       "      <td>5</td>\n",
       "    </tr>\n",
       "    <tr>\n",
       "      <th>723</th>\n",
       "      <td>VITÓRIA III</td>\n",
       "      <td>33</td>\n",
       "    </tr>\n",
       "    <tr>\n",
       "      <th>724</th>\n",
       "      <td>ZONA INDUSTRIAL PEDRO ABRÃO</td>\n",
       "      <td>6</td>\n",
       "    </tr>\n",
       "    <tr>\n",
       "      <th>725</th>\n",
       "      <td>ZONA RURAL</td>\n",
       "      <td>69</td>\n",
       "    </tr>\n",
       "    <tr>\n",
       "      <th>726</th>\n",
       "      <td>ZONA URBANA</td>\n",
       "      <td>37</td>\n",
       "    </tr>\n",
       "    <tr>\n",
       "      <th>727</th>\n",
       "      <td>ÁGUA BRANCA</td>\n",
       "      <td>106</td>\n",
       "    </tr>\n",
       "  </tbody>\n",
       "</table>\n",
       "<p>728 rows × 2 columns</p>\n",
       "</div>"
      ],
      "text/plain": [
       "                                                BAIRRO  COUNT\n",
       "0    AEROCLUBE (PARQUE AERONÁUTICO ANTÔNIO SEBBA FI...      7\n",
       "1                                           AEROVIÁRIO    524\n",
       "2           ALPHAVILLE FLAMBOYANT RESIDENCIAL ARAGUAIA      8\n",
       "3                                       ALTO DA GLÓRIA    444\n",
       "4                                    ALTO DA GLÓRIA II     18\n",
       "5                                   ALTO DA GLÓRIA III      2\n",
       "6                                     ANDREIA CRISTINA     51\n",
       "7                                           ANHANGUERA    188\n",
       "8                                        ARAGUAIA PARK     22\n",
       "9                                          ARUANÃ PARK      1\n",
       "10                             BAIRRO NAO IDENTIFICADO    610\n",
       "11                                           BOA VISTA     84\n",
       "12                                              BR-153      1\n",
       "13                                 CAMPUS II DA PUC/GO     10\n",
       "14      CAMPUS UNIVERSITÁRIO DA UFG (CAMPUS SAMAMBAIA)     78\n",
       "15                                             CAPUAVA    721\n",
       "16                           CAPUAVA RESIDENCIAL PRIVÊ      2\n",
       "17                                     CAROLINA PARQUE    110\n",
       "18                         CAROLINA PARQUE COMPLEMENTO      4\n",
       "19                            CAROLINA PARQUE EXTENSÃO      5\n",
       "20                   CENTRO EMPRESARIAL BERNARDO SAYÃO     28\n",
       "21                                  CHÁCARA BELA VISTA      5\n",
       "22                                    CHÁCARA BOTAFOGO      1\n",
       "23                                     CHÁCARA BURITIS      6\n",
       "24                                     CHÁCARA COIMBRA      4\n",
       "25                               CHÁCARA DO GOVERNADOR     68\n",
       "26                               CHÁCARA ELÍSIO CAMPOS      7\n",
       "27                                     CHÁCARA IPANEMA      1\n",
       "28                                 CHÁCARA MARIA DILCE      7\n",
       "29                                  CHÁCARA RIO BRANCO      1\n",
       "..                                                 ...    ...\n",
       "698                                  VILA SANTA ISABEL     37\n",
       "699                                    VILA SANTA RITA     63\n",
       "700                           VILA SANTA RITA 5ª ETAPA      2\n",
       "701                                  VILA SANTA TEREZA      9\n",
       "702                                       VILA SANTANA     14\n",
       "703                                  VILA SANTO AFONSO      1\n",
       "704                                 VILA SÃO FRANCISCO     33\n",
       "705                                      VILA SÃO JOSÉ     71\n",
       "706                                      VILA SÃO JOÃO     73\n",
       "707                                      VILA SÃO LUÍZ     39\n",
       "708                                     VILA SÃO PAULO      1\n",
       "709                                     VILA SÃO TOMÁZ     19\n",
       "710                                  VILA TEÓFILO NETO      3\n",
       "711                                     VILA VERA CRUZ     17\n",
       "712                                         VILA VIANA     22\n",
       "713                                        VILA XAVIER     15\n",
       "714                                          VILA YATE      1\n",
       "715                                   VILA ÁGUA BRANCA      2\n",
       "716                                    VILLAGE ATALAIA     29\n",
       "717                                VILLAGE CASA GRANDE      7\n",
       "718                                    VILLAGE MARINGÁ     18\n",
       "719                                 VILLAGE SANTA RITA     30\n",
       "720                                     VILLAGE VENEZA     16\n",
       "721                                          VITÓRIA I      1\n",
       "722                                         VITÓRIA II      5\n",
       "723                                        VITÓRIA III     33\n",
       "724                        ZONA INDUSTRIAL PEDRO ABRÃO      6\n",
       "725                                         ZONA RURAL     69\n",
       "726                                        ZONA URBANA     37\n",
       "727                                        ÁGUA BRANCA    106\n",
       "\n",
       "[728 rows x 2 columns]"
      ]
     },
     "execution_count": 220,
     "metadata": {},
     "output_type": "execute_result"
    }
   ],
   "source": [
    "result = df.groupby([\"BAIRRO\"]).size().reset_index(name=\"COUNT\")\n",
    "result"
   ]
  },
  {
   "cell_type": "code",
   "execution_count": 248,
   "metadata": {
    "collapsed": true
   },
   "outputs": [],
   "source": [
    "for index, row in result.iterrows():\n",
    "    df.loc[(df[\"BAIRRO\"] == row.BAIRRO), \"N_BAIRRO\"] = index"
   ]
  },
  {
   "cell_type": "code",
   "execution_count": 249,
   "metadata": {
    "collapsed": false
   },
   "outputs": [
    {
     "data": {
      "text/plain": [
       "array([[735786, 1, 195.0, ..., 11, 2, 41],\n",
       "       [735838, 4, 520.0, ..., 20, 4, 22],\n",
       "       [735767, 3, 195.0, ..., 16, 3, 44],\n",
       "       ..., \n",
       "       [736168, 5, 525.0, ..., 14, 3, 40],\n",
       "       [736258, 4, 513.0, ..., 17, 3, 31],\n",
       "       [736259, 5, 655.0, ..., 19, 4, 31]], dtype=object)"
      ]
     },
     "execution_count": 249,
     "metadata": {},
     "output_type": "execute_result"
    }
   ],
   "source": [
    "features_values = df[['DATA','DIA_SEMANA','N_BAIRRO', 'GENERO_VITIMA','TIPO_DE_CRIME','HORA', 'PERIODO_HORA','IDADE']].values\n",
    "features_values"
   ]
  },
  {
   "cell_type": "code",
   "execution_count": null,
   "metadata": {
    "collapsed": false
   },
   "outputs": [],
   "source": []
  },
  {
   "cell_type": "code",
   "execution_count": 250,
   "metadata": {
    "collapsed": false
   },
   "outputs": [
    {
     "data": {
      "text/plain": [
       "LinearRegression(copy_X=True, fit_intercept=True, n_jobs=1, normalize=False)"
      ]
     },
     "execution_count": 250,
     "metadata": {},
     "output_type": "execute_result"
    }
   ],
   "source": [
    "from sklearn import linear_model\n",
    "regr = linear_model.LinearRegression()\n",
    "regr.fit(features_values,targuet_values)"
   ]
  },
  {
   "cell_type": "code",
   "execution_count": 251,
   "metadata": {
    "collapsed": false
   },
   "outputs": [
    {
     "data": {
      "text/plain": [
       "0.032834933045167602"
      ]
     },
     "execution_count": 251,
     "metadata": {},
     "output_type": "execute_result"
    }
   ],
   "source": [
    "from sklearn.model_selection import train_test_split\n",
    "\n",
    "X_train, X_test, y_train, y_test = train_test_split(features_values, targuet_values, test_size=0.8, random_state=42)\n",
    "\n",
    "regr.fit(X_train, y_train)\n",
    "regr.score(X_test,y_test)"
   ]
  },
  {
   "cell_type": "code",
   "execution_count": null,
   "metadata": {
    "collapsed": true
   },
   "outputs": [],
   "source": []
  }
 ],
 "metadata": {
  "kernelspec": {
   "display_name": "Python 3",
   "language": "python",
   "name": "python3"
  },
  "language_info": {
   "codemirror_mode": {
    "name": "ipython",
    "version": 3
   },
   "file_extension": ".py",
   "mimetype": "text/x-python",
   "name": "python",
   "nbconvert_exporter": "python",
   "pygments_lexer": "ipython3",
   "version": "3.6.0"
  }
 },
 "nbformat": 4,
 "nbformat_minor": 2
}
