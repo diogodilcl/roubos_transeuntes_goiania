{
 "cells": [
  {
   "cell_type": "code",
   "execution_count": 101,
   "metadata": {
    "collapsed": true
   },
   "outputs": [],
   "source": [
    "import numpy as np\n",
    "import pandas as pd\n",
    "import matplotlib.pyplot as plt\n",
    "import seaborn as sb\n",
    "\n",
    "%matplotlib inline"
   ]
  },
  {
   "cell_type": "code",
   "execution_count": 102,
   "metadata": {
    "collapsed": true
   },
   "outputs": [],
   "source": [
    "df = pd.read_excel('crimes.xls')\n",
    "sheets = pd.ExcelFile('crimes.xls').sheet_names\n",
    "df = df[0:0]\n",
    "for sheet in sheets:\n",
    "        df = df.append(pd.read_excel('crimes.xls', sheet))"
   ]
  },
  {
   "cell_type": "code",
   "execution_count": 103,
   "metadata": {
    "collapsed": true
   },
   "outputs": [],
   "source": [
    "df.TIPO_CRIME.unique()\n",
    "\n",
    "df.loc[df['TIPO_CRIME'].str.contains(\"CPB ART. 155\"), 'TIPO_DE_CRIME'] = 1 #Furto\n",
    "df.loc[df['TIPO_CRIME'].str.contains(\"CPB ART. 156\"), 'TIPO_DE_CRIME'] = 1 #Furto\n",
    "df.loc[df['TIPO_CRIME'].str.contains(\"CPB ART. 157\"), 'TIPO_DE_CRIME'] = 2 #Roubo"
   ]
  },
  {
   "cell_type": "code",
   "execution_count": 104,
   "metadata": {},
   "outputs": [
    {
     "data": {
      "text/plain": [
       "<pandas.core.indexing._iLocIndexer at 0xd939940>"
      ]
     },
     "execution_count": 104,
     "metadata": {},
     "output_type": "execute_result"
    }
   ],
   "source": [
    "df.TIPO_DE_CRIME.value_counts(dropna=False)\n",
    "df.iloc([65536])"
   ]
  },
  {
   "cell_type": "code",
   "execution_count": 105,
   "metadata": {},
   "outputs": [
    {
     "data": {
      "text/plain": [
       "ROUBO A TRANSEUNTE                                      17450\n",
       "FURTO DE DOCUMENTOS                                     10545\n",
       "OUTROS FURTOS                                            8976\n",
       "ROUBO DE VEÍCULO                                         5736\n",
       "ROUBO QUALIFICADO                                        5705\n",
       "FURTO QUALIFICADO                                        5464\n",
       "FURTO EM RESIDÊNCIA                                      4923\n",
       "FURTO A USUÁRIOS DE TRANSPORTE COLETIVO                  4488\n",
       "FURTO DE CELULAR                                         4122\n",
       "FURTO EM VEÍCULO                                         3531\n",
       "ROUBO DE CELULAR                                         3174\n",
       "ROUBO EM ESTABELECIMENTO COMERCIAL OU DE SERVIÇOS        2732\n",
       "FURTO DE VEICULO                                         2494\n",
       "FURTO EM ESTABELECIMENTO COMERCIAL OU DE SERVIÇOS        2301\n",
       "FURTO A TRANSEUNTE                                       2297\n",
       "OUTROS ROUBOS                                            1714\n",
       "ROUBO EM RESIDÊNCIA                                      1680\n",
       "FURTO TENTATIVA                                          1434\n",
       "ROUBO TENTATIVA                                          1351\n",
       "ROUBO EM TRANSPORTE COLETIVO                              628\n",
       "ROUBO DE DOCUMENTOS                                       300\n",
       "FURTO DE COISA COMUM                                      267\n",
       "FURTO DE HIDRÔMETRO (MEDIDOR DE ÁGUA)                     247\n",
       "FURTO EM REPARTIÇÃO PÚBLICA                               235\n",
       "ROUBO EM FARMÁCIA                                         183\n",
       "ROUBO A POSTO DE COMBUSTÍVEL                              183\n",
       "FURTO DE PADRÃO                                           168\n",
       "FURTO DE BICICLETA                                        157\n",
       "ROUBO COM RESTRIÇÃO À LIBERDADE DA VÍTIMA                 116\n",
       "ROUBO SEGUIDO DE MORTE (LATROCÍNIO)                       100\n",
       "ROUBO SEGUIDO DE MORTE (LATROCÍNIO TENTADO)                77\n",
       "FURTO DE ARMAS                                             54\n",
       "FURTO DE FIOS DE COBRE/ALUMÍNIO                            53\n",
       "ROUBO DE CARGA                                             50\n",
       "FURTO DE CARGA                                             38\n",
       "FURTO DE COMPUTADORES/PERIFÉRICOS                          32\n",
       "FURTO DE SEMOVENTES                                        30\n",
       "ROUBO SAIDINHA DE BANCO                                    28\n",
       "FURTO EM ZONA RURAL                                        20\n",
       "ROUBO DE BICICLETA                                         16\n",
       "FURTO DE BOTIJÃO DE GÁS                                    12\n",
       "ROUBO EM ZONA RURAL                                        12\n",
       "ROUBO COM RESTRIÇÃO DE LIBERDADE DA VÍTIMA                 11\n",
       "ROUBO A ESTABELECIMENTO DE ENSINO                          10\n",
       "ROUBO A INSTITUIÇÃO FINANCEIRA                             10\n",
       "FURTO DE HODÔMETRO (MEDIDOR DE DISTANCIA PERCORRIDA)        8\n",
       "FURTO DE APARELHO DE SOM DE AUTOMÓVEL                       7\n",
       "ROUBO A CASA LOTÉRICA                                       5\n",
       "ROUBO A ESTABELECIMENTO HOSPITALAR                          5\n",
       "ROUBO DE JÓIAS                                              4\n",
       "ROUBO DE MÁQUINAS AGRÍCOLAS E ACESSÓRIOS                    3\n",
       "ROUBO DE SEMOVENTES                                         3\n",
       "FURTO PRATICADO POR EMPREGADA DOMÉSTICA                     3\n",
       "ROUBO A CAIXA ELETRÔNICO                                    2\n",
       "ROUBO A OU DE VEICULO DE TRANSPORTE DE VALORES              1\n",
       "FURTO DE MÁQUINAS AGRÍCOLAS E ACESSÓRIOS                    1\n",
       "ROUBO A EXCURSÃO                                            1\n",
       "Name: ITEM_ROUBADO, dtype: int64"
      ]
     },
     "execution_count": 105,
     "metadata": {},
     "output_type": "execute_result"
    }
   ],
   "source": [
    "df['ITEM_ROUBADO'] = df['TIPO_CRIME'].str.split('->',expand=True)[2].str.strip()\n",
    "\n",
    "# eu peguei as linhas que nao tinham ITEM_ROUBADO e retirei valores das TIPO_CRIME que estavam formatadas de formas diferentes\n",
    "# pode ser interessante retirar o FURTO DE e ROUBO DE, daí vai realmente só sobrar o objeto\n",
    "# mas no fim das coisas, vai ser um detalhamento do roubo ou furto, e nao objeto\n",
    "df['ITEM_ROUBADO'].fillna(df['TIPO_CRIME'].str.split(':',expand=True)[1].str.strip(), inplace=True)\n",
    "df['ITEM_ROUBADO'].value_counts(dropna=False)\n",
    "\n"
   ]
  },
  {
   "cell_type": "code",
   "execution_count": 106,
   "metadata": {},
   "outputs": [
    {
     "data": {
      "text/plain": [
       "array(['A TRANSEUNTE', 'EM VEÍCULO', 'EM RESIDÊNCIA', 'DE VEÍCULO',\n",
       "       'DE VEICULO', 'DE CELULAR', 'TENTATIVA', 'QUALIFICADO',\n",
       "       'EM ESTABELECIMENTO COMERCIAL OU DE SERVIÇOS',\n",
       "       'A USUÁRIOS DE TRANSPORTE COLETIVO', 'DE BICICLETA',\n",
       "       'DE DOCUMENTOS', 'DE COISA COMUM', 'EM TRANSPORTE COLETIVO',\n",
       "       'DE HIDRÔMETRO (MEDIDOR DE ÁGUA)', 'A POSTO DE COMBUSTÍVEL',\n",
       "       'DE ARMAS', 'DE PADRÃO', 'EM REPARTIÇÃO PÚBLICA', 'EM FARMÁCIA',\n",
       "       'SEGUIDO DE MORTE (LATROCÍNIO)',\n",
       "       'DE MÁQUINAS AGRÍCOLAS E ACESSÓRIOS', 'DE SEMOVENTES',\n",
       "       'COM RESTRIÇÃO À LIBERDADE DA VÍTIMA',\n",
       "       'DE COMPUTADORES/PERIFÉRICOS',\n",
       "       'COM RESTRIÇÃO DE LIBERDADE DA VÍTIMA', 'DE CARGA',\n",
       "       'A INSTITUIÇÃO FINANCEIRA', 'SAIDINHA DE BANCO',\n",
       "       'SEGUIDO DE MORTE (LATROCÍNIO TENTADO)',\n",
       "       'A ESTABELECIMENTO DE ENSINO', 'DE APARELHO DE SOM DE AUTOMÓVEL',\n",
       "       'DE FIOS DE COBRE/ALUMÍNIO', 'A CASA LOTÉRICA', 'DE BOTIJÃO DE GÁS',\n",
       "       'EM ZONA RURAL', 'PRATICADO POR EMPREGADA DOMÉSTICA',\n",
       "       'OUTROS ROUBOS', 'OUTROS FURTOS', 'A ESTABELECIMENTO HOSPITALAR',\n",
       "       'DE HODÔMETRO (MEDIDOR DE DISTANCIA PERCORRIDA)', 'A EXCURSÃO',\n",
       "       'DE JÓIAS', 'A CAIXA ELETRÔNICO',\n",
       "       'A OU DE VEICULO DE TRANSPORTE DE VALORES'], dtype=object)"
      ]
     },
     "execution_count": 106,
     "metadata": {},
     "output_type": "execute_result"
    }
   ],
   "source": [
    "# IMPLEMENTAÇÃO DAQUILO QUE FOI COMENTADO LOGO ACIMA, FICOU MUITO LENTO, DECIDI EXPORTAR COMO CSV\n",
    "\n",
    "for i, row in df.iterrows():\n",
    "    ii = row['ITEM_ROUBADO'].find('FURTO')\n",
    "    if ii == -1:   \n",
    "       ii = row['ITEM_ROUBADO'].find('ROUBO')\n",
    "  \n",
    "    if ii == 0:\n",
    "       df.set_value(i, 'ITEM_ROUBADO', row['ITEM_ROUBADO'][6:len(row['ITEM_ROUBADO'])])\n",
    "        \n",
    "#df.to_csv('itemRoubadoProessado.csv')\n",
    "df.ITEM_ROUBADO.unique()"
   ]
  },
  {
   "cell_type": "code",
   "execution_count": 107,
   "metadata": {},
   "outputs": [
    {
     "data": {
      "text/plain": [
       "A TRANSEUNTE                                      23486\n",
       "DE DOCUMENTOS                                     12124\n",
       "DE CELULAR                                         9796\n",
       "EM RESIDÊNCIA                                      8036\n",
       "DE VEÍCULO                                         6737\n",
       "EM ESTABELECIMENTO COMERCIAL OU DE SERVIÇOS        5971\n",
       "A USUÁRIOS DE TRANSPORTE COLETIVO                  5254\n",
       "QUALIFICADO                                        4775\n",
       "OUTROS FURTOS                                      4473\n",
       "EM VEÍCULO                                         4278\n",
       "DE VEICULO                                         2921\n",
       "TENTATIVA                                          1602\n",
       "OUTROS ROUBOS                                       828\n",
       "EM TRANSPORTE COLETIVO                              784\n",
       "EM REPARTIÇÃO PÚBLICA                               288\n",
       "DE HIDRÔMETRO (MEDIDOR DE ÁGUA)                     259\n",
       "DE PADRÃO                                           223\n",
       "EM FARMÁCIA                                         220\n",
       "DE BICICLETA                                        211\n",
       "A POSTO DE COMBUSTÍVEL                              209\n",
       "DE CARGA                                            109\n",
       "COM RESTRIÇÃO À LIBERDADE DA VÍTIMA                  77\n",
       "DE COISA COMUM                                       76\n",
       "DE ARMAS                                             67\n",
       "SEGUIDO DE MORTE (LATROCÍNIO TENTADO)                65\n",
       "SEGUIDO DE MORTE (LATROCÍNIO)                        52\n",
       "DE FIOS DE COBRE/ALUMÍNIO                            46\n",
       "EM ZONA RURAL                                        38\n",
       "DE SEMOVENTES                                        35\n",
       "DE COMPUTADORES/PERIFÉRICOS                          35\n",
       "SAIDINHA DE BANCO                                    30\n",
       "A INSTITUIÇÃO FINANCEIRA                             13\n",
       "COM RESTRIÇÃO DE LIBERDADE DA VÍTIMA                 12\n",
       "DE BOTIJÃO DE GÁS                                    11\n",
       "DE APARELHO DE SOM DE AUTOMÓVEL                      10\n",
       "A ESTABELECIMENTO DE ENSINO                           9\n",
       "DE HODÔMETRO (MEDIDOR DE DISTANCIA PERCORRIDA)        9\n",
       "DE MÁQUINAS AGRÍCOLAS E ACESSÓRIOS                    7\n",
       "A CASA LOTÉRICA                                       6\n",
       "A ESTABELECIMENTO HOSPITALAR                          6\n",
       "PRATICADO POR EMPREGADA DOMÉSTICA                     4\n",
       "DE JÓIAS                                              2\n",
       "A EXCURSÃO                                            1\n",
       "A OU DE VEICULO DE TRANSPORTE DE VALORES              1\n",
       "A CAIXA ELETRÔNICO                                    1\n",
       "Name: ITEM_ROUBADO, dtype: int64"
      ]
     },
     "execution_count": 107,
     "metadata": {},
     "output_type": "execute_result"
    }
   ],
   "source": [
    "\n",
    "df.ITEM_ROUBADO.value_counts(dropna=False)"
   ]
  },
  {
   "cell_type": "code",
   "execution_count": 108,
   "metadata": {},
   "outputs": [
    {
     "data": {
      "text/html": [
       "<div>\n",
       "<style>\n",
       "    .dataframe thead tr:only-child th {\n",
       "        text-align: right;\n",
       "    }\n",
       "\n",
       "    .dataframe thead th {\n",
       "        text-align: left;\n",
       "    }\n",
       "\n",
       "    .dataframe tbody tr th {\n",
       "        vertical-align: top;\n",
       "    }\n",
       "</style>\n",
       "<table border=\"1\" class=\"dataframe\">\n",
       "  <thead>\n",
       "    <tr style=\"text-align: right;\">\n",
       "      <th></th>\n",
       "      <th>TIPO_CRIME</th>\n",
       "      <th>DATA_OCORRENCIA</th>\n",
       "      <th>HORARIO</th>\n",
       "      <th>CIDADE</th>\n",
       "      <th>BAIRRO</th>\n",
       "      <th>RUA</th>\n",
       "      <th>GENERO_VITIMA</th>\n",
       "      <th>DN</th>\n",
       "      <th>TIPO_DE_CRIME</th>\n",
       "      <th>ITEM_ROUBADO</th>\n",
       "      <th>DIA_SEMANA</th>\n",
       "    </tr>\n",
       "  </thead>\n",
       "  <tbody>\n",
       "    <tr>\n",
       "      <th>0</th>\n",
       "      <td>CPB ART. 155 § 4º: FURTO QUALIFICADO</td>\n",
       "      <td>2014-12-15</td>\n",
       "      <td>02:00</td>\n",
       "      <td>GOIÂNIA</td>\n",
       "      <td>JARDIM GUANABARA II</td>\n",
       "      <td>AVENIDA GB-05, AREA ESPECIAL</td>\n",
       "      <td>NaN</td>\n",
       "      <td>NaN</td>\n",
       "      <td>1.0</td>\n",
       "      <td>A TRANSEUNTE</td>\n",
       "      <td>0</td>\n",
       "    </tr>\n",
       "    <tr>\n",
       "      <th>1</th>\n",
       "      <td>CPB ART. 155 § 4º: FURTO QUALIFICADO</td>\n",
       "      <td>2014-11-08</td>\n",
       "      <td>10:00</td>\n",
       "      <td>GOIÂNIA</td>\n",
       "      <td>AEROVIÁRIO</td>\n",
       "      <td>RUA 612</td>\n",
       "      <td>NaN</td>\n",
       "      <td>NaN</td>\n",
       "      <td>1.0</td>\n",
       "      <td>EM VEÍCULO</td>\n",
       "      <td>5</td>\n",
       "    </tr>\n",
       "    <tr>\n",
       "      <th>2</th>\n",
       "      <td>CPB ART. 156: FURTO DE COISA COMUM</td>\n",
       "      <td>2014-12-18</td>\n",
       "      <td>09:00</td>\n",
       "      <td>GOIÂNIA</td>\n",
       "      <td>SETOR SUL</td>\n",
       "      <td>RUA 83</td>\n",
       "      <td>MASCULINO</td>\n",
       "      <td>1979-08-10 00:00:00</td>\n",
       "      <td>1.0</td>\n",
       "      <td>EM RESIDÊNCIA</td>\n",
       "      <td>3</td>\n",
       "    </tr>\n",
       "    <tr>\n",
       "      <th>3</th>\n",
       "      <td>CPB ART. 155 § 4º: FURTO QUALIFICADO</td>\n",
       "      <td>2015-09-23</td>\n",
       "      <td>08:55</td>\n",
       "      <td>GOIÂNIA</td>\n",
       "      <td>SETOR SUDOESTE</td>\n",
       "      <td>RUA C 56</td>\n",
       "      <td>MASCULINO</td>\n",
       "      <td>1987-03-05 00:00:00</td>\n",
       "      <td>1.0</td>\n",
       "      <td>DE VEÍCULO</td>\n",
       "      <td>2</td>\n",
       "    </tr>\n",
       "    <tr>\n",
       "      <th>4</th>\n",
       "      <td>CPB ART. 155 § 4º: FURTO QUALIFICADO</td>\n",
       "      <td>2015-07-07</td>\n",
       "      <td>11:30</td>\n",
       "      <td>GOIÂNIA</td>\n",
       "      <td>JARDIM GOIÁS</td>\n",
       "      <td>AV. JAMEL CECÍLIO</td>\n",
       "      <td>FEMININO</td>\n",
       "      <td>1974-05-07 00:00:00</td>\n",
       "      <td>1.0</td>\n",
       "      <td>EM VEÍCULO</td>\n",
       "      <td>1</td>\n",
       "    </tr>\n",
       "  </tbody>\n",
       "</table>\n",
       "</div>"
      ],
      "text/plain": [
       "                             TIPO_CRIME DATA_OCORRENCIA HORARIO   CIDADE  \\\n",
       "0  CPB ART. 155 § 4º: FURTO QUALIFICADO      2014-12-15   02:00  GOIÂNIA   \n",
       "1  CPB ART. 155 § 4º: FURTO QUALIFICADO      2014-11-08   10:00  GOIÂNIA   \n",
       "2    CPB ART. 156: FURTO DE COISA COMUM      2014-12-18   09:00  GOIÂNIA   \n",
       "3  CPB ART. 155 § 4º: FURTO QUALIFICADO      2015-09-23   08:55  GOIÂNIA   \n",
       "4  CPB ART. 155 § 4º: FURTO QUALIFICADO      2015-07-07   11:30  GOIÂNIA   \n",
       "\n",
       "                BAIRRO                           RUA GENERO_VITIMA  \\\n",
       "0  JARDIM GUANABARA II  AVENIDA GB-05, AREA ESPECIAL           NaN   \n",
       "1           AEROVIÁRIO                       RUA 612           NaN   \n",
       "2            SETOR SUL                        RUA 83     MASCULINO   \n",
       "3       SETOR SUDOESTE                      RUA C 56     MASCULINO   \n",
       "4         JARDIM GOIÁS             AV. JAMEL CECÍLIO      FEMININO   \n",
       "\n",
       "                    DN  TIPO_DE_CRIME   ITEM_ROUBADO  DIA_SEMANA  \n",
       "0                  NaN            1.0   A TRANSEUNTE           0  \n",
       "1                  NaN            1.0     EM VEÍCULO           5  \n",
       "2  1979-08-10 00:00:00            1.0  EM RESIDÊNCIA           3  \n",
       "3  1987-03-05 00:00:00            1.0     DE VEÍCULO           2  \n",
       "4  1974-05-07 00:00:00            1.0     EM VEÍCULO           1  "
      ]
     },
     "execution_count": 108,
     "metadata": {},
     "output_type": "execute_result"
    }
   ],
   "source": [
    "df['DIA_SEMANA'] = df['DATA_OCORRENCIA'].dt.dayofweek\n",
    "df.head()"
   ]
  },
  {
   "cell_type": "code",
   "execution_count": 109,
   "metadata": {},
   "outputs": [
    {
     "data": {
      "text/plain": [
       "2    27120\n",
       "4    26825\n",
       "3    26705\n",
       "1    10407\n",
       "dtype: int64"
      ]
     },
     "execution_count": 109,
     "metadata": {},
     "output_type": "execute_result"
    }
   ],
   "source": [
    "df['HORA'] = pd.to_datetime(df['HORARIO'], format='%H:%M').dt.hour\n",
    "df['PERIODO_HORA'] = pd.cut(df.HORA,[0,6,12,18,24],labels=[1,2,3,4]) # 1 - MADRUGADA, 2 - MANHÃ, 3 - TARDE, 4 - NOITE\n",
    "count_status_periodo = pd.value_counts(df['PERIODO_HORA'].values, sort=True)\n",
    "count_status_periodo"
   ]
  },
  {
   "cell_type": "code",
   "execution_count": 110,
   "metadata": {},
   "outputs": [
    {
     "data": {
      "text/plain": [
       "3.0    42652\n",
       "2.0    21433\n",
       "1.0     9758\n",
       "4.0     6766\n",
       "5.0      354\n",
       "0.0       25\n",
       "Name: FAIXA_ETARIA, dtype: int64"
      ]
     },
     "execution_count": 110,
     "metadata": {},
     "output_type": "execute_result"
    }
   ],
   "source": [
    "df = df[pd.notnull(df['DN'])]\n",
    "df2 = df.loc[df['DN'].str.contains('-')==False]\n",
    "df = df.drop(df2.DN.index)\n",
    "df['DATA_OCORRENCIA'] = pd.to_datetime(df['DATA_OCORRENCIA'])\n",
    "df['DN'] = pd.to_datetime(df['DN'])\n",
    "df['IDADE'] = ((df['DATA_OCORRENCIA'] -df['DN'])/365).dt.days\n",
    "df.drop(df[df['IDADE'] > 100].index, inplace=True)\n",
    "df.drop(df[df['IDADE'] < 10].index, inplace=True)\n",
    "df.loc[df['IDADE']<=11,'FAIXA_ETARIA'] = 0 # crianca\n",
    "df.loc[df['IDADE']>11,'FAIXA_ETARIA'] = 1 # adolescente\n",
    "df.loc[df['IDADE']>20,'FAIXA_ETARIA'] = 2 # jovem\n",
    "df.loc[df['IDADE']>29,'FAIXA_ETARIA'] = 3 # adulto\n",
    "df.loc[df['IDADE']>60,'FAIXA_ETARIA'] = 4 # idoso\n",
    "df.loc[df['IDADE']>80,'FAIXA_ETARIA'] = 5 # veterano\n",
    "df.FAIXA_ETARIA.value_counts()\n"
   ]
  },
  {
   "cell_type": "code",
   "execution_count": 111,
   "metadata": {
    "collapsed": true
   },
   "outputs": [],
   "source": [
    "result = df.groupby([\"BAIRRO\", \"DATA_OCORRENCIA\"]).size().reset_index(name=\"COUNT\")\n",
    "\n",
    "for index, row in result.iterrows():\n",
    "    df.loc[(df[\"BAIRRO\"] == row.BAIRRO) & (df[\"DATA_OCORRENCIA\"] == row.DATA_OCORRENCIA), \"QUANTIDADE_ROUBOS\"] = row.COUNT"
   ]
  },
  {
   "cell_type": "code",
   "execution_count": null,
   "metadata": {
    "collapsed": true
   },
   "outputs": [],
   "source": []
  },
  {
   "cell_type": "code",
   "execution_count": 112,
   "metadata": {
    "collapsed": true
   },
   "outputs": [],
   "source": [
    "\n",
    "# def quantidade_crimes(x):\n",
    "#     val = result.loc[(result[\"BAIRRO\"] == x.BAIRRO) & (result[\"DATA_OCORRENCIA\"] == x.DATA_OCORRENCIA), \"COUNT\"]\n",
    "#     print(val.value)\n",
    "    \n",
    "# #df.ANO_CONCLUSAO_2_GRAU = df_predict.apply(ano_de_conclusao, axis = 1)\n",
    "# df.apply(quantidade_crimes, axis = 1)"
   ]
  },
  {
   "cell_type": "code",
   "execution_count": 113,
   "metadata": {
    "collapsed": true
   },
   "outputs": [],
   "source": [
    "#df.drop(df[df['DN'].str.contains(\"25/04/1885\",na=False)].index, inplace=True)\n",
    "# 25/04/1885 \n",
    "#  df['IDADE'] = pd.to_datetime(df.DATA_OCORRENCIA) - pd.to_datetime(df.DN)\n",
    "# df.DN.value_counts()"
   ]
  },
  {
   "cell_type": "code",
   "execution_count": 114,
   "metadata": {
    "collapsed": true
   },
   "outputs": [],
   "source": [
    "#df.drop('TIPO_CRIME', axis=1, inplace=True)\n",
    "df.drop('CIDADE', axis=1, inplace=True)\n",
    "df.drop('RUA', axis=1, inplace=True)\n",
    "#df.drop('HORARIO', axis=1, inplace=True)"
   ]
  },
  {
   "cell_type": "code",
   "execution_count": 115,
   "metadata": {},
   "outputs": [
    {
     "data": {
      "text/html": [
       "<div>\n",
       "<style>\n",
       "    .dataframe thead tr:only-child th {\n",
       "        text-align: right;\n",
       "    }\n",
       "\n",
       "    .dataframe thead th {\n",
       "        text-align: left;\n",
       "    }\n",
       "\n",
       "    .dataframe tbody tr th {\n",
       "        vertical-align: top;\n",
       "    }\n",
       "</style>\n",
       "<table border=\"1\" class=\"dataframe\">\n",
       "  <thead>\n",
       "    <tr style=\"text-align: right;\">\n",
       "      <th></th>\n",
       "      <th>TIPO_CRIME</th>\n",
       "      <th>DATA_OCORRENCIA</th>\n",
       "      <th>HORARIO</th>\n",
       "      <th>BAIRRO</th>\n",
       "      <th>GENERO_VITIMA</th>\n",
       "      <th>DN</th>\n",
       "      <th>TIPO_DE_CRIME</th>\n",
       "      <th>ITEM_ROUBADO</th>\n",
       "      <th>DIA_SEMANA</th>\n",
       "      <th>HORA</th>\n",
       "      <th>PERIODO_HORA</th>\n",
       "      <th>IDADE</th>\n",
       "      <th>FAIXA_ETARIA</th>\n",
       "      <th>QUANTIDADE_ROUBOS</th>\n",
       "    </tr>\n",
       "  </thead>\n",
       "  <tbody>\n",
       "    <tr>\n",
       "      <th>2</th>\n",
       "      <td>CPB ART. 156: FURTO DE COISA COMUM</td>\n",
       "      <td>2014-12-18</td>\n",
       "      <td>09:00</td>\n",
       "      <td>SETOR SUL</td>\n",
       "      <td>MASCULINO</td>\n",
       "      <td>1979-08-10</td>\n",
       "      <td>1.0</td>\n",
       "      <td>EM RESIDÊNCIA</td>\n",
       "      <td>3</td>\n",
       "      <td>9</td>\n",
       "      <td>2</td>\n",
       "      <td>35</td>\n",
       "      <td>3.0</td>\n",
       "      <td>1.0</td>\n",
       "    </tr>\n",
       "    <tr>\n",
       "      <th>3</th>\n",
       "      <td>CPB ART. 155 § 4º: FURTO QUALIFICADO</td>\n",
       "      <td>2015-09-23</td>\n",
       "      <td>08:55</td>\n",
       "      <td>SETOR SUDOESTE</td>\n",
       "      <td>MASCULINO</td>\n",
       "      <td>1987-03-05</td>\n",
       "      <td>1.0</td>\n",
       "      <td>DE VEÍCULO</td>\n",
       "      <td>2</td>\n",
       "      <td>8</td>\n",
       "      <td>2</td>\n",
       "      <td>28</td>\n",
       "      <td>2.0</td>\n",
       "      <td>1.0</td>\n",
       "    </tr>\n",
       "    <tr>\n",
       "      <th>4</th>\n",
       "      <td>CPB ART. 155 § 4º: FURTO QUALIFICADO</td>\n",
       "      <td>2015-07-07</td>\n",
       "      <td>11:30</td>\n",
       "      <td>JARDIM GOIÁS</td>\n",
       "      <td>FEMININO</td>\n",
       "      <td>1974-05-07</td>\n",
       "      <td>1.0</td>\n",
       "      <td>EM VEÍCULO</td>\n",
       "      <td>1</td>\n",
       "      <td>11</td>\n",
       "      <td>2</td>\n",
       "      <td>41</td>\n",
       "      <td>3.0</td>\n",
       "      <td>1.0</td>\n",
       "    </tr>\n",
       "    <tr>\n",
       "      <th>5</th>\n",
       "      <td>CPB ART. 155 C/C ART. 14 INC. II: FURTO TENTATIVA</td>\n",
       "      <td>2015-10-15</td>\n",
       "      <td>10:00</td>\n",
       "      <td>JARDIM NOVO MUNDO</td>\n",
       "      <td>FEMININO</td>\n",
       "      <td>1987-10-26</td>\n",
       "      <td>1.0</td>\n",
       "      <td>DE VEÍCULO</td>\n",
       "      <td>3</td>\n",
       "      <td>10</td>\n",
       "      <td>2</td>\n",
       "      <td>27</td>\n",
       "      <td>2.0</td>\n",
       "      <td>1.0</td>\n",
       "    </tr>\n",
       "    <tr>\n",
       "      <th>7</th>\n",
       "      <td>CPB ART. 157 § 2º: ROUBO QUALIFICADO</td>\n",
       "      <td>2015-08-28</td>\n",
       "      <td>20:00</td>\n",
       "      <td>SETOR BUENO</td>\n",
       "      <td>FEMININO</td>\n",
       "      <td>1992-09-24</td>\n",
       "      <td>2.0</td>\n",
       "      <td>DE VEICULO</td>\n",
       "      <td>4</td>\n",
       "      <td>20</td>\n",
       "      <td>4</td>\n",
       "      <td>22</td>\n",
       "      <td>2.0</td>\n",
       "      <td>3.0</td>\n",
       "    </tr>\n",
       "  </tbody>\n",
       "</table>\n",
       "</div>"
      ],
      "text/plain": [
       "                                          TIPO_CRIME DATA_OCORRENCIA HORARIO  \\\n",
       "2                 CPB ART. 156: FURTO DE COISA COMUM      2014-12-18   09:00   \n",
       "3               CPB ART. 155 § 4º: FURTO QUALIFICADO      2015-09-23   08:55   \n",
       "4               CPB ART. 155 § 4º: FURTO QUALIFICADO      2015-07-07   11:30   \n",
       "5  CPB ART. 155 C/C ART. 14 INC. II: FURTO TENTATIVA      2015-10-15   10:00   \n",
       "7               CPB ART. 157 § 2º: ROUBO QUALIFICADO      2015-08-28   20:00   \n",
       "\n",
       "              BAIRRO GENERO_VITIMA         DN  TIPO_DE_CRIME   ITEM_ROUBADO  \\\n",
       "2          SETOR SUL     MASCULINO 1979-08-10            1.0  EM RESIDÊNCIA   \n",
       "3     SETOR SUDOESTE     MASCULINO 1987-03-05            1.0     DE VEÍCULO   \n",
       "4       JARDIM GOIÁS      FEMININO 1974-05-07            1.0     EM VEÍCULO   \n",
       "5  JARDIM NOVO MUNDO      FEMININO 1987-10-26            1.0     DE VEÍCULO   \n",
       "7        SETOR BUENO      FEMININO 1992-09-24            2.0     DE VEICULO   \n",
       "\n",
       "   DIA_SEMANA  HORA PERIODO_HORA  IDADE  FAIXA_ETARIA  QUANTIDADE_ROUBOS  \n",
       "2           3     9            2     35           3.0                1.0  \n",
       "3           2     8            2     28           2.0                1.0  \n",
       "4           1    11            2     41           3.0                1.0  \n",
       "5           3    10            2     27           2.0                1.0  \n",
       "7           4    20            4     22           2.0                3.0  "
      ]
     },
     "execution_count": 115,
     "metadata": {},
     "output_type": "execute_result"
    }
   ],
   "source": [
    "df.head()"
   ]
  },
  {
   "cell_type": "code",
   "execution_count": 116,
   "metadata": {},
   "outputs": [
    {
     "data": {
      "text/html": [
       "<div>\n",
       "<style>\n",
       "    .dataframe thead tr:only-child th {\n",
       "        text-align: right;\n",
       "    }\n",
       "\n",
       "    .dataframe thead th {\n",
       "        text-align: left;\n",
       "    }\n",
       "\n",
       "    .dataframe tbody tr th {\n",
       "        vertical-align: top;\n",
       "    }\n",
       "</style>\n",
       "<table border=\"1\" class=\"dataframe\">\n",
       "  <thead>\n",
       "    <tr style=\"text-align: right;\">\n",
       "      <th></th>\n",
       "      <th>TIPO_CRIME</th>\n",
       "      <th>DATA_OCORRENCIA</th>\n",
       "      <th>HORARIO</th>\n",
       "      <th>BAIRRO</th>\n",
       "      <th>GENERO_VITIMA</th>\n",
       "      <th>DN</th>\n",
       "      <th>TIPO_DE_CRIME</th>\n",
       "      <th>ITEM_ROUBADO</th>\n",
       "      <th>DIA_SEMANA</th>\n",
       "      <th>HORA</th>\n",
       "      <th>PERIODO_HORA</th>\n",
       "      <th>IDADE</th>\n",
       "      <th>FAIXA_ETARIA</th>\n",
       "      <th>QUANTIDADE_ROUBOS</th>\n",
       "    </tr>\n",
       "  </thead>\n",
       "  <tbody>\n",
       "    <tr>\n",
       "      <th>2</th>\n",
       "      <td>CPB ART. 156: FURTO DE COISA COMUM</td>\n",
       "      <td>2014-12-18</td>\n",
       "      <td>09:00</td>\n",
       "      <td>SETOR SUL</td>\n",
       "      <td>1</td>\n",
       "      <td>1979-08-10</td>\n",
       "      <td>1.0</td>\n",
       "      <td>EM RESIDÊNCIA</td>\n",
       "      <td>3</td>\n",
       "      <td>9</td>\n",
       "      <td>2</td>\n",
       "      <td>35</td>\n",
       "      <td>3.0</td>\n",
       "      <td>1.0</td>\n",
       "    </tr>\n",
       "    <tr>\n",
       "      <th>3</th>\n",
       "      <td>CPB ART. 155 § 4º: FURTO QUALIFICADO</td>\n",
       "      <td>2015-09-23</td>\n",
       "      <td>08:55</td>\n",
       "      <td>SETOR SUDOESTE</td>\n",
       "      <td>1</td>\n",
       "      <td>1987-03-05</td>\n",
       "      <td>1.0</td>\n",
       "      <td>DE VEÍCULO</td>\n",
       "      <td>2</td>\n",
       "      <td>8</td>\n",
       "      <td>2</td>\n",
       "      <td>28</td>\n",
       "      <td>2.0</td>\n",
       "      <td>1.0</td>\n",
       "    </tr>\n",
       "    <tr>\n",
       "      <th>4</th>\n",
       "      <td>CPB ART. 155 § 4º: FURTO QUALIFICADO</td>\n",
       "      <td>2015-07-07</td>\n",
       "      <td>11:30</td>\n",
       "      <td>JARDIM GOIÁS</td>\n",
       "      <td>2</td>\n",
       "      <td>1974-05-07</td>\n",
       "      <td>1.0</td>\n",
       "      <td>EM VEÍCULO</td>\n",
       "      <td>1</td>\n",
       "      <td>11</td>\n",
       "      <td>2</td>\n",
       "      <td>41</td>\n",
       "      <td>3.0</td>\n",
       "      <td>1.0</td>\n",
       "    </tr>\n",
       "    <tr>\n",
       "      <th>5</th>\n",
       "      <td>CPB ART. 155 C/C ART. 14 INC. II: FURTO TENTATIVA</td>\n",
       "      <td>2015-10-15</td>\n",
       "      <td>10:00</td>\n",
       "      <td>JARDIM NOVO MUNDO</td>\n",
       "      <td>2</td>\n",
       "      <td>1987-10-26</td>\n",
       "      <td>1.0</td>\n",
       "      <td>DE VEÍCULO</td>\n",
       "      <td>3</td>\n",
       "      <td>10</td>\n",
       "      <td>2</td>\n",
       "      <td>27</td>\n",
       "      <td>2.0</td>\n",
       "      <td>1.0</td>\n",
       "    </tr>\n",
       "    <tr>\n",
       "      <th>7</th>\n",
       "      <td>CPB ART. 157 § 2º: ROUBO QUALIFICADO</td>\n",
       "      <td>2015-08-28</td>\n",
       "      <td>20:00</td>\n",
       "      <td>SETOR BUENO</td>\n",
       "      <td>2</td>\n",
       "      <td>1992-09-24</td>\n",
       "      <td>2.0</td>\n",
       "      <td>DE VEICULO</td>\n",
       "      <td>4</td>\n",
       "      <td>20</td>\n",
       "      <td>4</td>\n",
       "      <td>22</td>\n",
       "      <td>2.0</td>\n",
       "      <td>3.0</td>\n",
       "    </tr>\n",
       "  </tbody>\n",
       "</table>\n",
       "</div>"
      ],
      "text/plain": [
       "                                          TIPO_CRIME DATA_OCORRENCIA HORARIO  \\\n",
       "2                 CPB ART. 156: FURTO DE COISA COMUM      2014-12-18   09:00   \n",
       "3               CPB ART. 155 § 4º: FURTO QUALIFICADO      2015-09-23   08:55   \n",
       "4               CPB ART. 155 § 4º: FURTO QUALIFICADO      2015-07-07   11:30   \n",
       "5  CPB ART. 155 C/C ART. 14 INC. II: FURTO TENTATIVA      2015-10-15   10:00   \n",
       "7               CPB ART. 157 § 2º: ROUBO QUALIFICADO      2015-08-28   20:00   \n",
       "\n",
       "              BAIRRO GENERO_VITIMA         DN  TIPO_DE_CRIME   ITEM_ROUBADO  \\\n",
       "2          SETOR SUL             1 1979-08-10            1.0  EM RESIDÊNCIA   \n",
       "3     SETOR SUDOESTE             1 1987-03-05            1.0     DE VEÍCULO   \n",
       "4       JARDIM GOIÁS             2 1974-05-07            1.0     EM VEÍCULO   \n",
       "5  JARDIM NOVO MUNDO             2 1987-10-26            1.0     DE VEÍCULO   \n",
       "7        SETOR BUENO             2 1992-09-24            2.0     DE VEICULO   \n",
       "\n",
       "   DIA_SEMANA  HORA PERIODO_HORA  IDADE  FAIXA_ETARIA  QUANTIDADE_ROUBOS  \n",
       "2           3     9            2     35           3.0                1.0  \n",
       "3           2     8            2     28           2.0                1.0  \n",
       "4           1    11            2     41           3.0                1.0  \n",
       "5           3    10            2     27           2.0                1.0  \n",
       "7           4    20            4     22           2.0                3.0  "
      ]
     },
     "execution_count": 116,
     "metadata": {},
     "output_type": "execute_result"
    }
   ],
   "source": [
    "df.loc[df.GENERO_VITIMA == 'MASCULINO','GENERO_VITIMA'] = 1 #MASCULINO\n",
    "df.loc[df.GENERO_VITIMA == 'FEMININO','GENERO_VITIMA'] = 2 #FEMININO\n",
    "df.loc[df.GENERO_VITIMA == 'NÃO-INFORMADO','GENERO_VITIMA'] = 3 #'NÃO-INFORMADO'\n",
    "df.loc[df.GENERO_VITIMA.isnull(),'GENERO_VITIMA'] = 3 #'NÃO-INFORMADO'\n",
    "df.head()"
   ]
  },
  {
   "cell_type": "code",
   "execution_count": 117,
   "metadata": {},
   "outputs": [
    {
     "data": {
      "text/html": [
       "<div>\n",
       "<style>\n",
       "    .dataframe thead tr:only-child th {\n",
       "        text-align: right;\n",
       "    }\n",
       "\n",
       "    .dataframe thead th {\n",
       "        text-align: left;\n",
       "    }\n",
       "\n",
       "    .dataframe tbody tr th {\n",
       "        vertical-align: top;\n",
       "    }\n",
       "</style>\n",
       "<table border=\"1\" class=\"dataframe\">\n",
       "  <thead>\n",
       "    <tr style=\"text-align: right;\">\n",
       "      <th></th>\n",
       "      <th>TIPO_DE_CRIME</th>\n",
       "      <th>DIA_SEMANA</th>\n",
       "      <th>HORA</th>\n",
       "      <th>IDADE</th>\n",
       "      <th>FAIXA_ETARIA</th>\n",
       "      <th>QUANTIDADE_ROUBOS</th>\n",
       "    </tr>\n",
       "  </thead>\n",
       "  <tbody>\n",
       "    <tr>\n",
       "      <th>TIPO_DE_CRIME</th>\n",
       "      <td>1.000000</td>\n",
       "      <td>-0.017697</td>\n",
       "      <td>0.135725</td>\n",
       "      <td>-0.200897</td>\n",
       "      <td>-0.192057</td>\n",
       "      <td>-0.111626</td>\n",
       "    </tr>\n",
       "    <tr>\n",
       "      <th>DIA_SEMANA</th>\n",
       "      <td>-0.017697</td>\n",
       "      <td>1.000000</td>\n",
       "      <td>0.003347</td>\n",
       "      <td>-0.019477</td>\n",
       "      <td>-0.017654</td>\n",
       "      <td>-0.010677</td>\n",
       "    </tr>\n",
       "    <tr>\n",
       "      <th>HORA</th>\n",
       "      <td>0.135725</td>\n",
       "      <td>0.003347</td>\n",
       "      <td>1.000000</td>\n",
       "      <td>-0.111873</td>\n",
       "      <td>-0.102401</td>\n",
       "      <td>0.009911</td>\n",
       "    </tr>\n",
       "    <tr>\n",
       "      <th>IDADE</th>\n",
       "      <td>-0.200897</td>\n",
       "      <td>-0.019477</td>\n",
       "      <td>-0.111873</td>\n",
       "      <td>1.000000</td>\n",
       "      <td>0.912959</td>\n",
       "      <td>0.032425</td>\n",
       "    </tr>\n",
       "    <tr>\n",
       "      <th>FAIXA_ETARIA</th>\n",
       "      <td>-0.192057</td>\n",
       "      <td>-0.017654</td>\n",
       "      <td>-0.102401</td>\n",
       "      <td>0.912959</td>\n",
       "      <td>1.000000</td>\n",
       "      <td>0.023855</td>\n",
       "    </tr>\n",
       "    <tr>\n",
       "      <th>QUANTIDADE_ROUBOS</th>\n",
       "      <td>-0.111626</td>\n",
       "      <td>-0.010677</td>\n",
       "      <td>0.009911</td>\n",
       "      <td>0.032425</td>\n",
       "      <td>0.023855</td>\n",
       "      <td>1.000000</td>\n",
       "    </tr>\n",
       "  </tbody>\n",
       "</table>\n",
       "</div>"
      ],
      "text/plain": [
       "                   TIPO_DE_CRIME  DIA_SEMANA      HORA     IDADE  \\\n",
       "TIPO_DE_CRIME           1.000000   -0.017697  0.135725 -0.200897   \n",
       "DIA_SEMANA             -0.017697    1.000000  0.003347 -0.019477   \n",
       "HORA                    0.135725    0.003347  1.000000 -0.111873   \n",
       "IDADE                  -0.200897   -0.019477 -0.111873  1.000000   \n",
       "FAIXA_ETARIA           -0.192057   -0.017654 -0.102401  0.912959   \n",
       "QUANTIDADE_ROUBOS      -0.111626   -0.010677  0.009911  0.032425   \n",
       "\n",
       "                   FAIXA_ETARIA  QUANTIDADE_ROUBOS  \n",
       "TIPO_DE_CRIME         -0.192057          -0.111626  \n",
       "DIA_SEMANA            -0.017654          -0.010677  \n",
       "HORA                  -0.102401           0.009911  \n",
       "IDADE                  0.912959           0.032425  \n",
       "FAIXA_ETARIA           1.000000           0.023855  \n",
       "QUANTIDADE_ROUBOS      0.023855           1.000000  "
      ]
     },
     "execution_count": 117,
     "metadata": {},
     "output_type": "execute_result"
    }
   ],
   "source": [
    "df.corr(method='spearman')"
   ]
  },
  {
   "cell_type": "code",
   "execution_count": 118,
   "metadata": {
    "collapsed": true
   },
   "outputs": [],
   "source": [
    "df['DIA_SEMANA'] = df['DATA_OCORRENCIA'].dt.dayofweek"
   ]
  },
  {
   "cell_type": "code",
   "execution_count": 119,
   "metadata": {},
   "outputs": [
    {
     "data": {
      "text/plain": [
       "array([3, 2, 1, 4, 6, 5, 0], dtype=int64)"
      ]
     },
     "execution_count": 119,
     "metadata": {},
     "output_type": "execute_result"
    }
   ],
   "source": [
    "df.DIA_SEMANA.unique()"
   ]
  },
  {
   "cell_type": "code",
   "execution_count": 120,
   "metadata": {
    "collapsed": true
   },
   "outputs": [],
   "source": [
    "import datetime as dt\n",
    "df['DATA'] = pd.to_datetime(df['DATA_OCORRENCIA'])\n",
    "df['DATA']=df['DATA'].map(dt.datetime.toordinal)"
   ]
  },
  {
   "cell_type": "code",
   "execution_count": null,
   "metadata": {
    "collapsed": true
   },
   "outputs": [],
   "source": []
  },
  {
   "cell_type": "code",
   "execution_count": 121,
   "metadata": {
    "collapsed": true
   },
   "outputs": [],
   "source": [
    "df.drop('DN', axis=1, inplace=True)\n",
    "#df.drop('ITEM_ROUBADO', axis=1, inplace=True)"
   ]
  },
  {
   "cell_type": "code",
   "execution_count": 122,
   "metadata": {
    "collapsed": true
   },
   "outputs": [],
   "source": [
    "df.dropna(inplace=True)"
   ]
  },
  {
   "cell_type": "code",
   "execution_count": 123,
   "metadata": {
    "collapsed": true
   },
   "outputs": [],
   "source": [
    "# df.DATA_OCORRENCIA = df.DATA_OCORRENCIA.values.astype(np.int64)"
   ]
  },
  {
   "cell_type": "code",
   "execution_count": null,
   "metadata": {
    "collapsed": true
   },
   "outputs": [],
   "source": []
  },
  {
   "cell_type": "code",
   "execution_count": null,
   "metadata": {
    "collapsed": true
   },
   "outputs": [],
   "source": []
  },
  {
   "cell_type": "markdown",
   "metadata": {
    "collapsed": true
   },
   "source": [
    "#result = df.groupby([\"BAIRRO\"]).size().reset_index(name=\"COUNT\")\n",
    "#result"
   ]
  },
  {
   "cell_type": "code",
   "execution_count": 124,
   "metadata": {
    "collapsed": true
   },
   "outputs": [],
   "source": [
    "for index, row in result.iterrows():\n",
    "    df.loc[(df[\"BAIRRO\"] == row.BAIRRO), \"N_BAIRRO\"] = index"
   ]
  },
  {
   "cell_type": "code",
   "execution_count": null,
   "metadata": {
    "collapsed": true
   },
   "outputs": [],
   "source": []
  },
  {
   "cell_type": "code",
   "execution_count": 125,
   "metadata": {
    "collapsed": true
   },
   "outputs": [],
   "source": [
    "\n",
    "#df = df.drop('RUA', axis=1)\n",
    "#df = df.drop('IDADE', axis=1)\n"
   ]
  },
  {
   "cell_type": "code",
   "execution_count": 126,
   "metadata": {},
   "outputs": [
    {
     "data": {
      "text/plain": [
       "['TIPO_CRIME',\n",
       " 'DATA_OCORRENCIA',\n",
       " 'HORARIO',\n",
       " 'BAIRRO',\n",
       " 'GENERO_VITIMA',\n",
       " 'TIPO_DE_CRIME',\n",
       " 'ITEM_ROUBADO',\n",
       " 'DIA_SEMANA',\n",
       " 'HORA',\n",
       " 'PERIODO_HORA',\n",
       " 'IDADE',\n",
       " 'FAIXA_ETARIA',\n",
       " 'QUANTIDADE_ROUBOS',\n",
       " 'DATA',\n",
       " 'N_BAIRRO']"
      ]
     },
     "execution_count": 126,
     "metadata": {},
     "output_type": "execute_result"
    }
   ],
   "source": [
    "list(df.columns.values)"
   ]
  },
  {
   "cell_type": "code",
   "execution_count": 131,
   "metadata": {},
   "outputs": [],
   "source": [
    "df.to_csv('CRIMESTRATADOSs.csv')"
   ]
  },
  {
   "cell_type": "code",
   "execution_count": 132,
   "metadata": {},
   "outputs": [],
   "source": [
    "writer = pd.ExcelWriter('C:\\output.xlsx')\n",
    "df.to_excel(writer,'Sheet1')"
   ]
  },
  {
   "cell_type": "code",
   "execution_count": null,
   "metadata": {
    "collapsed": true
   },
   "outputs": [],
   "source": []
  }
 ],
 "metadata": {
  "kernelspec": {
   "display_name": "Python 3",
   "language": "python",
   "name": "python3"
  },
  "language_info": {
   "codemirror_mode": {
    "name": "ipython",
    "version": 3
   },
   "file_extension": ".py",
   "mimetype": "text/x-python",
   "name": "python",
   "nbconvert_exporter": "python",
   "pygments_lexer": "ipython3",
   "version": "3.6.1"
  }
 },
 "nbformat": 4,
 "nbformat_minor": 2
}
