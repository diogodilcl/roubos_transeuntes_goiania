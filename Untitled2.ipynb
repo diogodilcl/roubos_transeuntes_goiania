{
 "cells": [
  {
   "cell_type": "code",
   "execution_count": 2,
   "metadata": {
    "collapsed": true
   },
   "outputs": [],
   "source": [
    "import numpy as np\n",
    "import pandas as pd\n",
    "import matplotlib.pyplot as plt\n",
    "import seaborn as sb\n",
    "\n",
    "%matplotlib inline"
   ]
  },
  {
   "cell_type": "code",
   "execution_count": 3,
   "metadata": {
    "collapsed": true
   },
   "outputs": [],
   "source": [
    "df = pd.read_excel('crimes.xls')\n",
    "sheets = pd.ExcelFile('crimes.xls').sheet_names\n",
    "df = df[0:0]\n",
    "for sheet in sheets:\n",
    "        df = df.append(pd.read_excel('crimes.xls', sheet))"
   ]
  },
  {
   "cell_type": "code",
   "execution_count": 4,
   "metadata": {},
   "outputs": [],
   "source": [
    "df.TIPO_CRIME.unique()\n",
    "\n",
    "df.loc[df['TIPO_CRIME'].str.contains(\"CPB ART. 155\"), 'TIPO_DE_CRIME'] = 1 #Furto\n",
    "df.loc[df['TIPO_CRIME'].str.contains(\"CPB ART. 156\"), 'TIPO_DE_CRIME'] = 1 #Furto\n",
    "df.loc[df['TIPO_CRIME'].str.contains(\"CPB ART. 157\"), 'TIPO_DE_CRIME'] = 2 #Roubo"
   ]
  },
  {
   "cell_type": "code",
   "execution_count": 5,
   "metadata": {},
   "outputs": [
    {
     "data": {
      "text/plain": [
       "1.0    51907\n",
       "2.0    41290\n",
       "Name: TIPO_DE_CRIME, dtype: int64"
      ]
     },
     "execution_count": 5,
     "metadata": {},
     "output_type": "execute_result"
    }
   ],
   "source": [
    "df.TIPO_DE_CRIME.value_counts(dropna=False)"
   ]
  },
  {
   "cell_type": "code",
   "execution_count": 6,
   "metadata": {},
   "outputs": [
    {
     "data": {
      "text/plain": [
       "array(['FURTO QUALIFICADO', 'FURTO DE COISA COMUM', 'FURTO TENTATIVA',\n",
       "       'ROUBO QUALIFICADO', 'ROUBO SEGUIDO DE MORTE (LATROCÍNIO)',\n",
       "       'ROUBO TENTATIVA', 'ROUBO COM RESTRIÇÃO À LIBERDADE DA VÍTIMA',\n",
       "       'ROUBO SEGUIDO DE MORTE (LATROCÍNIO TENTADO)', 'FURTO EM VEÍCULO',\n",
       "       'FURTO A TRANSEUNTE', 'OUTROS FURTOS', 'ROUBO DE VEÍCULO',\n",
       "       'ROUBO EM ESTABELECIMENTO COMERCIAL OU DE SERVIÇOS',\n",
       "       'ROUBO A TRANSEUNTE', 'ROUBO DE CELULAR', 'FURTO DE DOCUMENTOS',\n",
       "       'ROUBO EM TRANSPORTE COLETIVO',\n",
       "       'FURTO A USUÁRIOS DE TRANSPORTE COLETIVO', 'FURTO DE BICICLETA',\n",
       "       'FURTO DE CELULAR', 'OUTROS ROUBOS', 'FURTO EM RESIDÊNCIA',\n",
       "       'ROUBO EM RESIDÊNCIA',\n",
       "       'FURTO EM ESTABELECIMENTO COMERCIAL OU DE SERVIÇOS',\n",
       "       'FURTO DE HIDRÔMETRO (MEDIDOR DE ÁGUA)',\n",
       "       'FURTO DE FIOS DE COBRE/ALUMÍNIO', 'FURTO EM REPARTIÇÃO PÚBLICA',\n",
       "       'FURTO DE VEICULO', 'FURTO DE PADRÃO', 'ROUBO EM FARMÁCIA',\n",
       "       'ROUBO SAIDINHA DE BANCO', 'FURTO DE ARMAS', 'ROUBO DE DOCUMENTOS',\n",
       "       'ROUBO DE JÓIAS', 'ROUBO A POSTO DE COMBUSTÍVEL',\n",
       "       'FURTO DE BOTIJÃO DE GÁS', 'FURTO DE CARGA', 'FURTO DE SEMOVENTES',\n",
       "       'ROUBO A CASA LOTÉRICA', 'ROUBO EM ZONA RURAL',\n",
       "       'FURTO DE COMPUTADORES/PERIFÉRICOS',\n",
       "       'ROUBO A ESTABELECIMENTO HOSPITALAR', 'ROUBO DE CARGA',\n",
       "       'ROUBO A ESTABELECIMENTO DE ENSINO', 'ROUBO DE BICICLETA',\n",
       "       'FURTO EM ZONA RURAL',\n",
       "       'FURTO DE HODÔMETRO (MEDIDOR DE DISTANCIA PERCORRIDA)',\n",
       "       'ROUBO A CAIXA ELETRÔNICO', 'ROUBO A INSTITUIÇÃO FINANCEIRA',\n",
       "       'ROUBO COM RESTRIÇÃO DE LIBERDADE DA VÍTIMA',\n",
       "       'FURTO DE APARELHO DE SOM DE AUTOMÓVEL', 'ROUBO DE SEMOVENTES',\n",
       "       'ROUBO A EXCURSÃO',\n",
       "       'ROUBO A OU DE VEICULO DE TRANSPORTE DE VALORES',\n",
       "       'FURTO PRATICADO POR EMPREGADA DOMÉSTICA',\n",
       "       'FURTO DE MÁQUINAS AGRÍCOLAS E ACESSÓRIOS',\n",
       "       'ROUBO DE MÁQUINAS AGRÍCOLAS E ACESSÓRIOS'], dtype=object)"
      ]
     },
     "execution_count": 6,
     "metadata": {},
     "output_type": "execute_result"
    }
   ],
   "source": [
    "df['ITEM_ROUBADO'] = df['TIPO_CRIME'].str.split('->',expand=True)[2].str.strip()\n",
    "\n",
    "# eu peguei as linhas que nao tinham ITEM_ROUBADO e retirei valores das TIPO_CRIME que estavam formatadas de formas diferentes\n",
    "# pode ser interessante retirar o FURTO DE e ROUBO DE, daí vai realmente só sobrar o objeto\n",
    "# mas no fim das coisas, vai ser um detalhamento do roubo ou furto, e nao objeto\n",
    "df['ITEM_ROUBADO'].fillna(df['TIPO_CRIME'].str.split(':',expand=True)[1].str.strip(), inplace=True)\n",
    "df['ITEM_ROUBADO'].value_counts(dropna=False)\n",
    "\n",
    "df.ITEM_ROUBADO.unique()"
   ]
  },
  {
   "cell_type": "code",
   "execution_count": 7,
   "metadata": {},
   "outputs": [
    {
     "data": {
      "text/plain": [
       "ROUBO A TRANSEUNTE                                      17450\n",
       "FURTO DE DOCUMENTOS                                     10545\n",
       "OUTROS FURTOS                                            8976\n",
       "ROUBO DE VEÍCULO                                         5736\n",
       "ROUBO QUALIFICADO                                        5705\n",
       "FURTO QUALIFICADO                                        5464\n",
       "FURTO EM RESIDÊNCIA                                      4923\n",
       "FURTO A USUÁRIOS DE TRANSPORTE COLETIVO                  4488\n",
       "FURTO DE CELULAR                                         4122\n",
       "FURTO EM VEÍCULO                                         3531\n",
       "ROUBO DE CELULAR                                         3174\n",
       "ROUBO EM ESTABELECIMENTO COMERCIAL OU DE SERVIÇOS        2732\n",
       "FURTO DE VEICULO                                         2494\n",
       "FURTO EM ESTABELECIMENTO COMERCIAL OU DE SERVIÇOS        2301\n",
       "FURTO A TRANSEUNTE                                       2297\n",
       "OUTROS ROUBOS                                            1714\n",
       "ROUBO EM RESIDÊNCIA                                      1680\n",
       "FURTO TENTATIVA                                          1434\n",
       "ROUBO TENTATIVA                                          1351\n",
       "ROUBO EM TRANSPORTE COLETIVO                              628\n",
       "ROUBO DE DOCUMENTOS                                       300\n",
       "FURTO DE COISA COMUM                                      267\n",
       "FURTO DE HIDRÔMETRO (MEDIDOR DE ÁGUA)                     247\n",
       "FURTO EM REPARTIÇÃO PÚBLICA                               235\n",
       "ROUBO A POSTO DE COMBUSTÍVEL                              183\n",
       "ROUBO EM FARMÁCIA                                         183\n",
       "FURTO DE PADRÃO                                           168\n",
       "FURTO DE BICICLETA                                        157\n",
       "ROUBO COM RESTRIÇÃO À LIBERDADE DA VÍTIMA                 116\n",
       "ROUBO SEGUIDO DE MORTE (LATROCÍNIO)                       100\n",
       "ROUBO SEGUIDO DE MORTE (LATROCÍNIO TENTADO)                77\n",
       "FURTO DE ARMAS                                             54\n",
       "FURTO DE FIOS DE COBRE/ALUMÍNIO                            53\n",
       "ROUBO DE CARGA                                             50\n",
       "FURTO DE CARGA                                             38\n",
       "FURTO DE COMPUTADORES/PERIFÉRICOS                          32\n",
       "FURTO DE SEMOVENTES                                        30\n",
       "ROUBO SAIDINHA DE BANCO                                    28\n",
       "FURTO EM ZONA RURAL                                        20\n",
       "ROUBO DE BICICLETA                                         16\n",
       "FURTO DE BOTIJÃO DE GÁS                                    12\n",
       "ROUBO EM ZONA RURAL                                        12\n",
       "ROUBO COM RESTRIÇÃO DE LIBERDADE DA VÍTIMA                 11\n",
       "ROUBO A ESTABELECIMENTO DE ENSINO                          10\n",
       "ROUBO A INSTITUIÇÃO FINANCEIRA                             10\n",
       "FURTO DE HODÔMETRO (MEDIDOR DE DISTANCIA PERCORRIDA)        8\n",
       "FURTO DE APARELHO DE SOM DE AUTOMÓVEL                       7\n",
       "ROUBO A ESTABELECIMENTO HOSPITALAR                          5\n",
       "ROUBO A CASA LOTÉRICA                                       5\n",
       "ROUBO DE JÓIAS                                              4\n",
       "ROUBO DE SEMOVENTES                                         3\n",
       "FURTO PRATICADO POR EMPREGADA DOMÉSTICA                     3\n",
       "ROUBO DE MÁQUINAS AGRÍCOLAS E ACESSÓRIOS                    3\n",
       "ROUBO A CAIXA ELETRÔNICO                                    2\n",
       "ROUBO A OU DE VEICULO DE TRANSPORTE DE VALORES              1\n",
       "FURTO DE MÁQUINAS AGRÍCOLAS E ACESSÓRIOS                    1\n",
       "ROUBO A EXCURSÃO                                            1\n",
       "Name: ITEM_ROUBADO, dtype: int64"
      ]
     },
     "execution_count": 7,
     "metadata": {},
     "output_type": "execute_result"
    }
   ],
   "source": [
    "\n",
    "df.ITEM_ROUBADO.value_counts(dropna=False)"
   ]
  },
  {
   "cell_type": "code",
   "execution_count": 8,
   "metadata": {},
   "outputs": [
    {
     "data": {
      "text/html": [
       "<div>\n",
       "<style>\n",
       "    .dataframe thead tr:only-child th {\n",
       "        text-align: right;\n",
       "    }\n",
       "\n",
       "    .dataframe thead th {\n",
       "        text-align: left;\n",
       "    }\n",
       "\n",
       "    .dataframe tbody tr th {\n",
       "        vertical-align: top;\n",
       "    }\n",
       "</style>\n",
       "<table border=\"1\" class=\"dataframe\">\n",
       "  <thead>\n",
       "    <tr style=\"text-align: right;\">\n",
       "      <th></th>\n",
       "      <th>TIPO_CRIME</th>\n",
       "      <th>DATA_OCORRENCIA</th>\n",
       "      <th>HORARIO</th>\n",
       "      <th>CIDADE</th>\n",
       "      <th>BAIRRO</th>\n",
       "      <th>RUA</th>\n",
       "      <th>GENERO_VITIMA</th>\n",
       "      <th>DN</th>\n",
       "      <th>TIPO_DE_CRIME</th>\n",
       "      <th>ITEM_ROUBADO</th>\n",
       "      <th>DIA_SEMANA</th>\n",
       "    </tr>\n",
       "  </thead>\n",
       "  <tbody>\n",
       "    <tr>\n",
       "      <th>0</th>\n",
       "      <td>CPB ART. 155 § 4º: FURTO QUALIFICADO</td>\n",
       "      <td>2014-12-15</td>\n",
       "      <td>02:00</td>\n",
       "      <td>GOIÂNIA</td>\n",
       "      <td>JARDIM GUANABARA II</td>\n",
       "      <td>AVENIDA GB-05, AREA ESPECIAL</td>\n",
       "      <td>NaN</td>\n",
       "      <td>NaN</td>\n",
       "      <td>1.0</td>\n",
       "      <td>FURTO QUALIFICADO</td>\n",
       "      <td>0</td>\n",
       "    </tr>\n",
       "    <tr>\n",
       "      <th>1</th>\n",
       "      <td>CPB ART. 155 § 4º: FURTO QUALIFICADO</td>\n",
       "      <td>2014-11-08</td>\n",
       "      <td>10:00</td>\n",
       "      <td>GOIÂNIA</td>\n",
       "      <td>AEROVIÁRIO</td>\n",
       "      <td>RUA 612</td>\n",
       "      <td>NaN</td>\n",
       "      <td>NaN</td>\n",
       "      <td>1.0</td>\n",
       "      <td>FURTO QUALIFICADO</td>\n",
       "      <td>5</td>\n",
       "    </tr>\n",
       "    <tr>\n",
       "      <th>2</th>\n",
       "      <td>CPB ART. 156: FURTO DE COISA COMUM</td>\n",
       "      <td>2014-12-18</td>\n",
       "      <td>09:00</td>\n",
       "      <td>GOIÂNIA</td>\n",
       "      <td>SETOR SUL</td>\n",
       "      <td>RUA 83</td>\n",
       "      <td>MASCULINO</td>\n",
       "      <td>1979-08-10 00:00:00</td>\n",
       "      <td>1.0</td>\n",
       "      <td>FURTO DE COISA COMUM</td>\n",
       "      <td>3</td>\n",
       "    </tr>\n",
       "    <tr>\n",
       "      <th>3</th>\n",
       "      <td>CPB ART. 155 § 4º: FURTO QUALIFICADO</td>\n",
       "      <td>2015-09-23</td>\n",
       "      <td>08:55</td>\n",
       "      <td>GOIÂNIA</td>\n",
       "      <td>SETOR SUDOESTE</td>\n",
       "      <td>RUA C 56</td>\n",
       "      <td>MASCULINO</td>\n",
       "      <td>1987-03-05 00:00:00</td>\n",
       "      <td>1.0</td>\n",
       "      <td>FURTO QUALIFICADO</td>\n",
       "      <td>2</td>\n",
       "    </tr>\n",
       "    <tr>\n",
       "      <th>4</th>\n",
       "      <td>CPB ART. 155 § 4º: FURTO QUALIFICADO</td>\n",
       "      <td>2015-07-07</td>\n",
       "      <td>11:30</td>\n",
       "      <td>GOIÂNIA</td>\n",
       "      <td>JARDIM GOIÁS</td>\n",
       "      <td>AV. JAMEL CECÍLIO</td>\n",
       "      <td>FEMININO</td>\n",
       "      <td>1974-05-07 00:00:00</td>\n",
       "      <td>1.0</td>\n",
       "      <td>FURTO QUALIFICADO</td>\n",
       "      <td>1</td>\n",
       "    </tr>\n",
       "  </tbody>\n",
       "</table>\n",
       "</div>"
      ],
      "text/plain": [
       "                             TIPO_CRIME DATA_OCORRENCIA HORARIO   CIDADE  \\\n",
       "0  CPB ART. 155 § 4º: FURTO QUALIFICADO      2014-12-15   02:00  GOIÂNIA   \n",
       "1  CPB ART. 155 § 4º: FURTO QUALIFICADO      2014-11-08   10:00  GOIÂNIA   \n",
       "2    CPB ART. 156: FURTO DE COISA COMUM      2014-12-18   09:00  GOIÂNIA   \n",
       "3  CPB ART. 155 § 4º: FURTO QUALIFICADO      2015-09-23   08:55  GOIÂNIA   \n",
       "4  CPB ART. 155 § 4º: FURTO QUALIFICADO      2015-07-07   11:30  GOIÂNIA   \n",
       "\n",
       "                BAIRRO                           RUA GENERO_VITIMA  \\\n",
       "0  JARDIM GUANABARA II  AVENIDA GB-05, AREA ESPECIAL           NaN   \n",
       "1           AEROVIÁRIO                       RUA 612           NaN   \n",
       "2            SETOR SUL                        RUA 83     MASCULINO   \n",
       "3       SETOR SUDOESTE                      RUA C 56     MASCULINO   \n",
       "4         JARDIM GOIÁS             AV. JAMEL CECÍLIO      FEMININO   \n",
       "\n",
       "                    DN  TIPO_DE_CRIME          ITEM_ROUBADO  DIA_SEMANA  \n",
       "0                  NaN            1.0     FURTO QUALIFICADO           0  \n",
       "1                  NaN            1.0     FURTO QUALIFICADO           5  \n",
       "2  1979-08-10 00:00:00            1.0  FURTO DE COISA COMUM           3  \n",
       "3  1987-03-05 00:00:00            1.0     FURTO QUALIFICADO           2  \n",
       "4  1974-05-07 00:00:00            1.0     FURTO QUALIFICADO           1  "
      ]
     },
     "execution_count": 8,
     "metadata": {},
     "output_type": "execute_result"
    }
   ],
   "source": [
    "df['DIA_SEMANA'] = df['DATA_OCORRENCIA'].dt.dayofweek\n",
    "df.head()"
   ]
  },
  {
   "cell_type": "code",
   "execution_count": 9,
   "metadata": {},
   "outputs": [
    {
     "data": {
      "text/plain": [
       "2    27120\n",
       "4    26825\n",
       "3    26705\n",
       "1    10407\n",
       "dtype: int64"
      ]
     },
     "execution_count": 9,
     "metadata": {},
     "output_type": "execute_result"
    }
   ],
   "source": [
    "df['HORA'] = pd.to_datetime(df['HORARIO'], format='%H:%M').dt.hour\n",
    "df['PERIODO_HORA'] = pd.cut(df.HORA,[0,6,12,18,24],labels=[1,2,3,4]) # 1 - MADRUGADA, 2 - MANHÃ, 3 - TARDE, 4 - NOITE\n",
    "count_status_periodo = pd.value_counts(df['PERIODO_HORA'].values, sort=True)\n",
    "count_status_periodo"
   ]
  },
  {
   "cell_type": "code",
   "execution_count": null,
   "metadata": {},
   "outputs": [
    {
     "data": {
      "text/plain": [
       "21    2600\n",
       "20    2487\n",
       "23    2447\n",
       "22    2419\n",
       "25    2418\n",
       "19    2372\n",
       "24    2356\n",
       "26    2351\n",
       "28    2326\n",
       "27    2281\n",
       "29    2235\n",
       "34    2154\n",
       "30    2120\n",
       "32    2120\n",
       "31    2105\n",
       "33    2090\n",
       "18    1982\n",
       "36    1971\n",
       "35    1958\n",
       "37    1869\n",
       "38    1753\n",
       "39    1712\n",
       "40    1683\n",
       "41    1524\n",
       "42    1403\n",
       "44    1334\n",
       "43    1318\n",
       "47    1271\n",
       "45    1225\n",
       "46    1216\n",
       "      ... \n",
       "71     303\n",
       "72     283\n",
       "73     260\n",
       "74     248\n",
       "76     190\n",
       "75     188\n",
       "77     152\n",
       "13     147\n",
       "78     143\n",
       "80     100\n",
       "79      97\n",
       "81      72\n",
       "12      70\n",
       "82      59\n",
       "84      50\n",
       "83      46\n",
       "85      29\n",
       "86      28\n",
       "11      21\n",
       "87      21\n",
       "88      18\n",
       "89      10\n",
       "90       8\n",
       "91       5\n",
       "10       4\n",
       "95       2\n",
       "93       2\n",
       "92       2\n",
       "96       1\n",
       "97       1\n",
       "Name: IDADE, Length: 87, dtype: int64"
      ]
     },
     "execution_count": 10,
     "metadata": {},
     "output_type": "execute_result"
    }
   ],
   "source": [
    "df = df[pd.notnull(df['DN'])]\n",
    "df2 = df.loc[df['DN'].str.contains('-')==False]\n",
    "df = df.drop(df2.DN.index)\n",
    "df['DATA_OCORRENCIA'] = pd.to_datetime(df['DATA_OCORRENCIA'])\n",
    "df['DN'] = pd.to_datetime(df['DN'])\n",
    "df['IDADE'] = ((df['DATA_OCORRENCIA'] -df['DN'])/365).dt.days\n",
    "df.drop(df[df['IDADE'] > 100].index, inplace=True)\n",
    "df.drop(df[df['IDADE'] < 10].index, inplace=True)\n",
    "df.IDADE.value_counts()"
   ]
  },
  {
   "cell_type": "code",
   "execution_count": null,
   "metadata": {},
   "outputs": [],
   "source": [
    "result = df.groupby([\"BAIRRO\", \"DATA_OCORRENCIA\"]).size().reset_index(name=\"COUNT\")\n",
    "\n",
    "for index, row in result.iterrows():\n",
    "    df.loc[(df[\"BAIRRO\"] == row.BAIRRO) & (df[\"DATA_OCORRENCIA\"] == row.DATA_OCORRENCIA), \"QUANTIDADE_ROUBOS\"] = row.COUNT"
   ]
  },
  {
   "cell_type": "code",
   "execution_count": null,
   "metadata": {},
   "outputs": [],
   "source": []
  },
  {
   "cell_type": "code",
   "execution_count": null,
   "metadata": {},
   "outputs": [],
   "source": [
    "\n",
    "# def quantidade_crimes(x):\n",
    "#     val = result.loc[(result[\"BAIRRO\"] == x.BAIRRO) & (result[\"DATA_OCORRENCIA\"] == x.DATA_OCORRENCIA), \"COUNT\"]\n",
    "#     print(val.value)\n",
    "    \n",
    "# #df.ANO_CONCLUSAO_2_GRAU = df_predict.apply(ano_de_conclusao, axis = 1)\n",
    "# df.apply(quantidade_crimes, axis = 1)"
   ]
  },
  {
   "cell_type": "code",
   "execution_count": null,
   "metadata": {},
   "outputs": [],
   "source": [
    "#df.drop(df[df['DN'].str.contains(\"25/04/1885\",na=False)].index, inplace=True)\n",
    "# 25/04/1885 \n",
    "#  df['IDADE'] = pd.to_datetime(df.DATA_OCORRENCIA) - pd.to_datetime(df.DN)\n",
    "# df.DN.value_counts()"
   ]
  },
  {
   "cell_type": "code",
   "execution_count": null,
   "metadata": {
    "collapsed": true
   },
   "outputs": [],
   "source": [
    "df.drop('TIPO_CRIME', axis=1, inplace=True)\n",
    "df.drop('CIDADE', axis=1, inplace=True)\n",
    "df.drop('RUA', axis=1, inplace=True)\n",
    "df.drop('HORARIO', axis=1, inplace=True)"
   ]
  },
  {
   "cell_type": "code",
   "execution_count": null,
   "metadata": {},
   "outputs": [],
   "source": [
    "df.head()"
   ]
  },
  {
   "cell_type": "code",
   "execution_count": null,
   "metadata": {},
   "outputs": [],
   "source": [
    "df.loc[df.GENERO_VITIMA == 'MASCULINO','GENERO_VITIMA'] = 1 #MASCULINO\n",
    "df.loc[df.GENERO_VITIMA == 'FEMININO','GENERO_VITIMA'] = 2 #FEMININO\n",
    "df.loc[df.GENERO_VITIMA == 'NÃO-INFORMADO','GENERO_VITIMA'] = 3 #'NÃO-INFORMADO'\n",
    "df.loc[df.GENERO_VITIMA.isnull(),'GENERO_VITIMA'] = 3 #'NÃO-INFORMADO'\n",
    "df.head()"
   ]
  },
  {
   "cell_type": "code",
   "execution_count": null,
   "metadata": {},
   "outputs": [],
   "source": [
    "df.corr(method='spearman')"
   ]
  },
  {
   "cell_type": "code",
   "execution_count": null,
   "metadata": {},
   "outputs": [],
   "source": [
    "df['DIA_SEMANA'] = df['DATA_OCORRENCIA'].dt.dayofweek"
   ]
  },
  {
   "cell_type": "code",
   "execution_count": null,
   "metadata": {},
   "outputs": [],
   "source": [
    "df.DIA_SEMANA.unique()"
   ]
  },
  {
   "cell_type": "code",
   "execution_count": null,
   "metadata": {},
   "outputs": [],
   "source": [
    "import datetime as dt\n",
    "df['DATA'] = pd.to_datetime(df['DATA_OCORRENCIA'])\n",
    "df['DATA']=df['DATA'].map(dt.datetime.toordinal)"
   ]
  },
  {
   "cell_type": "code",
   "execution_count": null,
   "metadata": {},
   "outputs": [],
   "source": []
  },
  {
   "cell_type": "code",
   "execution_count": null,
   "metadata": {},
   "outputs": [],
   "source": [
    "df.drop('DN', axis=1, inplace=True)\n",
    "df.drop('ITEM_ROUBADO', axis=1, inplace=True)"
   ]
  },
  {
   "cell_type": "code",
   "execution_count": null,
   "metadata": {},
   "outputs": [],
   "source": [
    "df.dropna(inplace=True)"
   ]
  },
  {
   "cell_type": "code",
   "execution_count": null,
   "metadata": {},
   "outputs": [],
   "source": [
    "# df.DATA_OCORRENCIA = df.DATA_OCORRENCIA.values.astype(np.int64)"
   ]
  },
  {
   "cell_type": "code",
   "execution_count": null,
   "metadata": {},
   "outputs": [],
   "source": [
    "features_values = df[['DATA','DIA_SEMANA','BAIRRO', 'GENERO_VITIMA','TIPO_DE_CRIME','HORA', 'PERIODO_HORA','IDADE']].values\n",
    "features_values"
   ]
  },
  {
   "cell_type": "code",
   "execution_count": null,
   "metadata": {},
   "outputs": [],
   "source": [
    "targuet_values = df[['QUANTIDADE_ROUBOS']].values\n",
    "targuet_values = targuet_values[:,np.newaxis,0]\n",
    "targuet_values"
   ]
  },
  {
   "cell_type": "code",
   "execution_count": null,
   "metadata": {},
   "outputs": [],
   "source": [
    "result = df.groupby([\"BAIRRO\"]).size().reset_index(name=\"COUNT\")\n",
    "result"
   ]
  },
  {
   "cell_type": "code",
   "execution_count": null,
   "metadata": {
    "collapsed": true
   },
   "outputs": [],
   "source": [
    "for index, row in result.iterrows():\n",
    "    df.loc[(df[\"BAIRRO\"] == row.BAIRRO), \"N_BAIRRO\"] = index"
   ]
  },
  {
   "cell_type": "code",
   "execution_count": null,
   "metadata": {},
   "outputs": [],
   "source": [
    "features_values = df[['DATA','DIA_SEMANA','N_BAIRRO', 'GENERO_VITIMA','TIPO_DE_CRIME','HORA', 'PERIODO_HORA','IDADE']].values\n",
    "features_values"
   ]
  },
  {
   "cell_type": "code",
   "execution_count": null,
   "metadata": {},
   "outputs": [],
   "source": []
  },
  {
   "cell_type": "code",
   "execution_count": null,
   "metadata": {},
   "outputs": [],
   "source": [
    "from sklearn import linear_model\n",
    "regr = linear_model.LinearRegression()\n",
    "regr.fit(features_values,targuet_values)"
   ]
  },
  {
   "cell_type": "code",
   "execution_count": null,
   "metadata": {},
   "outputs": [],
   "source": [
    "from sklearn.model_selection import train_test_split\n",
    "\n",
    "X_train, X_test, y_train, y_test = train_test_split(features_values, targuet_values, test_size=0.8, random_state=42)\n",
    "\n",
    "regr.fit(X_train, y_train)\n",
    "regr.score(X_test,y_test)"
   ]
  },
  {
   "cell_type": "code",
   "execution_count": null,
   "metadata": {
    "collapsed": true
   },
   "outputs": [],
   "source": []
  }
 ],
 "metadata": {
  "kernelspec": {
   "display_name": "Python 3",
   "language": "python",
   "name": "python3"
  },
  "language_info": {
   "codemirror_mode": {
    "name": "ipython",
    "version": 3
   },
   "file_extension": ".py",
   "mimetype": "text/x-python",
   "name": "python",
   "nbconvert_exporter": "python",
   "pygments_lexer": "ipython3",
   "version": "3.6.1"
  }
 },
 "nbformat": 4,
 "nbformat_minor": 2
}
